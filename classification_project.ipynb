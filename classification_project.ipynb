{
 "cells": [
  {
   "cell_type": "markdown",
   "metadata": {},
   "source": [
    "# Acquire Data"
   ]
  },
  {
   "cell_type": "code",
   "execution_count": 191,
   "metadata": {},
   "outputs": [],
   "source": [
    "import pandas as pd\n",
    "import numpy as np\n",
    "import os\n",
    "import matplotlib.pyplot as plt\n",
    "import explore\n",
    "from env import host, username, password\n",
    "import acquire"
   ]
  },
  {
   "cell_type": "code",
   "execution_count": 192,
   "metadata": {},
   "outputs": [],
   "source": [
    "# Get connection url using get_connection function from acquire\n",
    "url = acquire.get_connection('telco_churn')"
   ]
  },
  {
   "cell_type": "code",
   "execution_count": 193,
   "metadata": {},
   "outputs": [],
   "source": [
    "# Acquire Telco data from Codeup SQL database using acquire.telco_data function\n",
    "telco_df = acquire.telco_data()"
   ]
  },
  {
   "cell_type": "code",
   "execution_count": 194,
   "metadata": {},
   "outputs": [
    {
     "data": {
      "text/html": [
       "<div>\n",
       "<style scoped>\n",
       "    .dataframe tbody tr th:only-of-type {\n",
       "        vertical-align: middle;\n",
       "    }\n",
       "\n",
       "    .dataframe tbody tr th {\n",
       "        vertical-align: top;\n",
       "    }\n",
       "\n",
       "    .dataframe thead th {\n",
       "        text-align: right;\n",
       "    }\n",
       "</style>\n",
       "<table border=\"1\" class=\"dataframe\">\n",
       "  <thead>\n",
       "    <tr style=\"text-align: right;\">\n",
       "      <th></th>\n",
       "      <th>payment_type_id</th>\n",
       "      <th>internet_service_type_id</th>\n",
       "      <th>contract_type_id</th>\n",
       "      <th>customer_id</th>\n",
       "      <th>gender</th>\n",
       "      <th>senior_citizen</th>\n",
       "      <th>partner</th>\n",
       "      <th>dependents</th>\n",
       "      <th>tenure</th>\n",
       "      <th>phone_service</th>\n",
       "      <th>...</th>\n",
       "      <th>tech_support</th>\n",
       "      <th>streaming_tv</th>\n",
       "      <th>streaming_movies</th>\n",
       "      <th>paperless_billing</th>\n",
       "      <th>monthly_charges</th>\n",
       "      <th>total_charges</th>\n",
       "      <th>churn</th>\n",
       "      <th>contract_type</th>\n",
       "      <th>internet_service_type</th>\n",
       "      <th>payment_type</th>\n",
       "    </tr>\n",
       "  </thead>\n",
       "  <tbody>\n",
       "    <tr>\n",
       "      <th>0</th>\n",
       "      <td>2</td>\n",
       "      <td>1</td>\n",
       "      <td>3</td>\n",
       "      <td>0016-QLJIS</td>\n",
       "      <td>Female</td>\n",
       "      <td>0</td>\n",
       "      <td>Yes</td>\n",
       "      <td>Yes</td>\n",
       "      <td>65</td>\n",
       "      <td>Yes</td>\n",
       "      <td>...</td>\n",
       "      <td>Yes</td>\n",
       "      <td>Yes</td>\n",
       "      <td>Yes</td>\n",
       "      <td>Yes</td>\n",
       "      <td>90.45</td>\n",
       "      <td>5957.9</td>\n",
       "      <td>No</td>\n",
       "      <td>Two year</td>\n",
       "      <td>DSL</td>\n",
       "      <td>Mailed check</td>\n",
       "    </tr>\n",
       "    <tr>\n",
       "      <th>1</th>\n",
       "      <td>4</td>\n",
       "      <td>1</td>\n",
       "      <td>3</td>\n",
       "      <td>0017-DINOC</td>\n",
       "      <td>Male</td>\n",
       "      <td>0</td>\n",
       "      <td>No</td>\n",
       "      <td>No</td>\n",
       "      <td>54</td>\n",
       "      <td>No</td>\n",
       "      <td>...</td>\n",
       "      <td>Yes</td>\n",
       "      <td>Yes</td>\n",
       "      <td>No</td>\n",
       "      <td>No</td>\n",
       "      <td>45.20</td>\n",
       "      <td>2460.55</td>\n",
       "      <td>No</td>\n",
       "      <td>Two year</td>\n",
       "      <td>DSL</td>\n",
       "      <td>Credit card (automatic)</td>\n",
       "    </tr>\n",
       "    <tr>\n",
       "      <th>2</th>\n",
       "      <td>3</td>\n",
       "      <td>1</td>\n",
       "      <td>3</td>\n",
       "      <td>0019-GFNTW</td>\n",
       "      <td>Female</td>\n",
       "      <td>0</td>\n",
       "      <td>No</td>\n",
       "      <td>No</td>\n",
       "      <td>56</td>\n",
       "      <td>No</td>\n",
       "      <td>...</td>\n",
       "      <td>Yes</td>\n",
       "      <td>No</td>\n",
       "      <td>No</td>\n",
       "      <td>No</td>\n",
       "      <td>45.05</td>\n",
       "      <td>2560.1</td>\n",
       "      <td>No</td>\n",
       "      <td>Two year</td>\n",
       "      <td>DSL</td>\n",
       "      <td>Bank transfer (automatic)</td>\n",
       "    </tr>\n",
       "    <tr>\n",
       "      <th>3</th>\n",
       "      <td>4</td>\n",
       "      <td>1</td>\n",
       "      <td>3</td>\n",
       "      <td>0056-EPFBG</td>\n",
       "      <td>Male</td>\n",
       "      <td>0</td>\n",
       "      <td>Yes</td>\n",
       "      <td>Yes</td>\n",
       "      <td>20</td>\n",
       "      <td>No</td>\n",
       "      <td>...</td>\n",
       "      <td>Yes</td>\n",
       "      <td>No</td>\n",
       "      <td>No</td>\n",
       "      <td>Yes</td>\n",
       "      <td>39.40</td>\n",
       "      <td>825.4</td>\n",
       "      <td>No</td>\n",
       "      <td>Two year</td>\n",
       "      <td>DSL</td>\n",
       "      <td>Credit card (automatic)</td>\n",
       "    </tr>\n",
       "    <tr>\n",
       "      <th>4</th>\n",
       "      <td>3</td>\n",
       "      <td>1</td>\n",
       "      <td>3</td>\n",
       "      <td>0078-XZMHT</td>\n",
       "      <td>Male</td>\n",
       "      <td>0</td>\n",
       "      <td>Yes</td>\n",
       "      <td>No</td>\n",
       "      <td>72</td>\n",
       "      <td>Yes</td>\n",
       "      <td>...</td>\n",
       "      <td>Yes</td>\n",
       "      <td>Yes</td>\n",
       "      <td>Yes</td>\n",
       "      <td>Yes</td>\n",
       "      <td>85.15</td>\n",
       "      <td>6316.2</td>\n",
       "      <td>No</td>\n",
       "      <td>Two year</td>\n",
       "      <td>DSL</td>\n",
       "      <td>Bank transfer (automatic)</td>\n",
       "    </tr>\n",
       "  </tbody>\n",
       "</table>\n",
       "<p>5 rows × 24 columns</p>\n",
       "</div>"
      ],
      "text/plain": [
       "   payment_type_id  internet_service_type_id  contract_type_id customer_id  \\\n",
       "0                2                         1                 3  0016-QLJIS   \n",
       "1                4                         1                 3  0017-DINOC   \n",
       "2                3                         1                 3  0019-GFNTW   \n",
       "3                4                         1                 3  0056-EPFBG   \n",
       "4                3                         1                 3  0078-XZMHT   \n",
       "\n",
       "   gender  senior_citizen partner dependents  tenure phone_service  ...  \\\n",
       "0  Female               0     Yes        Yes      65           Yes  ...   \n",
       "1    Male               0      No         No      54            No  ...   \n",
       "2  Female               0      No         No      56            No  ...   \n",
       "3    Male               0     Yes        Yes      20            No  ...   \n",
       "4    Male               0     Yes         No      72           Yes  ...   \n",
       "\n",
       "  tech_support streaming_tv streaming_movies paperless_billing  \\\n",
       "0          Yes          Yes              Yes               Yes   \n",
       "1          Yes          Yes               No                No   \n",
       "2          Yes           No               No                No   \n",
       "3          Yes           No               No               Yes   \n",
       "4          Yes          Yes              Yes               Yes   \n",
       "\n",
       "  monthly_charges total_charges churn contract_type  internet_service_type  \\\n",
       "0           90.45        5957.9    No      Two year                    DSL   \n",
       "1           45.20       2460.55    No      Two year                    DSL   \n",
       "2           45.05        2560.1    No      Two year                    DSL   \n",
       "3           39.40         825.4    No      Two year                    DSL   \n",
       "4           85.15        6316.2    No      Two year                    DSL   \n",
       "\n",
       "                payment_type  \n",
       "0               Mailed check  \n",
       "1    Credit card (automatic)  \n",
       "2  Bank transfer (automatic)  \n",
       "3    Credit card (automatic)  \n",
       "4  Bank transfer (automatic)  \n",
       "\n",
       "[5 rows x 24 columns]"
      ]
     },
     "execution_count": 194,
     "metadata": {},
     "output_type": "execute_result"
    }
   ],
   "source": [
    "# Rough telco_df import\n",
    "telco_df.head()"
   ]
  },
  {
   "cell_type": "markdown",
   "metadata": {},
   "source": [
    "***\n",
    "Observations:\n",
    "* Drop Columns (redundant): ['customer_id']\n",
    "* Binary Conversions: ['gender', 'partner', 'dependents', 'phone_service', 'multiple_lines', 'online_security', 'online_backup', 'device_protection', 'tech_support', 'streaming_tv', 'streaming_movies', 'paperless_billing', 'churn']\n",
    "    * gender will have to be converted to is_male \n",
    "* Reference Data to leave in original df but leave out of Train data (note: numeric data in separate column): ['contract_type', 'internet_service_type', 'payment_type']    \n",
    "* Assumptive manipulation --> following columns contain data (No Internet & No phone service) that may be valuable to explore how this extra feature subset impacts behavior of separate feature but for purposes of initial review I will convert to binary: ['online_security', 'online_backup', 'device_protection', 'tech_support', 'streaming_tv', 'streaming_movies']\n",
    "***"
   ]
  },
  {
   "cell_type": "code",
   "execution_count": 195,
   "metadata": {},
   "outputs": [
    {
     "name": "stdout",
     "output_type": "stream",
     "text": [
      "<class 'pandas.core.frame.DataFrame'>\n",
      "RangeIndex: 7043 entries, 0 to 7042\n",
      "Data columns (total 24 columns):\n",
      " #   Column                    Non-Null Count  Dtype  \n",
      "---  ------                    --------------  -----  \n",
      " 0   payment_type_id           7043 non-null   int64  \n",
      " 1   internet_service_type_id  7043 non-null   int64  \n",
      " 2   contract_type_id          7043 non-null   int64  \n",
      " 3   customer_id               7043 non-null   object \n",
      " 4   gender                    7043 non-null   object \n",
      " 5   senior_citizen            7043 non-null   int64  \n",
      " 6   partner                   7043 non-null   object \n",
      " 7   dependents                7043 non-null   object \n",
      " 8   tenure                    7043 non-null   int64  \n",
      " 9   phone_service             7043 non-null   object \n",
      " 10  multiple_lines            7043 non-null   object \n",
      " 11  online_security           7043 non-null   object \n",
      " 12  online_backup             7043 non-null   object \n",
      " 13  device_protection         7043 non-null   object \n",
      " 14  tech_support              7043 non-null   object \n",
      " 15  streaming_tv              7043 non-null   object \n",
      " 16  streaming_movies          7043 non-null   object \n",
      " 17  paperless_billing         7043 non-null   object \n",
      " 18  monthly_charges           7043 non-null   float64\n",
      " 19  total_charges             7043 non-null   object \n",
      " 20  churn                     7043 non-null   object \n",
      " 21  contract_type             7043 non-null   object \n",
      " 22  internet_service_type     7043 non-null   object \n",
      " 23  payment_type              7043 non-null   object \n",
      "dtypes: float64(1), int64(5), object(18)\n",
      "memory usage: 1.3+ MB\n"
     ]
    }
   ],
   "source": [
    "# DF info summary stats\n",
    "telco_df.info()"
   ]
  },
  {
   "cell_type": "markdown",
   "metadata": {},
   "source": [
    "***\n",
    "### info() summary:\n",
    "* 6 numerical & 17 categorical dtypes\n",
    "* 0 \"missing\" and 0 'null' values \n",
    "* numerics- 1 float and 5 int dtypes\n",
    "\n",
    "NOTE: total_charges in str format (need to convert to continuous numeric)\n",
    "***"
   ]
  },
  {
   "cell_type": "code",
   "execution_count": 196,
   "metadata": {},
   "outputs": [
    {
     "data": {
      "text/html": [
       "<div>\n",
       "<style scoped>\n",
       "    .dataframe tbody tr th:only-of-type {\n",
       "        vertical-align: middle;\n",
       "    }\n",
       "\n",
       "    .dataframe tbody tr th {\n",
       "        vertical-align: top;\n",
       "    }\n",
       "\n",
       "    .dataframe thead th {\n",
       "        text-align: right;\n",
       "    }\n",
       "</style>\n",
       "<table border=\"1\" class=\"dataframe\">\n",
       "  <thead>\n",
       "    <tr style=\"text-align: right;\">\n",
       "      <th></th>\n",
       "      <th>payment_type_id</th>\n",
       "      <th>internet_service_type_id</th>\n",
       "      <th>contract_type_id</th>\n",
       "      <th>senior_citizen</th>\n",
       "      <th>tenure</th>\n",
       "      <th>monthly_charges</th>\n",
       "    </tr>\n",
       "  </thead>\n",
       "  <tbody>\n",
       "    <tr>\n",
       "      <th>count</th>\n",
       "      <td>7043.000000</td>\n",
       "      <td>7043.000000</td>\n",
       "      <td>7043.000000</td>\n",
       "      <td>7043.000000</td>\n",
       "      <td>7043.000000</td>\n",
       "      <td>7043.000000</td>\n",
       "    </tr>\n",
       "    <tr>\n",
       "      <th>mean</th>\n",
       "      <td>2.315633</td>\n",
       "      <td>1.872923</td>\n",
       "      <td>1.690473</td>\n",
       "      <td>0.162147</td>\n",
       "      <td>32.371149</td>\n",
       "      <td>64.761692</td>\n",
       "    </tr>\n",
       "    <tr>\n",
       "      <th>std</th>\n",
       "      <td>1.148907</td>\n",
       "      <td>0.737796</td>\n",
       "      <td>0.833755</td>\n",
       "      <td>0.368612</td>\n",
       "      <td>24.559481</td>\n",
       "      <td>30.090047</td>\n",
       "    </tr>\n",
       "    <tr>\n",
       "      <th>min</th>\n",
       "      <td>1.000000</td>\n",
       "      <td>1.000000</td>\n",
       "      <td>1.000000</td>\n",
       "      <td>0.000000</td>\n",
       "      <td>0.000000</td>\n",
       "      <td>18.250000</td>\n",
       "    </tr>\n",
       "    <tr>\n",
       "      <th>25%</th>\n",
       "      <td>1.000000</td>\n",
       "      <td>1.000000</td>\n",
       "      <td>1.000000</td>\n",
       "      <td>0.000000</td>\n",
       "      <td>9.000000</td>\n",
       "      <td>35.500000</td>\n",
       "    </tr>\n",
       "    <tr>\n",
       "      <th>50%</th>\n",
       "      <td>2.000000</td>\n",
       "      <td>2.000000</td>\n",
       "      <td>1.000000</td>\n",
       "      <td>0.000000</td>\n",
       "      <td>29.000000</td>\n",
       "      <td>70.350000</td>\n",
       "    </tr>\n",
       "    <tr>\n",
       "      <th>75%</th>\n",
       "      <td>3.000000</td>\n",
       "      <td>2.000000</td>\n",
       "      <td>2.000000</td>\n",
       "      <td>0.000000</td>\n",
       "      <td>55.000000</td>\n",
       "      <td>89.850000</td>\n",
       "    </tr>\n",
       "    <tr>\n",
       "      <th>max</th>\n",
       "      <td>4.000000</td>\n",
       "      <td>3.000000</td>\n",
       "      <td>3.000000</td>\n",
       "      <td>1.000000</td>\n",
       "      <td>72.000000</td>\n",
       "      <td>118.750000</td>\n",
       "    </tr>\n",
       "  </tbody>\n",
       "</table>\n",
       "</div>"
      ],
      "text/plain": [
       "       payment_type_id  internet_service_type_id  contract_type_id  \\\n",
       "count      7043.000000               7043.000000       7043.000000   \n",
       "mean          2.315633                  1.872923          1.690473   \n",
       "std           1.148907                  0.737796          0.833755   \n",
       "min           1.000000                  1.000000          1.000000   \n",
       "25%           1.000000                  1.000000          1.000000   \n",
       "50%           2.000000                  2.000000          1.000000   \n",
       "75%           3.000000                  2.000000          2.000000   \n",
       "max           4.000000                  3.000000          3.000000   \n",
       "\n",
       "       senior_citizen       tenure  monthly_charges  \n",
       "count     7043.000000  7043.000000      7043.000000  \n",
       "mean         0.162147    32.371149        64.761692  \n",
       "std          0.368612    24.559481        30.090047  \n",
       "min          0.000000     0.000000        18.250000  \n",
       "25%          0.000000     9.000000        35.500000  \n",
       "50%          0.000000    29.000000        70.350000  \n",
       "75%          0.000000    55.000000        89.850000  \n",
       "max          1.000000    72.000000       118.750000  "
      ]
     },
     "execution_count": 196,
     "metadata": {},
     "output_type": "execute_result"
    }
   ],
   "source": [
    "# Describe (assumption: all numerical/continues data included)\n",
    "telco_df.describe()"
   ]
  },
  {
   "cell_type": "markdown",
   "metadata": {},
   "source": [
    "***\n",
    "### describe() summary:\n",
    "* Continuous values: ['tenure', 'monthly_charges']\n",
    "* Categorical numerical values: ['payment_type_id', 'internet_service_type_id', 'contract_type_id', 'senior_citizen']\n",
    "***    "
   ]
  },
  {
   "cell_type": "code",
   "execution_count": 197,
   "metadata": {},
   "outputs": [
    {
     "data": {
      "text/plain": [
       "([], [])"
      ]
     },
     "execution_count": 197,
     "metadata": {},
     "output_type": "execute_result"
    },
    {
     "data": {
      "image/png": "[encoded data removed]",
      "text/plain": [
       "<Figure size 432x288 with 2 Axes>"
      ]
     },
     "metadata": {
      "needs_background": "light"
     },
     "output_type": "display_data"
    }
   ],
   "source": [
    "# investigate the telco_df data further to see if any categorical dtypes contain, na, empty or blank values\n",
    "# Visualize the 'na' and ' ' first\n",
    "plt.subplot(1, 2, 1)\n",
    "plt.plot((telco_df==' ').sum())\n",
    "plt.xticks([])\n",
    "\n",
    "plt.subplot(1, 2, 2)\n",
    "plt.plot((telco_df=='na').sum())\n",
    "plt.xticks([])"
   ]
  },
  {
   "cell_type": "code",
   "execution_count": 198,
   "metadata": {},
   "outputs": [
    {
     "name": "stdout",
     "output_type": "stream",
     "text": [
      "payment_type_id              0\n",
      "internet_service_type_id     0\n",
      "contract_type_id             0\n",
      "customer_id                  0\n",
      "gender                       0\n",
      "senior_citizen               0\n",
      "partner                      0\n",
      "dependents                   0\n",
      "tenure                       0\n",
      "phone_service                0\n",
      "multiple_lines               0\n",
      "online_security              0\n",
      "online_backup                0\n",
      "device_protection            0\n",
      "tech_support                 0\n",
      "streaming_tv                 0\n",
      "streaming_movies             0\n",
      "paperless_billing            0\n",
      "monthly_charges              0\n",
      "total_charges               11\n",
      "churn                        0\n",
      "contract_type                0\n",
      "internet_service_type        0\n",
      "payment_type                 0\n",
      "dtype: int64\n"
     ]
    }
   ],
   "source": [
    "# Visualizations show 0 categorical dtype contain 'na' and one contains  ' '.\n",
    "# Use a sum of booleans to identify which feature contains ' ' and how many\n",
    "print((telco_df == ' ').sum())"
   ]
  },
  {
   "cell_type": "markdown",
   "metadata": {},
   "source": [
    "***\n",
    "NOTE: Will have to decide during Data Preparation how to address the 11 empty string values for total_charges \n",
    "***"
   ]
  },
  {
   "cell_type": "code",
   "execution_count": 199,
   "metadata": {},
   "outputs": [],
   "source": [
    "# List quant_vars & cat_vars\n",
    "quant_vars = ['tenure', 'monthly_charges', 'payment_type_id', 'internet_service_type_id', 'contract_type_id', 'senior_citizen']\n",
    "cat_vars = ['customer_id', 'gender', 'partner', 'dependents', 'phone_service', 'multiple_lines', 'online_security', 'online_backup', 'device_protection', 'tech_support', 'streaming_tv', 'streaming_movies', 'paperless_billing', 'total_charges', 'churn', 'contract_type', 'internet_service_type', 'payment_type']"
   ]
  },
  {
   "cell_type": "markdown",
   "metadata": {},
   "source": [
    "# Data Preparation"
   ]
  },
  {
   "cell_type": "code",
   "execution_count": 200,
   "metadata": {},
   "outputs": [],
   "source": [
    "# import splitting and imputing functions\n",
    "from sklearn.model_selection import train_test_split\n",
    "from sklearn.impute import SimpleImputer\n",
    "\n",
    "# turn off pink boxes for demo\n",
    "import warnings\n",
    "warnings.filterwarnings(\"ignore\")\n",
    "\n",
    "# import our own acquire module\n",
    "import acquire"
   ]
  },
  {
   "cell_type": "markdown",
   "metadata": {},
   "source": [
    "#### Prep data on observations made during Acquire stage"
   ]
  },
  {
   "cell_type": "code",
   "execution_count": 201,
   "metadata": {},
   "outputs": [],
   "source": [
    "# Drop redundant column and begin prepping data set\n",
    "prep_df = telco_df.drop(columns=['customer_id'])"
   ]
  },
  {
   "cell_type": "code",
   "execution_count": 202,
   "metadata": {},
   "outputs": [
    {
     "data": {
      "text/plain": [
       "0          11\n",
       "20.2       11\n",
       "19.75       9\n",
       "20.05       8\n",
       "19.9        8\n",
       "           ..\n",
       "860.85      1\n",
       "1533.8      1\n",
       "168.6       1\n",
       "3734.25     1\n",
       "4245.55     1\n",
       "Name: total_charges, Length: 6531, dtype: int64"
      ]
     },
     "execution_count": 202,
     "metadata": {},
     "output_type": "execute_result"
    }
   ],
   "source": [
    "# After running into an issue below, I decided to convert the total_charges spaces to a zero at this point. \n",
    "prep_df['total_charges'] = prep_df['total_charges'].replace(' ', 0)\n",
    "\n",
    "#Also ran a value counts to make sure I now have 11 zeros instead of empty values.\n",
    "prep_df['total_charges'].value_counts()"
   ]
  },
  {
   "cell_type": "code",
   "execution_count": 203,
   "metadata": {},
   "outputs": [],
   "source": [
    "# Convert total_charges from a str to a float\n",
    "prep_df['total_charges'] = prep_df['total_charges'].astype(float)"
   ]
  },
  {
   "cell_type": "markdown",
   "metadata": {},
   "source": [
    "NOTE: Received an error here initially and after investigation, the empty entries created the issue  After revewing the data, the empty values are direclty associated with new contracts, so to address this issue, I decided to enter an amount of 0 for these entries as it appears they have not gone through a bililng cycle and therefore have no cumulative charges to show. Addressed this in previous cell."
   ]
  },
  {
   "cell_type": "code",
   "execution_count": 204,
   "metadata": {},
   "outputs": [],
   "source": [
    "# Drop columns with reference data\n",
    "prep_df = prep_df.drop(columns=['contract_type', 'internet_service_type', 'payment_type'])"
   ]
  },
  {
   "cell_type": "code",
   "execution_count": 205,
   "metadata": {},
   "outputs": [
    {
     "data": {
      "text/plain": [
       "payment_type_id               int64\n",
       "internet_service_type_id      int64\n",
       "contract_type_id              int64\n",
       "gender                       object\n",
       "senior_citizen                int64\n",
       "partner                      object\n",
       "dependents                   object\n",
       "tenure                        int64\n",
       "phone_service                object\n",
       "multiple_lines               object\n",
       "online_security              object\n",
       "online_backup                object\n",
       "device_protection            object\n",
       "tech_support                 object\n",
       "streaming_tv                 object\n",
       "streaming_movies             object\n",
       "paperless_billing            object\n",
       "monthly_charges             float64\n",
       "total_charges               float64\n",
       "churn                        object\n",
       "dtype: object"
      ]
     },
     "execution_count": 205,
     "metadata": {},
     "output_type": "execute_result"
    }
   ],
   "source": [
    "# Control check on the dtypes of my prep_df at this point\n",
    "prep_df.dtypes"
   ]
  },
  {
   "cell_type": "code",
   "execution_count": 206,
   "metadata": {},
   "outputs": [
    {
     "name": "stdout",
     "output_type": "stream",
     "text": [
      "1     613\n",
      "72    362\n",
      "2     238\n",
      "3     200\n",
      "4     176\n",
      "     ... \n",
      "28     57\n",
      "39     56\n",
      "44     51\n",
      "36     50\n",
      "0      11\n",
      "Name: tenure, Length: 73, dtype: int64\n",
      "**********************\n",
      "20.05     61\n",
      "19.85     45\n",
      "19.95     44\n",
      "19.90     44\n",
      "20.00     43\n",
      "          ..\n",
      "56.85      1\n",
      "92.65      1\n",
      "109.85     1\n",
      "35.70      1\n",
      "61.95      1\n",
      "Name: monthly_charges, Length: 1585, dtype: int64\n",
      "**********************\n",
      "1    2365\n",
      "2    1612\n",
      "3    1544\n",
      "4    1522\n",
      "Name: payment_type_id, dtype: int64\n",
      "**********************\n",
      "2    3096\n",
      "1    2421\n",
      "3    1526\n",
      "Name: internet_service_type_id, dtype: int64\n",
      "**********************\n",
      "1    3875\n",
      "3    1695\n",
      "2    1473\n",
      "Name: contract_type_id, dtype: int64\n",
      "**********************\n",
      "0    5901\n",
      "1    1142\n",
      "Name: senior_citizen, dtype: int64\n",
      "**********************\n",
      "Male      3555\n",
      "Female    3488\n",
      "Name: gender, dtype: int64\n",
      "**********************\n",
      "No     3641\n",
      "Yes    3402\n",
      "Name: partner, dtype: int64\n",
      "**********************\n",
      "No     4933\n",
      "Yes    2110\n",
      "Name: dependents, dtype: int64\n",
      "**********************\n",
      "Yes    6361\n",
      "No      682\n",
      "Name: phone_service, dtype: int64\n",
      "**********************\n",
      "No                  3390\n",
      "Yes                 2971\n",
      "No phone service     682\n",
      "Name: multiple_lines, dtype: int64\n",
      "**********************\n",
      "No                     3498\n",
      "Yes                    2019\n",
      "No internet service    1526\n",
      "Name: online_security, dtype: int64\n",
      "**********************\n",
      "No                     3088\n",
      "Yes                    2429\n",
      "No internet service    1526\n",
      "Name: online_backup, dtype: int64\n",
      "**********************\n",
      "No                     3095\n",
      "Yes                    2422\n",
      "No internet service    1526\n",
      "Name: device_protection, dtype: int64\n",
      "**********************\n",
      "No                     3473\n",
      "Yes                    2044\n",
      "No internet service    1526\n",
      "Name: tech_support, dtype: int64\n",
      "**********************\n",
      "No                     2810\n",
      "Yes                    2707\n",
      "No internet service    1526\n",
      "Name: streaming_tv, dtype: int64\n",
      "**********************\n",
      "No                     2785\n",
      "Yes                    2732\n",
      "No internet service    1526\n",
      "Name: streaming_movies, dtype: int64\n",
      "**********************\n",
      "Yes    4171\n",
      "No     2872\n",
      "Name: paperless_billing, dtype: int64\n",
      "**********************\n",
      "0.00       11\n",
      "20.20      11\n",
      "19.75       9\n",
      "20.05       8\n",
      "19.65       8\n",
      "           ..\n",
      "344.20      1\n",
      "2766.40     1\n",
      "96.05       1\n",
      "1588.75     1\n",
      "1151.55     1\n",
      "Name: total_charges, Length: 6531, dtype: int64\n",
      "**********************\n",
      "No     5174\n",
      "Yes    1869\n",
      "Name: churn, dtype: int64\n",
      "**********************\n"
     ]
    }
   ],
   "source": [
    "# Now that I'm ready to convert Yes/No to 1/0 across entire df, taking a value_counts snapshot of my prep_df at this point as a control for later potential reference\n",
    "columns = ['tenure', 'monthly_charges', 'payment_type_id', 'internet_service_type_id', 'contract_type_id', 'senior_citizen', 'gender', 'partner', 'dependents', 'phone_service', 'multiple_lines', 'online_security', 'online_backup', 'device_protection', 'tech_support', 'streaming_tv', 'streaming_movies', 'paperless_billing', 'total_charges', 'churn']\n",
    "for col in columns:\n",
    "    print(prep_df[col].value_counts())\n",
    "    print('**********************')"
   ]
  },
  {
   "cell_type": "code",
   "execution_count": 207,
   "metadata": {},
   "outputs": [],
   "source": [
    "# Replace Yes/No entries with 1/0 across entire df\n",
    "prep_df = prep_df.replace({'Yes':1, 'No':0})"
   ]
  },
  {
   "cell_type": "code",
   "execution_count": 208,
   "metadata": {},
   "outputs": [
    {
     "name": "stdout",
     "output_type": "stream",
     "text": [
      "1     613\n",
      "72    362\n",
      "2     238\n",
      "3     200\n",
      "4     176\n",
      "     ... \n",
      "28     57\n",
      "39     56\n",
      "44     51\n",
      "36     50\n",
      "0      11\n",
      "Name: tenure, Length: 73, dtype: int64\n",
      "**********************\n",
      "20.05     61\n",
      "19.85     45\n",
      "19.95     44\n",
      "19.90     44\n",
      "20.00     43\n",
      "          ..\n",
      "56.85      1\n",
      "92.65      1\n",
      "109.85     1\n",
      "35.70      1\n",
      "61.95      1\n",
      "Name: monthly_charges, Length: 1585, dtype: int64\n",
      "**********************\n",
      "1    2365\n",
      "2    1612\n",
      "3    1544\n",
      "4    1522\n",
      "Name: payment_type_id, dtype: int64\n",
      "**********************\n",
      "2    3096\n",
      "1    2421\n",
      "3    1526\n",
      "Name: internet_service_type_id, dtype: int64\n",
      "**********************\n",
      "1    3875\n",
      "3    1695\n",
      "2    1473\n",
      "Name: contract_type_id, dtype: int64\n",
      "**********************\n",
      "0    5901\n",
      "1    1142\n",
      "Name: senior_citizen, dtype: int64\n",
      "**********************\n",
      "Male      3555\n",
      "Female    3488\n",
      "Name: gender, dtype: int64\n",
      "**********************\n",
      "0    3641\n",
      "1    3402\n",
      "Name: partner, dtype: int64\n",
      "**********************\n",
      "0    4933\n",
      "1    2110\n",
      "Name: dependents, dtype: int64\n",
      "**********************\n",
      "1    6361\n",
      "0     682\n",
      "Name: phone_service, dtype: int64\n",
      "**********************\n",
      "0                   3390\n",
      "1                   2971\n",
      "No phone service     682\n",
      "Name: multiple_lines, dtype: int64\n",
      "**********************\n",
      "0                      3498\n",
      "1                      2019\n",
      "No internet service    1526\n",
      "Name: online_security, dtype: int64\n",
      "**********************\n",
      "0                      3088\n",
      "1                      2429\n",
      "No internet service    1526\n",
      "Name: online_backup, dtype: int64\n",
      "**********************\n",
      "0                      3095\n",
      "1                      2422\n",
      "No internet service    1526\n",
      "Name: device_protection, dtype: int64\n",
      "**********************\n",
      "0                      3473\n",
      "1                      2044\n",
      "No internet service    1526\n",
      "Name: tech_support, dtype: int64\n",
      "**********************\n",
      "0                      2810\n",
      "1                      2707\n",
      "No internet service    1526\n",
      "Name: streaming_tv, dtype: int64\n",
      "**********************\n",
      "0                      2785\n",
      "1                      2732\n",
      "No internet service    1526\n",
      "Name: streaming_movies, dtype: int64\n",
      "**********************\n",
      "1    4171\n",
      "0    2872\n",
      "Name: paperless_billing, dtype: int64\n",
      "**********************\n",
      "0.00       11\n",
      "20.20      11\n",
      "19.75       9\n",
      "20.05       8\n",
      "19.65       8\n",
      "           ..\n",
      "344.20      1\n",
      "2766.40     1\n",
      "96.05       1\n",
      "1588.75     1\n",
      "1151.55     1\n",
      "Name: total_charges, Length: 6531, dtype: int64\n",
      "**********************\n",
      "0    5174\n",
      "1    1869\n",
      "Name: churn, dtype: int64\n",
      "**********************\n"
     ]
    }
   ],
   "source": [
    "# Check to make sure replace was successful.  NOTE: language containing No was not replaced, need to address in next step\n",
    "columns = ['tenure', 'monthly_charges', 'payment_type_id', 'internet_service_type_id', 'contract_type_id', 'senior_citizen', 'gender', 'partner', 'dependents', 'phone_service', 'multiple_lines', 'online_security', 'online_backup', 'device_protection', 'tech_support', 'streaming_tv', 'streaming_movies', 'paperless_billing', 'total_charges', 'churn']\n",
    "for col in columns:\n",
    "    print(prep_df[col].value_counts())\n",
    "    print('**********************')"
   ]
  },
  {
   "cell_type": "code",
   "execution_count": 209,
   "metadata": {},
   "outputs": [
    {
     "name": "stdout",
     "output_type": "stream",
     "text": [
      "1     613\n",
      "72    362\n",
      "2     238\n",
      "3     200\n",
      "4     176\n",
      "     ... \n",
      "28     57\n",
      "39     56\n",
      "44     51\n",
      "36     50\n",
      "0      11\n",
      "Name: tenure, Length: 73, dtype: int64\n",
      "**********************\n",
      "20.05     61\n",
      "19.85     45\n",
      "19.95     44\n",
      "19.90     44\n",
      "20.00     43\n",
      "          ..\n",
      "56.85      1\n",
      "92.65      1\n",
      "109.85     1\n",
      "35.70      1\n",
      "61.95      1\n",
      "Name: monthly_charges, Length: 1585, dtype: int64\n",
      "**********************\n",
      "1    2365\n",
      "2    1612\n",
      "3    1544\n",
      "4    1522\n",
      "Name: payment_type_id, dtype: int64\n",
      "**********************\n",
      "2    3096\n",
      "1    2421\n",
      "3    1526\n",
      "Name: internet_service_type_id, dtype: int64\n",
      "**********************\n",
      "1    3875\n",
      "3    1695\n",
      "2    1473\n",
      "Name: contract_type_id, dtype: int64\n",
      "**********************\n",
      "0    5901\n",
      "1    1142\n",
      "Name: senior_citizen, dtype: int64\n",
      "**********************\n",
      "Male      3555\n",
      "Female    3488\n",
      "Name: gender, dtype: int64\n",
      "**********************\n",
      "0    3641\n",
      "1    3402\n",
      "Name: partner, dtype: int64\n",
      "**********************\n",
      "0    4933\n",
      "1    2110\n",
      "Name: dependents, dtype: int64\n",
      "**********************\n",
      "1    6361\n",
      "0     682\n",
      "Name: phone_service, dtype: int64\n",
      "**********************\n",
      "0    4072\n",
      "1    2971\n",
      "Name: multiple_lines, dtype: int64\n",
      "**********************\n",
      "0    5024\n",
      "1    2019\n",
      "Name: online_security, dtype: int64\n",
      "**********************\n",
      "0    4614\n",
      "1    2429\n",
      "Name: online_backup, dtype: int64\n",
      "**********************\n",
      "0    4621\n",
      "1    2422\n",
      "Name: device_protection, dtype: int64\n",
      "**********************\n",
      "0    4999\n",
      "1    2044\n",
      "Name: tech_support, dtype: int64\n",
      "**********************\n",
      "0    4336\n",
      "1    2707\n",
      "Name: streaming_tv, dtype: int64\n",
      "**********************\n",
      "0    4311\n",
      "1    2732\n",
      "Name: streaming_movies, dtype: int64\n",
      "**********************\n",
      "1    4171\n",
      "0    2872\n",
      "Name: paperless_billing, dtype: int64\n",
      "**********************\n",
      "0.00       11\n",
      "20.20      11\n",
      "19.75       9\n",
      "20.05       8\n",
      "19.65       8\n",
      "           ..\n",
      "344.20      1\n",
      "2766.40     1\n",
      "96.05       1\n",
      "1588.75     1\n",
      "1151.55     1\n",
      "Name: total_charges, Length: 6531, dtype: int64\n",
      "**********************\n",
      "0    5174\n",
      "1    1869\n",
      "Name: churn, dtype: int64\n",
      "**********************\n"
     ]
    }
   ],
   "source": [
    "# Assumptive Manipulation: conversion of non-service to a 'No'\n",
    "prep_df = prep_df.replace({'No internet service':0, 'No phone service':0})\n",
    "\n",
    "# check update via value counts\n",
    "columns = ['tenure', 'monthly_charges', 'payment_type_id', 'internet_service_type_id', 'contract_type_id', 'senior_citizen', 'gender', 'partner', 'dependents', 'phone_service', 'multiple_lines', 'online_security', 'online_backup', 'device_protection', 'tech_support', 'streaming_tv', 'streaming_movies', 'paperless_billing', 'total_charges', 'churn']\n",
    "for col in columns:\n",
    "    print(prep_df[col].value_counts())\n",
    "    print('**********************')"
   ]
  },
  {
   "cell_type": "code",
   "execution_count": 210,
   "metadata": {},
   "outputs": [
    {
     "data": {
      "text/html": [
       "<div>\n",
       "<style scoped>\n",
       "    .dataframe tbody tr th:only-of-type {\n",
       "        vertical-align: middle;\n",
       "    }\n",
       "\n",
       "    .dataframe tbody tr th {\n",
       "        vertical-align: top;\n",
       "    }\n",
       "\n",
       "    .dataframe thead th {\n",
       "        text-align: right;\n",
       "    }\n",
       "</style>\n",
       "<table border=\"1\" class=\"dataframe\">\n",
       "  <thead>\n",
       "    <tr style=\"text-align: right;\">\n",
       "      <th></th>\n",
       "      <th>payment_type_id</th>\n",
       "      <th>internet_service_type_id</th>\n",
       "      <th>contract_type_id</th>\n",
       "      <th>is_male</th>\n",
       "      <th>senior_citizen</th>\n",
       "      <th>partner</th>\n",
       "      <th>dependents</th>\n",
       "      <th>tenure</th>\n",
       "      <th>phone_service</th>\n",
       "      <th>multiple_lines</th>\n",
       "      <th>online_security</th>\n",
       "      <th>online_backup</th>\n",
       "      <th>device_protection</th>\n",
       "      <th>tech_support</th>\n",
       "      <th>streaming_tv</th>\n",
       "      <th>streaming_movies</th>\n",
       "      <th>paperless_billing</th>\n",
       "      <th>monthly_charges</th>\n",
       "      <th>total_charges</th>\n",
       "      <th>churn</th>\n",
       "    </tr>\n",
       "  </thead>\n",
       "  <tbody>\n",
       "    <tr>\n",
       "      <th>0</th>\n",
       "      <td>2</td>\n",
       "      <td>1</td>\n",
       "      <td>3</td>\n",
       "      <td>0</td>\n",
       "      <td>0</td>\n",
       "      <td>1</td>\n",
       "      <td>1</td>\n",
       "      <td>65</td>\n",
       "      <td>1</td>\n",
       "      <td>1</td>\n",
       "      <td>1</td>\n",
       "      <td>1</td>\n",
       "      <td>1</td>\n",
       "      <td>1</td>\n",
       "      <td>1</td>\n",
       "      <td>1</td>\n",
       "      <td>1</td>\n",
       "      <td>90.45</td>\n",
       "      <td>5957.90</td>\n",
       "      <td>0</td>\n",
       "    </tr>\n",
       "    <tr>\n",
       "      <th>1</th>\n",
       "      <td>4</td>\n",
       "      <td>1</td>\n",
       "      <td>3</td>\n",
       "      <td>1</td>\n",
       "      <td>0</td>\n",
       "      <td>0</td>\n",
       "      <td>0</td>\n",
       "      <td>54</td>\n",
       "      <td>0</td>\n",
       "      <td>0</td>\n",
       "      <td>1</td>\n",
       "      <td>0</td>\n",
       "      <td>0</td>\n",
       "      <td>1</td>\n",
       "      <td>1</td>\n",
       "      <td>0</td>\n",
       "      <td>0</td>\n",
       "      <td>45.20</td>\n",
       "      <td>2460.55</td>\n",
       "      <td>0</td>\n",
       "    </tr>\n",
       "    <tr>\n",
       "      <th>2</th>\n",
       "      <td>3</td>\n",
       "      <td>1</td>\n",
       "      <td>3</td>\n",
       "      <td>0</td>\n",
       "      <td>0</td>\n",
       "      <td>0</td>\n",
       "      <td>0</td>\n",
       "      <td>56</td>\n",
       "      <td>0</td>\n",
       "      <td>0</td>\n",
       "      <td>1</td>\n",
       "      <td>1</td>\n",
       "      <td>1</td>\n",
       "      <td>1</td>\n",
       "      <td>0</td>\n",
       "      <td>0</td>\n",
       "      <td>0</td>\n",
       "      <td>45.05</td>\n",
       "      <td>2560.10</td>\n",
       "      <td>0</td>\n",
       "    </tr>\n",
       "    <tr>\n",
       "      <th>3</th>\n",
       "      <td>4</td>\n",
       "      <td>1</td>\n",
       "      <td>3</td>\n",
       "      <td>1</td>\n",
       "      <td>0</td>\n",
       "      <td>1</td>\n",
       "      <td>1</td>\n",
       "      <td>20</td>\n",
       "      <td>0</td>\n",
       "      <td>0</td>\n",
       "      <td>1</td>\n",
       "      <td>0</td>\n",
       "      <td>1</td>\n",
       "      <td>1</td>\n",
       "      <td>0</td>\n",
       "      <td>0</td>\n",
       "      <td>1</td>\n",
       "      <td>39.40</td>\n",
       "      <td>825.40</td>\n",
       "      <td>0</td>\n",
       "    </tr>\n",
       "    <tr>\n",
       "      <th>4</th>\n",
       "      <td>3</td>\n",
       "      <td>1</td>\n",
       "      <td>3</td>\n",
       "      <td>1</td>\n",
       "      <td>0</td>\n",
       "      <td>1</td>\n",
       "      <td>0</td>\n",
       "      <td>72</td>\n",
       "      <td>1</td>\n",
       "      <td>1</td>\n",
       "      <td>0</td>\n",
       "      <td>1</td>\n",
       "      <td>1</td>\n",
       "      <td>1</td>\n",
       "      <td>1</td>\n",
       "      <td>1</td>\n",
       "      <td>1</td>\n",
       "      <td>85.15</td>\n",
       "      <td>6316.20</td>\n",
       "      <td>0</td>\n",
       "    </tr>\n",
       "    <tr>\n",
       "      <th>...</th>\n",
       "      <td>...</td>\n",
       "      <td>...</td>\n",
       "      <td>...</td>\n",
       "      <td>...</td>\n",
       "      <td>...</td>\n",
       "      <td>...</td>\n",
       "      <td>...</td>\n",
       "      <td>...</td>\n",
       "      <td>...</td>\n",
       "      <td>...</td>\n",
       "      <td>...</td>\n",
       "      <td>...</td>\n",
       "      <td>...</td>\n",
       "      <td>...</td>\n",
       "      <td>...</td>\n",
       "      <td>...</td>\n",
       "      <td>...</td>\n",
       "      <td>...</td>\n",
       "      <td>...</td>\n",
       "      <td>...</td>\n",
       "    </tr>\n",
       "    <tr>\n",
       "      <th>95</th>\n",
       "      <td>1</td>\n",
       "      <td>1</td>\n",
       "      <td>3</td>\n",
       "      <td>1</td>\n",
       "      <td>0</td>\n",
       "      <td>0</td>\n",
       "      <td>0</td>\n",
       "      <td>60</td>\n",
       "      <td>1</td>\n",
       "      <td>0</td>\n",
       "      <td>1</td>\n",
       "      <td>1</td>\n",
       "      <td>1</td>\n",
       "      <td>0</td>\n",
       "      <td>0</td>\n",
       "      <td>0</td>\n",
       "      <td>0</td>\n",
       "      <td>61.40</td>\n",
       "      <td>3638.25</td>\n",
       "      <td>0</td>\n",
       "    </tr>\n",
       "    <tr>\n",
       "      <th>96</th>\n",
       "      <td>3</td>\n",
       "      <td>1</td>\n",
       "      <td>3</td>\n",
       "      <td>1</td>\n",
       "      <td>0</td>\n",
       "      <td>1</td>\n",
       "      <td>1</td>\n",
       "      <td>45</td>\n",
       "      <td>1</td>\n",
       "      <td>0</td>\n",
       "      <td>1</td>\n",
       "      <td>0</td>\n",
       "      <td>0</td>\n",
       "      <td>1</td>\n",
       "      <td>0</td>\n",
       "      <td>0</td>\n",
       "      <td>0</td>\n",
       "      <td>54.65</td>\n",
       "      <td>2553.70</td>\n",
       "      <td>0</td>\n",
       "    </tr>\n",
       "    <tr>\n",
       "      <th>97</th>\n",
       "      <td>4</td>\n",
       "      <td>1</td>\n",
       "      <td>3</td>\n",
       "      <td>1</td>\n",
       "      <td>0</td>\n",
       "      <td>1</td>\n",
       "      <td>1</td>\n",
       "      <td>72</td>\n",
       "      <td>1</td>\n",
       "      <td>1</td>\n",
       "      <td>1</td>\n",
       "      <td>1</td>\n",
       "      <td>1</td>\n",
       "      <td>1</td>\n",
       "      <td>1</td>\n",
       "      <td>1</td>\n",
       "      <td>0</td>\n",
       "      <td>89.85</td>\n",
       "      <td>6562.90</td>\n",
       "      <td>0</td>\n",
       "    </tr>\n",
       "    <tr>\n",
       "      <th>98</th>\n",
       "      <td>2</td>\n",
       "      <td>1</td>\n",
       "      <td>3</td>\n",
       "      <td>1</td>\n",
       "      <td>0</td>\n",
       "      <td>1</td>\n",
       "      <td>1</td>\n",
       "      <td>72</td>\n",
       "      <td>0</td>\n",
       "      <td>0</td>\n",
       "      <td>1</td>\n",
       "      <td>0</td>\n",
       "      <td>1</td>\n",
       "      <td>1</td>\n",
       "      <td>1</td>\n",
       "      <td>0</td>\n",
       "      <td>0</td>\n",
       "      <td>48.90</td>\n",
       "      <td>3527.00</td>\n",
       "      <td>0</td>\n",
       "    </tr>\n",
       "    <tr>\n",
       "      <th>99</th>\n",
       "      <td>2</td>\n",
       "      <td>1</td>\n",
       "      <td>3</td>\n",
       "      <td>1</td>\n",
       "      <td>0</td>\n",
       "      <td>0</td>\n",
       "      <td>0</td>\n",
       "      <td>30</td>\n",
       "      <td>1</td>\n",
       "      <td>0</td>\n",
       "      <td>1</td>\n",
       "      <td>0</td>\n",
       "      <td>1</td>\n",
       "      <td>0</td>\n",
       "      <td>0</td>\n",
       "      <td>0</td>\n",
       "      <td>1</td>\n",
       "      <td>55.65</td>\n",
       "      <td>1653.85</td>\n",
       "      <td>0</td>\n",
       "    </tr>\n",
       "  </tbody>\n",
       "</table>\n",
       "<p>100 rows × 20 columns</p>\n",
       "</div>"
      ],
      "text/plain": [
       "    payment_type_id  internet_service_type_id  contract_type_id  is_male  \\\n",
       "0                 2                         1                 3        0   \n",
       "1                 4                         1                 3        1   \n",
       "2                 3                         1                 3        0   \n",
       "3                 4                         1                 3        1   \n",
       "4                 3                         1                 3        1   \n",
       "..              ...                       ...               ...      ...   \n",
       "95                1                         1                 3        1   \n",
       "96                3                         1                 3        1   \n",
       "97                4                         1                 3        1   \n",
       "98                2                         1                 3        1   \n",
       "99                2                         1                 3        1   \n",
       "\n",
       "    senior_citizen  partner  dependents  tenure  phone_service  \\\n",
       "0                0        1           1      65              1   \n",
       "1                0        0           0      54              0   \n",
       "2                0        0           0      56              0   \n",
       "3                0        1           1      20              0   \n",
       "4                0        1           0      72              1   \n",
       "..             ...      ...         ...     ...            ...   \n",
       "95               0        0           0      60              1   \n",
       "96               0        1           1      45              1   \n",
       "97               0        1           1      72              1   \n",
       "98               0        1           1      72              0   \n",
       "99               0        0           0      30              1   \n",
       "\n",
       "    multiple_lines  online_security  online_backup  device_protection  \\\n",
       "0                1                1              1                  1   \n",
       "1                0                1              0                  0   \n",
       "2                0                1              1                  1   \n",
       "3                0                1              0                  1   \n",
       "4                1                0              1                  1   \n",
       "..             ...              ...            ...                ...   \n",
       "95               0                1              1                  1   \n",
       "96               0                1              0                  0   \n",
       "97               1                1              1                  1   \n",
       "98               0                1              0                  1   \n",
       "99               0                1              0                  1   \n",
       "\n",
       "    tech_support  streaming_tv  streaming_movies  paperless_billing  \\\n",
       "0              1             1                 1                  1   \n",
       "1              1             1                 0                  0   \n",
       "2              1             0                 0                  0   \n",
       "3              1             0                 0                  1   \n",
       "4              1             1                 1                  1   \n",
       "..           ...           ...               ...                ...   \n",
       "95             0             0                 0                  0   \n",
       "96             1             0                 0                  0   \n",
       "97             1             1                 1                  0   \n",
       "98             1             1                 0                  0   \n",
       "99             0             0                 0                  1   \n",
       "\n",
       "    monthly_charges  total_charges  churn  \n",
       "0             90.45        5957.90      0  \n",
       "1             45.20        2460.55      0  \n",
       "2             45.05        2560.10      0  \n",
       "3             39.40         825.40      0  \n",
       "4             85.15        6316.20      0  \n",
       "..              ...            ...    ...  \n",
       "95            61.40        3638.25      0  \n",
       "96            54.65        2553.70      0  \n",
       "97            89.85        6562.90      0  \n",
       "98            48.90        3527.00      0  \n",
       "99            55.65        1653.85      0  \n",
       "\n",
       "[100 rows x 20 columns]"
      ]
     },
     "execution_count": 210,
     "metadata": {},
     "output_type": "execute_result"
    }
   ],
   "source": [
    "# Final data prep steps: \n",
    "# convert the gender column to is_male and male/female strings to 1/0 values\n",
    "prep_df = prep_df.rename(columns={'gender': 'is_male'})\n",
    "\n",
    "# replace male/female with 1/0\n",
    "prep_df = prep_df.replace({'Male':1, 'Female':0})\n",
    "\n",
    "# Check\n",
    "prep_df.head(100)"
   ]
  },
  {
   "cell_type": "code",
   "execution_count": 211,
   "metadata": {},
   "outputs": [
    {
     "name": "stdout",
     "output_type": "stream",
     "text": [
      "1     613\n",
      "72    362\n",
      "2     238\n",
      "3     200\n",
      "4     176\n",
      "     ... \n",
      "28     57\n",
      "39     56\n",
      "44     51\n",
      "36     50\n",
      "0      11\n",
      "Name: tenure, Length: 73, dtype: int64\n",
      "**********************\n",
      "20.05     61\n",
      "19.85     45\n",
      "19.95     44\n",
      "19.90     44\n",
      "20.00     43\n",
      "          ..\n",
      "56.85      1\n",
      "92.65      1\n",
      "109.85     1\n",
      "35.70      1\n",
      "61.95      1\n",
      "Name: monthly_charges, Length: 1585, dtype: int64\n",
      "**********************\n",
      "1    2365\n",
      "2    1612\n",
      "3    1544\n",
      "4    1522\n",
      "Name: payment_type_id, dtype: int64\n",
      "**********************\n",
      "2    3096\n",
      "1    2421\n",
      "3    1526\n",
      "Name: internet_service_type_id, dtype: int64\n",
      "**********************\n",
      "1    3875\n",
      "3    1695\n",
      "2    1473\n",
      "Name: contract_type_id, dtype: int64\n",
      "**********************\n",
      "0    5901\n",
      "1    1142\n",
      "Name: senior_citizen, dtype: int64\n",
      "**********************\n",
      "1    3555\n",
      "0    3488\n",
      "Name: is_male, dtype: int64\n",
      "**********************\n",
      "0    3641\n",
      "1    3402\n",
      "Name: partner, dtype: int64\n",
      "**********************\n",
      "0    4933\n",
      "1    2110\n",
      "Name: dependents, dtype: int64\n",
      "**********************\n",
      "1    6361\n",
      "0     682\n",
      "Name: phone_service, dtype: int64\n",
      "**********************\n",
      "0    4072\n",
      "1    2971\n",
      "Name: multiple_lines, dtype: int64\n",
      "**********************\n",
      "0    5024\n",
      "1    2019\n",
      "Name: online_security, dtype: int64\n",
      "**********************\n",
      "0    4614\n",
      "1    2429\n",
      "Name: online_backup, dtype: int64\n",
      "**********************\n",
      "0    4621\n",
      "1    2422\n",
      "Name: device_protection, dtype: int64\n",
      "**********************\n",
      "0    4999\n",
      "1    2044\n",
      "Name: tech_support, dtype: int64\n",
      "**********************\n",
      "0    4336\n",
      "1    2707\n",
      "Name: streaming_tv, dtype: int64\n",
      "**********************\n",
      "0    4311\n",
      "1    2732\n",
      "Name: streaming_movies, dtype: int64\n",
      "**********************\n",
      "1    4171\n",
      "0    2872\n",
      "Name: paperless_billing, dtype: int64\n",
      "**********************\n",
      "0.00       11\n",
      "20.20      11\n",
      "19.75       9\n",
      "20.05       8\n",
      "19.65       8\n",
      "           ..\n",
      "344.20      1\n",
      "2766.40     1\n",
      "96.05       1\n",
      "1588.75     1\n",
      "1151.55     1\n",
      "Name: total_charges, Length: 6531, dtype: int64\n",
      "**********************\n",
      "0    5174\n",
      "1    1869\n",
      "Name: churn, dtype: int64\n",
      "**********************\n"
     ]
    }
   ],
   "source": [
    "# final control check\n",
    "columns = ['tenure', 'monthly_charges', 'payment_type_id', 'internet_service_type_id', 'contract_type_id', 'senior_citizen', 'is_male', 'partner', 'dependents', 'phone_service', 'multiple_lines', 'online_security', 'online_backup', 'device_protection', 'tech_support', 'streaming_tv', 'streaming_movies', 'paperless_billing', 'total_charges', 'churn']\n",
    "for col in columns:\n",
    "    print(prep_df[col].value_counts())\n",
    "    print('**********************')"
   ]
  },
  {
   "cell_type": "markdown",
   "metadata": {},
   "source": [
    "***\n",
    "##### Now that final control is passed, create function to iterate Data Preparation steps\n",
    "***"
   ]
  },
  {
   "cell_type": "markdown",
   "metadata": {},
   "source": [
    "'''\n",
    "def prep_df(df):\n",
    "    \n",
    "    # Drop redundant data column \n",
    "    prep_df = telco_df.drop(columns=['customer_id'])\n",
    "    \n",
    "    # convert the total_charges spaces to zeros  \n",
    "    prep_df['total_charges'] = prep_df['total_charges'].replace(' ',0)\n",
    "    \n",
    "    # Convert total_charges from a str to a float\n",
    "    prep_df['total_charges'] = prep_df['total_charges'].astype(float)\n",
    "    \n",
    "    # Drop columns with reference data\n",
    "    prep_df = prep_df.drop(columns=['contract_type', \n",
    "    'internet_service_type', 'payment_type'])\n",
    "    \n",
    "    # Replace Yes/No entries with 1/0 across entire df\n",
    "    prep_df = prep_df.replace({'Yes':1, 'No':0})\n",
    "    \n",
    "    # Assumptive Manipulation: conversion of non-service to a 0 \n",
    "    prep_df = prep_df.replace({'No internet service':0, 'No phone service':0})\n",
    "    \n",
    "    # convert the gender column to is_male and male/female strings to 1/0 values\n",
    "    prep_df = prep_df.rename(columns={'gender': 'is_male'})\n",
    "\n",
    "    # replace male/female with 1/0\n",
    "    prep_df = prep_df.replace({'Male':1, 'Female':0})\n",
    "    \n",
    "    return prep_df \n",
    "'''"
   ]
  },
  {
   "cell_type": "markdown",
   "metadata": {},
   "source": [
    "***\n",
    "#### Split the Data: Train, Validate & Test\n",
    "***"
   ]
  },
  {
   "cell_type": "code",
   "execution_count": 212,
   "metadata": {},
   "outputs": [],
   "source": [
    "# import splitting and imputing functions\n",
    "from sklearn.model_selection import train_test_split\n",
    "from sklearn.impute import SimpleImputer\n",
    "\n",
    "# turn off pink boxes for demo\n",
    "import warnings\n",
    "warnings.filterwarnings(\"ignore\")\n",
    "\n",
    "# import our own modules\n",
    "import acquire\n",
    "import prepare"
   ]
  },
  {
   "cell_type": "code",
   "execution_count": 213,
   "metadata": {},
   "outputs": [],
   "source": [
    "# Run function to take in prep_data from Telco and split   \n",
    "train, validate, test = prepare.telco_split(prep_df)"
   ]
  },
  {
   "cell_type": "code",
   "execution_count": 214,
   "metadata": {},
   "outputs": [
    {
     "name": "stdout",
     "output_type": "stream",
     "text": [
      "train -> (3943, 20)\n",
      "validate -> (1691, 20)\n",
      "test -> (1409, 20)\n"
     ]
    }
   ],
   "source": [
    "# validate the split\n",
    "\n",
    "print(f'train -> {train.shape}')\n",
    "print(f'validate -> {validate.shape}')\n",
    "print(f'test -> {test.shape}')"
   ]
  },
  {
   "cell_type": "markdown",
   "metadata": {},
   "source": [
    "# Data Exploration"
   ]
  },
  {
   "cell_type": "code",
   "execution_count": 215,
   "metadata": {},
   "outputs": [],
   "source": [
    "import seaborn as sns"
   ]
  },
  {
   "cell_type": "code",
   "execution_count": 216,
   "metadata": {},
   "outputs": [
    {
     "data": {
      "text/plain": [
       "['payment_type_id',\n",
       " 'internet_service_type_id',\n",
       " 'contract_type_id',\n",
       " 'is_male',\n",
       " 'senior_citizen',\n",
       " 'partner',\n",
       " 'dependents',\n",
       " 'tenure',\n",
       " 'phone_service',\n",
       " 'multiple_lines',\n",
       " 'online_security',\n",
       " 'online_backup',\n",
       " 'device_protection',\n",
       " 'tech_support',\n",
       " 'streaming_tv',\n",
       " 'streaming_movies',\n",
       " 'paperless_billing',\n",
       " 'monthly_charges',\n",
       " 'total_charges']"
      ]
     },
     "execution_count": 216,
     "metadata": {},
     "output_type": "execute_result"
    }
   ],
   "source": [
    "# Create a list of train columns as reference, removing target ('churn')\n",
    "columns = train.columns.tolist()\n",
    "columns.remove('churn')\n",
    "columns"
   ]
  },
  {
   "cell_type": "code",
   "execution_count": 217,
   "metadata": {},
   "outputs": [],
   "source": [
    "# Group data into two sets as per continous vs categorical dtypes \n",
    "cont_data = ['tenure', 'monthly_charges', 'total_charges']\n",
    "mult_data = ['internet_service_type_id','payment_type_id', 'contract_type_id']\n",
    "disc_data = [x for x in columns if x not in cont_data and x not in mult_data]"
   ]
  },
  {
   "cell_type": "code",
   "execution_count": 218,
   "metadata": {},
   "outputs": [],
   "source": [
    "def normal(x):\n",
    "    for col in columns:\n",
    "        print(prep_df[col].value_counts(normalize=True))\n",
    "        print('**********************')"
   ]
  },
  {
   "cell_type": "markdown",
   "metadata": {},
   "source": [
    "#### Visualize Continous Data"
   ]
  },
  {
   "cell_type": "code",
   "execution_count": 219,
   "metadata": {},
   "outputs": [
    {
     "data": {
      "text/plain": [
       "Text(0.5, 0, 'Tenure')"
      ]
     },
     "execution_count": 219,
     "metadata": {},
     "output_type": "execute_result"
    },
    {
     "data": {
      "image/png": "[encoded data removed]",
      "text/plain": [
       "<Figure size 936x360 with 1 Axes>"
      ]
     },
     "metadata": {
      "needs_background": "light"
     },
     "output_type": "display_data"
    }
   ],
   "source": [
    "# Churn by Tenure \n",
    "plt.figure(figsize=(13,5))\n",
    "sns.histplot(train,\n",
    "             x=train.tenure,\n",
    "             hue='churn',\n",
    "             multiple='stack',\n",
    "             palette='Blues')\n",
    "plt.title(\"Churn by Tenure\")\n",
    "plt.xlabel('Tenure')\n"
   ]
  },
  {
   "cell_type": "code",
   "execution_count": 220,
   "metadata": {},
   "outputs": [
    {
     "data": {
      "text/plain": [
       "Text(0.5, 0, 'monthly_charges')"
      ]
     },
     "execution_count": 220,
     "metadata": {},
     "output_type": "execute_result"
    },
    {
     "data": {
      "image/png": "[encoded data removed]",
      "text/plain": [
       "<Figure size 936x360 with 1 Axes>"
      ]
     },
     "metadata": {
      "needs_background": "light"
     },
     "output_type": "display_data"
    }
   ],
   "source": [
    "# Churn by Monthly Charges \n",
    "plt.figure(figsize=(13,5))\n",
    "sns.histplot(train,\n",
    "             x=train.monthly_charges,\n",
    "             hue='churn',\n",
    "             multiple='stack',\n",
    "             palette='Blues')\n",
    "plt.title(\"Churn by Monthly Charges\")\n",
    "plt.xlabel('monthly_charges')\n"
   ]
  },
  {
   "cell_type": "code",
   "execution_count": 221,
   "metadata": {},
   "outputs": [
    {
     "data": {
      "text/plain": [
       "Text(0.5, 0, 'total_charges')"
      ]
     },
     "execution_count": 221,
     "metadata": {},
     "output_type": "execute_result"
    },
    {
     "data": {
      "image/png": "[encoded data removed]",
      "text/plain": [
       "<Figure size 936x360 with 1 Axes>"
      ]
     },
     "metadata": {
      "needs_background": "light"
     },
     "output_type": "display_data"
    }
   ],
   "source": [
    "# Churn by Total Charges \n",
    "plt.figure(figsize=(13,5))\n",
    "sns.histplot(train,\n",
    "             x=train.total_charges,\n",
    "             hue='churn',\n",
    "             multiple='stack',\n",
    "             palette='Blues')\n",
    "plt.title(\"Churn by Total Charges\")\n",
    "plt.xlabel('total_charges')"
   ]
  },
  {
   "cell_type": "markdown",
   "metadata": {},
   "source": [
    "#### Visualize Discrete Data"
   ]
  },
  {
   "cell_type": "code",
   "execution_count": 244,
   "metadata": {},
   "outputs": [
    {
     "data": {
      "text/plain": [
       "<seaborn.axisgrid.FacetGrid at 0x7ff6220ad460>"
      ]
     },
     "execution_count": 244,
     "metadata": {},
     "output_type": "execute_result"
    },
    {
     "data": {
      "image/png": "[encoded data removed]",
      "text/plain": [
       "<Figure size 402.375x360 with 1 Axes>"
      ]
     },
     "metadata": {
      "needs_background": "light"
     },
     "output_type": "display_data"
    }
   ],
   "source": [
    "x,y = 'payment_type_id', 'churn'\n",
    "(train.groupby(x)[y].value_counts(normalize=True).mul(100).rename('%').reset_index().pipe((sns.catplot, 'data'), x=x, y='%', hue=y, kind='bar', palette='Blues'))"
   ]
  },
  {
   "cell_type": "code",
   "execution_count": 246,
   "metadata": {},
   "outputs": [
    {
     "data": {
      "text/plain": [
       "<seaborn.axisgrid.FacetGrid at 0x7ff6693db460>"
      ]
     },
     "execution_count": 246,
     "metadata": {},
     "output_type": "execute_result"
    },
    {
     "data": {
      "image/png": "[encoded data removed]",
      "text/plain": [
       "<Figure size 402.375x360 with 1 Axes>"
      ]
     },
     "metadata": {
      "needs_background": "light"
     },
     "output_type": "display_data"
    }
   ],
   "source": [
    "x,y = 'contract_type_id', 'churn'\n",
    "(train.groupby(x)[y].value_counts(normalize=True).mul(100).rename('%').reset_index().pipe((sns.catplot, 'data'), x=x, y='%', hue=y, kind='bar', palette='Blues'))"
   ]
  },
  {
   "cell_type": "code",
   "execution_count": 249,
   "metadata": {},
   "outputs": [
    {
     "data": {
      "text/plain": [
       "<seaborn.axisgrid.FacetGrid at 0x7ff67d8bd0d0>"
      ]
     },
     "execution_count": 249,
     "metadata": {},
     "output_type": "execute_result"
    },
    {
     "data": {
      "image/png": "[encoded data removed]",
      "text/plain": [
       "<Figure size 402.375x360 with 1 Axes>"
      ]
     },
     "metadata": {
      "needs_background": "light"
     },
     "output_type": "display_data"
    }
   ],
   "source": [
    "x,y = 'internet_service_type_id', 'churn'\n",
    "(train.groupby(x)[y].value_counts(normalize=True).mul(100).rename('%').reset_index().pipe((sns.catplot, 'data'), x=x, y='%', hue=y, kind='bar', palette='Blues'))"
   ]
  },
  {
   "cell_type": "code",
   "execution_count": 241,
   "metadata": {},
   "outputs": [
    {
     "data": {
      "image/png": "[encoded data removed]",
      "text/plain": [
       "<Figure size 1152x1152 with 16 Axes>"
      ]
     },
     "metadata": {
      "needs_background": "light"
     },
     "output_type": "display_data"
    }
   ],
   "source": [
    "churn_rate = train.churn.mean()\n",
    "_, ax = plt.subplots(nrows=4, ncols=4, figsize=(16, 16), sharey=True)\n",
    "for i, col in enumerate(disc_data):\n",
    "    ax = ax.flatten()\n",
    "    sns.lineplot(col, train.churn, data=train, ax=ax[i])\n",
    "    ax[i].set_xlabel('')\n",
    "    ax[i].set_ylabel('churn_rate')\n",
    "    ax[i].set_title(col)\n",
    "    ax[i].axhline(churn_rate, ls='--', color='grey')"
   ]
  },
  {
   "cell_type": "code",
   "execution_count": 242,
   "metadata": {},
   "outputs": [
    {
     "data": {
      "text/plain": [
       "<seaborn.axisgrid.FacetGrid at 0x7ff626a27bb0>"
      ]
     },
     "execution_count": 242,
     "metadata": {},
     "output_type": "execute_result"
    },
    {
     "data": {
      "image/png": "[encoded data removed]",
      "text/plain": [
       "<Figure size 402.375x360 with 1 Axes>"
      ]
     },
     "metadata": {
      "needs_background": "light"
     },
     "output_type": "display_data"
    }
   ],
   "source": [
    "x,y = 'partner', 'churn'\n",
    "(train.groupby(x)[y].value_counts(normalize=True).mul(100).rename('%').reset_index().pipe((sns.catplot, 'data'), x=x, y='%', hue=y, kind='bar'))"
   ]
  },
  {
   "cell_type": "code",
   "execution_count": null,
   "metadata": {},
   "outputs": [],
   "source": [
    "# Explore relationship b/w each feature and target\n",
    "\n",
    "churn_rate = train.churn.mean()\n",
    "for i, col in enumerate(train.columns[:-1]):\n",
    "\n",
    "    plt.figure(i)\n",
    "    sns.barplot(data=train, x=col, y=train.churn)"
   ]
  },
  {
   "cell_type": "code",
   "execution_count": null,
   "metadata": {},
   "outputs": [],
   "source": [
    "churn_rate = train.churn.mean()\n",
    "for i, col in enumerate(train.columns[:-1]):\n",
    "    plt.subplots(nrows=5, ncols=4, figsize=(16, 6)\n",
    "    sns.barplot(ax=aI, data=train, x=col, y=train.churn)"
   ]
  },
  {
   "cell_type": "code",
   "execution_count": null,
   "metadata": {},
   "outputs": [],
   "source": [
    "\n",
    "\n",
    "churn_rate = train.churn.mean()\n",
    "_, ax = plt.subplots(nrows=5, ncols=4, figsize=(16, 6), sharey=True)\n",
    "for i, col in enumerate(columns):\n",
    "    sns.barplot(x=col, y='churn', ax=ax[i], alpha=0.5)\n",
    "    ax[i].set_xlabel('')\n",
    "    ax[i].set_ylabel('')\n",
    "    ax[i].set_title(col)\n",
    "    ax[i].axhline(churn_rate, ls='--', color='grey')\n"
   ]
  },
  {
   "cell_type": "code",
   "execution_count": null,
   "metadata": {},
   "outputs": [],
   "source": [
    "plt.subplots(nrows=5, ncols=4, figsize=(16, 6))\n",
    "columns = train.columns[:-1]"
   ]
  },
  {
   "cell_type": "code",
   "execution_count": null,
   "metadata": {},
   "outputs": [],
   "source": [
    "sns.barplot(x=columns, y=train.churn, ax=ax[i], alpha=0.5)\n",
    "   "
   ]
  },
  {
   "cell_type": "code",
   "execution_count": null,
   "metadata": {},
   "outputs": [],
   "source": [
    "df=train.groupby(['churn'])[['payment_type_id',\n",
    " 'internet_service_type_id',\n",
    " 'contract_type_id',]].agg('mean')\n",
    "\n",
    "churn_rate = train.churn.mean()\n",
    "_, ax = plt.subplots(nrows=4, ncols=4, figsize=(16, 16), sharey=True)\n",
    "for i, col in enumerate(df):\n",
    "    ax = ax.flatten()\n",
    "    sns.barplot(col, df['churn'], data=train, ax=ax[i])\n",
    "    ax[i].set_xlabel('')\n",
    "    ax[i].set_ylabel('')\n",
    "    ax[i].set_title(col)\n",
    "    ax[i].axhline(churn_rate, ls='--', color='grey')"
   ]
  },
  {
   "cell_type": "code",
   "execution_count": null,
   "metadata": {},
   "outputs": [],
   "source": [
    "\n"
   ]
  },
  {
   "cell_type": "code",
   "execution_count": null,
   "metadata": {},
   "outputs": [],
   "source": [
    "train['paperless_billing'].value_counts(normalize=True).plot(kind='bar')"
   ]
  },
  {
   "cell_type": "code",
   "execution_count": null,
   "metadata": {},
   "outputs": [],
   "source": []
  }
 ],
 "metadata": {
  "kernelspec": {
   "display_name": "Python 3",
   "language": "python",
   "name": "python3"
  },
  "language_info": {
   "codemirror_mode": {
    "name": "ipython",
    "version": 3
   },
   "file_extension": ".py",
   "mimetype": "text/x-python",
   "name": "python",
   "nbconvert_exporter": "python",
   "pygments_lexer": "ipython3",
   "version": "3.8.5"
  }
 },
 "nbformat": 4,
 "nbformat_minor": 4
}
