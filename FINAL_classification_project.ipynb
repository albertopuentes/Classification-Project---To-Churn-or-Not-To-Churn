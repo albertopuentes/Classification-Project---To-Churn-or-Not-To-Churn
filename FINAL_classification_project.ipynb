{
 "cells": [
  {
   "cell_type": "markdown",
   "metadata": {},
   "source": [
    "# Acquire Data"
   ]
  },
  {
   "cell_type": "code",
   "execution_count": 818,
   "metadata": {},
   "outputs": [],
   "source": [
    "import pandas as pd\n",
    "import numpy as np\n",
    "import os\n",
    "import matplotlib.pyplot as plt\n",
    "import explore\n",
    "from env import host, username, password\n",
    "import acquire"
   ]
  },
  {
   "cell_type": "code",
   "execution_count": 819,
   "metadata": {},
   "outputs": [],
   "source": [
    "# Get connection url using get_connection function from acquire\n",
    "url = acquire.get_connection('telco_churn')"
   ]
  },
  {
   "cell_type": "code",
   "execution_count": 820,
   "metadata": {},
   "outputs": [],
   "source": [
    "# Acquire Telco data from Codeup SQL database using acquire.telco_data function\n",
    "telco_df = acquire.telco_data()"
   ]
  },
  {
   "cell_type": "code",
   "execution_count": 821,
   "metadata": {},
   "outputs": [
    {
     "data": {
      "text/html": [
       "<div>\n",
       "<style scoped>\n",
       "    .dataframe tbody tr th:only-of-type {\n",
       "        vertical-align: middle;\n",
       "    }\n",
       "\n",
       "    .dataframe tbody tr th {\n",
       "        vertical-align: top;\n",
       "    }\n",
       "\n",
       "    .dataframe thead th {\n",
       "        text-align: right;\n",
       "    }\n",
       "</style>\n",
       "<table border=\"1\" class=\"dataframe\">\n",
       "  <thead>\n",
       "    <tr style=\"text-align: right;\">\n",
       "      <th></th>\n",
       "      <th>payment_type_id</th>\n",
       "      <th>internet_service_type_id</th>\n",
       "      <th>contract_type_id</th>\n",
       "      <th>customer_id</th>\n",
       "      <th>gender</th>\n",
       "      <th>senior_citizen</th>\n",
       "      <th>partner</th>\n",
       "      <th>dependents</th>\n",
       "      <th>tenure</th>\n",
       "      <th>phone_service</th>\n",
       "      <th>...</th>\n",
       "      <th>tech_support</th>\n",
       "      <th>streaming_tv</th>\n",
       "      <th>streaming_movies</th>\n",
       "      <th>paperless_billing</th>\n",
       "      <th>monthly_charges</th>\n",
       "      <th>total_charges</th>\n",
       "      <th>churn</th>\n",
       "      <th>contract_type</th>\n",
       "      <th>internet_service_type</th>\n",
       "      <th>payment_type</th>\n",
       "    </tr>\n",
       "  </thead>\n",
       "  <tbody>\n",
       "    <tr>\n",
       "      <th>0</th>\n",
       "      <td>2</td>\n",
       "      <td>1</td>\n",
       "      <td>3</td>\n",
       "      <td>0016-QLJIS</td>\n",
       "      <td>Female</td>\n",
       "      <td>0</td>\n",
       "      <td>Yes</td>\n",
       "      <td>Yes</td>\n",
       "      <td>65</td>\n",
       "      <td>Yes</td>\n",
       "      <td>...</td>\n",
       "      <td>Yes</td>\n",
       "      <td>Yes</td>\n",
       "      <td>Yes</td>\n",
       "      <td>Yes</td>\n",
       "      <td>90.45</td>\n",
       "      <td>5957.9</td>\n",
       "      <td>No</td>\n",
       "      <td>Two year</td>\n",
       "      <td>DSL</td>\n",
       "      <td>Mailed check</td>\n",
       "    </tr>\n",
       "    <tr>\n",
       "      <th>1</th>\n",
       "      <td>4</td>\n",
       "      <td>1</td>\n",
       "      <td>3</td>\n",
       "      <td>0017-DINOC</td>\n",
       "      <td>Male</td>\n",
       "      <td>0</td>\n",
       "      <td>No</td>\n",
       "      <td>No</td>\n",
       "      <td>54</td>\n",
       "      <td>No</td>\n",
       "      <td>...</td>\n",
       "      <td>Yes</td>\n",
       "      <td>Yes</td>\n",
       "      <td>No</td>\n",
       "      <td>No</td>\n",
       "      <td>45.20</td>\n",
       "      <td>2460.55</td>\n",
       "      <td>No</td>\n",
       "      <td>Two year</td>\n",
       "      <td>DSL</td>\n",
       "      <td>Credit card (automatic)</td>\n",
       "    </tr>\n",
       "    <tr>\n",
       "      <th>2</th>\n",
       "      <td>3</td>\n",
       "      <td>1</td>\n",
       "      <td>3</td>\n",
       "      <td>0019-GFNTW</td>\n",
       "      <td>Female</td>\n",
       "      <td>0</td>\n",
       "      <td>No</td>\n",
       "      <td>No</td>\n",
       "      <td>56</td>\n",
       "      <td>No</td>\n",
       "      <td>...</td>\n",
       "      <td>Yes</td>\n",
       "      <td>No</td>\n",
       "      <td>No</td>\n",
       "      <td>No</td>\n",
       "      <td>45.05</td>\n",
       "      <td>2560.1</td>\n",
       "      <td>No</td>\n",
       "      <td>Two year</td>\n",
       "      <td>DSL</td>\n",
       "      <td>Bank transfer (automatic)</td>\n",
       "    </tr>\n",
       "    <tr>\n",
       "      <th>3</th>\n",
       "      <td>4</td>\n",
       "      <td>1</td>\n",
       "      <td>3</td>\n",
       "      <td>0056-EPFBG</td>\n",
       "      <td>Male</td>\n",
       "      <td>0</td>\n",
       "      <td>Yes</td>\n",
       "      <td>Yes</td>\n",
       "      <td>20</td>\n",
       "      <td>No</td>\n",
       "      <td>...</td>\n",
       "      <td>Yes</td>\n",
       "      <td>No</td>\n",
       "      <td>No</td>\n",
       "      <td>Yes</td>\n",
       "      <td>39.40</td>\n",
       "      <td>825.4</td>\n",
       "      <td>No</td>\n",
       "      <td>Two year</td>\n",
       "      <td>DSL</td>\n",
       "      <td>Credit card (automatic)</td>\n",
       "    </tr>\n",
       "    <tr>\n",
       "      <th>4</th>\n",
       "      <td>3</td>\n",
       "      <td>1</td>\n",
       "      <td>3</td>\n",
       "      <td>0078-XZMHT</td>\n",
       "      <td>Male</td>\n",
       "      <td>0</td>\n",
       "      <td>Yes</td>\n",
       "      <td>No</td>\n",
       "      <td>72</td>\n",
       "      <td>Yes</td>\n",
       "      <td>...</td>\n",
       "      <td>Yes</td>\n",
       "      <td>Yes</td>\n",
       "      <td>Yes</td>\n",
       "      <td>Yes</td>\n",
       "      <td>85.15</td>\n",
       "      <td>6316.2</td>\n",
       "      <td>No</td>\n",
       "      <td>Two year</td>\n",
       "      <td>DSL</td>\n",
       "      <td>Bank transfer (automatic)</td>\n",
       "    </tr>\n",
       "  </tbody>\n",
       "</table>\n",
       "<p>5 rows × 24 columns</p>\n",
       "</div>"
      ],
      "text/plain": [
       "   payment_type_id  internet_service_type_id  contract_type_id customer_id  \\\n",
       "0                2                         1                 3  0016-QLJIS   \n",
       "1                4                         1                 3  0017-DINOC   \n",
       "2                3                         1                 3  0019-GFNTW   \n",
       "3                4                         1                 3  0056-EPFBG   \n",
       "4                3                         1                 3  0078-XZMHT   \n",
       "\n",
       "   gender  senior_citizen partner dependents  tenure phone_service  ...  \\\n",
       "0  Female               0     Yes        Yes      65           Yes  ...   \n",
       "1    Male               0      No         No      54            No  ...   \n",
       "2  Female               0      No         No      56            No  ...   \n",
       "3    Male               0     Yes        Yes      20            No  ...   \n",
       "4    Male               0     Yes         No      72           Yes  ...   \n",
       "\n",
       "  tech_support streaming_tv streaming_movies paperless_billing  \\\n",
       "0          Yes          Yes              Yes               Yes   \n",
       "1          Yes          Yes               No                No   \n",
       "2          Yes           No               No                No   \n",
       "3          Yes           No               No               Yes   \n",
       "4          Yes          Yes              Yes               Yes   \n",
       "\n",
       "  monthly_charges total_charges churn contract_type  internet_service_type  \\\n",
       "0           90.45        5957.9    No      Two year                    DSL   \n",
       "1           45.20       2460.55    No      Two year                    DSL   \n",
       "2           45.05        2560.1    No      Two year                    DSL   \n",
       "3           39.40         825.4    No      Two year                    DSL   \n",
       "4           85.15        6316.2    No      Two year                    DSL   \n",
       "\n",
       "                payment_type  \n",
       "0               Mailed check  \n",
       "1    Credit card (automatic)  \n",
       "2  Bank transfer (automatic)  \n",
       "3    Credit card (automatic)  \n",
       "4  Bank transfer (automatic)  \n",
       "\n",
       "[5 rows x 24 columns]"
      ]
     },
     "execution_count": 821,
     "metadata": {},
     "output_type": "execute_result"
    }
   ],
   "source": [
    "# Rough telco_df import\n",
    "telco_df.head()"
   ]
  },
  {
   "cell_type": "markdown",
   "metadata": {},
   "source": [
    "***\n",
    "Observations:\n",
    "* Drop Columns (redundant): ['customer_id']\n",
    "* Binary Conversions: ['gender', 'partner', 'dependents', 'phone_service', 'multiple_lines', 'online_security', 'online_backup', 'device_protection', 'tech_support', 'streaming_tv', 'streaming_movies', 'paperless_billing', 'churn']\n",
    "    * gender will have to be converted to is_male \n",
    "* Reference Data to leave in original df but leave out of Train data (note: numeric data in separate column): ['contract_type', 'internet_service_type', 'payment_type']    \n",
    "* Assumptive manipulation --> following columns contain data (No Internet & No phone service) that may be valuable to explore how this extra feature subset impacts behavior of separate feature but for purposes of initial review I will convert to binary: ['online_security', 'online_backup', 'device_protection', 'tech_support', 'streaming_tv', 'streaming_movies']\n",
    "***"
   ]
  },
  {
   "cell_type": "code",
   "execution_count": 822,
   "metadata": {},
   "outputs": [
    {
     "name": "stdout",
     "output_type": "stream",
     "text": [
      "<class 'pandas.core.frame.DataFrame'>\n",
      "RangeIndex: 7043 entries, 0 to 7042\n",
      "Data columns (total 24 columns):\n",
      " #   Column                    Non-Null Count  Dtype  \n",
      "---  ------                    --------------  -----  \n",
      " 0   payment_type_id           7043 non-null   int64  \n",
      " 1   internet_service_type_id  7043 non-null   int64  \n",
      " 2   contract_type_id          7043 non-null   int64  \n",
      " 3   customer_id               7043 non-null   object \n",
      " 4   gender                    7043 non-null   object \n",
      " 5   senior_citizen            7043 non-null   int64  \n",
      " 6   partner                   7043 non-null   object \n",
      " 7   dependents                7043 non-null   object \n",
      " 8   tenure                    7043 non-null   int64  \n",
      " 9   phone_service             7043 non-null   object \n",
      " 10  multiple_lines            7043 non-null   object \n",
      " 11  online_security           7043 non-null   object \n",
      " 12  online_backup             7043 non-null   object \n",
      " 13  device_protection         7043 non-null   object \n",
      " 14  tech_support              7043 non-null   object \n",
      " 15  streaming_tv              7043 non-null   object \n",
      " 16  streaming_movies          7043 non-null   object \n",
      " 17  paperless_billing         7043 non-null   object \n",
      " 18  monthly_charges           7043 non-null   float64\n",
      " 19  total_charges             7043 non-null   object \n",
      " 20  churn                     7043 non-null   object \n",
      " 21  contract_type             7043 non-null   object \n",
      " 22  internet_service_type     7043 non-null   object \n",
      " 23  payment_type              7043 non-null   object \n",
      "dtypes: float64(1), int64(5), object(18)\n",
      "memory usage: 1.3+ MB\n"
     ]
    }
   ],
   "source": [
    "# DF info summary stats\n",
    "telco_df.info()"
   ]
  },
  {
   "cell_type": "markdown",
   "metadata": {},
   "source": [
    "***\n",
    "### info() summary:\n",
    "* 6 numerical & 17 categorical dtypes\n",
    "* 0 \"na\" and 0 'null' values \n",
    "* numerics- 1 float and 5 int dtypes\n",
    "\n",
    "NOTE: total_charges in str format (need to convert to continuous numeric)\n",
    "***"
   ]
  },
  {
   "cell_type": "code",
   "execution_count": 823,
   "metadata": {},
   "outputs": [
    {
     "data": {
      "text/html": [
       "<div>\n",
       "<style scoped>\n",
       "    .dataframe tbody tr th:only-of-type {\n",
       "        vertical-align: middle;\n",
       "    }\n",
       "\n",
       "    .dataframe tbody tr th {\n",
       "        vertical-align: top;\n",
       "    }\n",
       "\n",
       "    .dataframe thead th {\n",
       "        text-align: right;\n",
       "    }\n",
       "</style>\n",
       "<table border=\"1\" class=\"dataframe\">\n",
       "  <thead>\n",
       "    <tr style=\"text-align: right;\">\n",
       "      <th></th>\n",
       "      <th>payment_type_id</th>\n",
       "      <th>internet_service_type_id</th>\n",
       "      <th>contract_type_id</th>\n",
       "      <th>senior_citizen</th>\n",
       "      <th>tenure</th>\n",
       "      <th>monthly_charges</th>\n",
       "    </tr>\n",
       "  </thead>\n",
       "  <tbody>\n",
       "    <tr>\n",
       "      <th>count</th>\n",
       "      <td>7043.000000</td>\n",
       "      <td>7043.000000</td>\n",
       "      <td>7043.000000</td>\n",
       "      <td>7043.000000</td>\n",
       "      <td>7043.000000</td>\n",
       "      <td>7043.000000</td>\n",
       "    </tr>\n",
       "    <tr>\n",
       "      <th>mean</th>\n",
       "      <td>2.315633</td>\n",
       "      <td>1.872923</td>\n",
       "      <td>1.690473</td>\n",
       "      <td>0.162147</td>\n",
       "      <td>32.371149</td>\n",
       "      <td>64.761692</td>\n",
       "    </tr>\n",
       "    <tr>\n",
       "      <th>std</th>\n",
       "      <td>1.148907</td>\n",
       "      <td>0.737796</td>\n",
       "      <td>0.833755</td>\n",
       "      <td>0.368612</td>\n",
       "      <td>24.559481</td>\n",
       "      <td>30.090047</td>\n",
       "    </tr>\n",
       "    <tr>\n",
       "      <th>min</th>\n",
       "      <td>1.000000</td>\n",
       "      <td>1.000000</td>\n",
       "      <td>1.000000</td>\n",
       "      <td>0.000000</td>\n",
       "      <td>0.000000</td>\n",
       "      <td>18.250000</td>\n",
       "    </tr>\n",
       "    <tr>\n",
       "      <th>25%</th>\n",
       "      <td>1.000000</td>\n",
       "      <td>1.000000</td>\n",
       "      <td>1.000000</td>\n",
       "      <td>0.000000</td>\n",
       "      <td>9.000000</td>\n",
       "      <td>35.500000</td>\n",
       "    </tr>\n",
       "    <tr>\n",
       "      <th>50%</th>\n",
       "      <td>2.000000</td>\n",
       "      <td>2.000000</td>\n",
       "      <td>1.000000</td>\n",
       "      <td>0.000000</td>\n",
       "      <td>29.000000</td>\n",
       "      <td>70.350000</td>\n",
       "    </tr>\n",
       "    <tr>\n",
       "      <th>75%</th>\n",
       "      <td>3.000000</td>\n",
       "      <td>2.000000</td>\n",
       "      <td>2.000000</td>\n",
       "      <td>0.000000</td>\n",
       "      <td>55.000000</td>\n",
       "      <td>89.850000</td>\n",
       "    </tr>\n",
       "    <tr>\n",
       "      <th>max</th>\n",
       "      <td>4.000000</td>\n",
       "      <td>3.000000</td>\n",
       "      <td>3.000000</td>\n",
       "      <td>1.000000</td>\n",
       "      <td>72.000000</td>\n",
       "      <td>118.750000</td>\n",
       "    </tr>\n",
       "  </tbody>\n",
       "</table>\n",
       "</div>"
      ],
      "text/plain": [
       "       payment_type_id  internet_service_type_id  contract_type_id  \\\n",
       "count      7043.000000               7043.000000       7043.000000   \n",
       "mean          2.315633                  1.872923          1.690473   \n",
       "std           1.148907                  0.737796          0.833755   \n",
       "min           1.000000                  1.000000          1.000000   \n",
       "25%           1.000000                  1.000000          1.000000   \n",
       "50%           2.000000                  2.000000          1.000000   \n",
       "75%           3.000000                  2.000000          2.000000   \n",
       "max           4.000000                  3.000000          3.000000   \n",
       "\n",
       "       senior_citizen       tenure  monthly_charges  \n",
       "count     7043.000000  7043.000000      7043.000000  \n",
       "mean         0.162147    32.371149        64.761692  \n",
       "std          0.368612    24.559481        30.090047  \n",
       "min          0.000000     0.000000        18.250000  \n",
       "25%          0.000000     9.000000        35.500000  \n",
       "50%          0.000000    29.000000        70.350000  \n",
       "75%          0.000000    55.000000        89.850000  \n",
       "max          1.000000    72.000000       118.750000  "
      ]
     },
     "execution_count": 823,
     "metadata": {},
     "output_type": "execute_result"
    }
   ],
   "source": [
    "# Describe (assumption: all numerical/continues data included)\n",
    "telco_df.describe()"
   ]
  },
  {
   "cell_type": "markdown",
   "metadata": {},
   "source": [
    "***\n",
    "### describe() summary:\n",
    "* Continuous values: ['tenure', 'monthly_charges']\n",
    "* Categorical numerical values: ['payment_type_id', 'internet_service_type_id', 'contract_type_id', 'senior_citizen']\n",
    "***    "
   ]
  },
  {
   "cell_type": "code",
   "execution_count": 1040,
   "metadata": {},
   "outputs": [
    {
     "data": {
      "text/plain": [
       "Text(0.5, 1.0, \"Number of 'na' in telco_df\")"
      ]
     },
     "execution_count": 1040,
     "metadata": {},
     "output_type": "execute_result"
    },
    {
     "data": {
      "image/png": "[encoded data removed]",
      "text/plain": [
       "<Figure size 648x432 with 2 Axes>"
      ]
     },
     "metadata": {},
     "output_type": "display_data"
    }
   ],
   "source": [
    "# investigate the telco_df data further to see if any categorical dtypes contain, na, empty or blank values\n",
    "# Visualize the 'na' and ' ' first\n",
    "plt.subplot(1, 2, 1)\n",
    "plt.plot((telco_df==' ').sum())\n",
    "plt.xticks([])\n",
    "plt.title(\"Number of Spaces in telco_df\")\n",
    "\n",
    "plt.subplot(1, 2, 2)\n",
    "plt.plot((telco_df=='na').sum())\n",
    "plt.xticks([])\n",
    "plt.title(\"Number of 'na' in telco_df\")"
   ]
  },
  {
   "cell_type": "code",
   "execution_count": 825,
   "metadata": {},
   "outputs": [
    {
     "name": "stdout",
     "output_type": "stream",
     "text": [
      "payment_type_id              0\n",
      "internet_service_type_id     0\n",
      "contract_type_id             0\n",
      "customer_id                  0\n",
      "gender                       0\n",
      "senior_citizen               0\n",
      "partner                      0\n",
      "dependents                   0\n",
      "tenure                       0\n",
      "phone_service                0\n",
      "multiple_lines               0\n",
      "online_security              0\n",
      "online_backup                0\n",
      "device_protection            0\n",
      "tech_support                 0\n",
      "streaming_tv                 0\n",
      "streaming_movies             0\n",
      "paperless_billing            0\n",
      "monthly_charges              0\n",
      "total_charges               11\n",
      "churn                        0\n",
      "contract_type                0\n",
      "internet_service_type        0\n",
      "payment_type                 0\n",
      "dtype: int64\n"
     ]
    }
   ],
   "source": [
    "# Visualizations show 0 categorical dtype contain 'na' and one contains  ' '.\n",
    "# Use a sum of booleans to identify which feature contains ' ' and how many\n",
    "print((telco_df == ' ').sum())"
   ]
  },
  {
   "cell_type": "markdown",
   "metadata": {},
   "source": [
    "***\n",
    "NOTE: Will have to decide during Data Preparation how to address the 11 empty string values for total_charges \n",
    "***"
   ]
  },
  {
   "cell_type": "code",
   "execution_count": 826,
   "metadata": {},
   "outputs": [],
   "source": [
    "# List quant_vars & cat_vars\n",
    "quant_vars = ['tenure', 'monthly_charges', 'payment_type_id', 'internet_service_type_id', 'contract_type_id', 'senior_citizen']\n",
    "cat_vars = ['customer_id', 'gender', 'partner', 'dependents', 'phone_service', 'multiple_lines', 'online_security', 'online_backup', 'device_protection', 'tech_support', 'streaming_tv', 'streaming_movies', 'paperless_billing', 'total_charges', 'churn', 'contract_type', 'internet_service_type', 'payment_type']"
   ]
  },
  {
   "cell_type": "markdown",
   "metadata": {},
   "source": [
    "# Data Preparation"
   ]
  },
  {
   "cell_type": "code",
   "execution_count": 827,
   "metadata": {},
   "outputs": [],
   "source": [
    "# import splitting and imputing functions\n",
    "from sklearn.model_selection import train_test_split\n",
    "from sklearn.impute import SimpleImputer\n",
    "\n",
    "# turn off pink boxes for demo\n",
    "import warnings\n",
    "warnings.filterwarnings(\"ignore\")\n",
    "\n",
    "# import our own acquire module\n",
    "import acquire"
   ]
  },
  {
   "cell_type": "markdown",
   "metadata": {},
   "source": [
    "#### Prep data on observations made during Acquire stage"
   ]
  },
  {
   "cell_type": "code",
   "execution_count": 828,
   "metadata": {},
   "outputs": [],
   "source": [
    "# Drop redundant column and begin prepping data set\n",
    "prep_df = telco_df.drop(columns=['customer_id'])"
   ]
  },
  {
   "cell_type": "code",
   "execution_count": 829,
   "metadata": {},
   "outputs": [
    {
     "data": {
      "text/plain": [
       "0          11\n",
       "20.2       11\n",
       "19.75       9\n",
       "20.05       8\n",
       "19.9        8\n",
       "           ..\n",
       "860.85      1\n",
       "1533.8      1\n",
       "168.6       1\n",
       "3734.25     1\n",
       "4245.55     1\n",
       "Name: total_charges, Length: 6531, dtype: int64"
      ]
     },
     "execution_count": 829,
     "metadata": {},
     "output_type": "execute_result"
    }
   ],
   "source": [
    "# After running into an issue below, I decided to convert the total_charges spaces to a zero at this point. \n",
    "prep_df['total_charges'] = prep_df['total_charges'].replace(' ', 0)\n",
    "\n",
    "#Also ran a value counts to make sure I now have 11 zeros instead of empty values.\n",
    "prep_df['total_charges'].value_counts()"
   ]
  },
  {
   "cell_type": "code",
   "execution_count": 830,
   "metadata": {},
   "outputs": [],
   "source": [
    "# Convert total_charges from a str to a float\n",
    "prep_df['total_charges'] = prep_df['total_charges'].astype(float)"
   ]
  },
  {
   "cell_type": "markdown",
   "metadata": {},
   "source": [
    "NOTE: Received an error here initially and after investigation, the empty entries created the issue  After revewing the data, the empty values are direclty associated with new contracts, so to address this issue, I decided to enter an amount of 0 for these entries as it appears they have not gone through a bililng cycle and therefore have no cumulative charges to show. Addressed this in previous cell."
   ]
  },
  {
   "cell_type": "code",
   "execution_count": 831,
   "metadata": {},
   "outputs": [],
   "source": [
    "# Drop columns with reference data\n",
    "prep_df = prep_df.drop(columns=['contract_type', 'internet_service_type', 'payment_type'])"
   ]
  },
  {
   "cell_type": "code",
   "execution_count": 832,
   "metadata": {},
   "outputs": [
    {
     "data": {
      "text/plain": [
       "payment_type_id               int64\n",
       "internet_service_type_id      int64\n",
       "contract_type_id              int64\n",
       "gender                       object\n",
       "senior_citizen                int64\n",
       "partner                      object\n",
       "dependents                   object\n",
       "tenure                        int64\n",
       "phone_service                object\n",
       "multiple_lines               object\n",
       "online_security              object\n",
       "online_backup                object\n",
       "device_protection            object\n",
       "tech_support                 object\n",
       "streaming_tv                 object\n",
       "streaming_movies             object\n",
       "paperless_billing            object\n",
       "monthly_charges             float64\n",
       "total_charges               float64\n",
       "churn                        object\n",
       "dtype: object"
      ]
     },
     "execution_count": 832,
     "metadata": {},
     "output_type": "execute_result"
    }
   ],
   "source": [
    "# Control check on the dtypes of my prep_df at this point\n",
    "prep_df.dtypes"
   ]
  },
  {
   "cell_type": "code",
   "execution_count": 833,
   "metadata": {},
   "outputs": [
    {
     "name": "stdout",
     "output_type": "stream",
     "text": [
      "1     613\n",
      "72    362\n",
      "2     238\n",
      "3     200\n",
      "4     176\n",
      "     ... \n",
      "28     57\n",
      "39     56\n",
      "44     51\n",
      "36     50\n",
      "0      11\n",
      "Name: tenure, Length: 73, dtype: int64\n",
      "**********************\n",
      "20.05     61\n",
      "19.85     45\n",
      "19.95     44\n",
      "19.90     44\n",
      "20.00     43\n",
      "          ..\n",
      "56.85      1\n",
      "92.65      1\n",
      "109.85     1\n",
      "35.70      1\n",
      "61.95      1\n",
      "Name: monthly_charges, Length: 1585, dtype: int64\n",
      "**********************\n",
      "1    2365\n",
      "2    1612\n",
      "3    1544\n",
      "4    1522\n",
      "Name: payment_type_id, dtype: int64\n",
      "**********************\n",
      "2    3096\n",
      "1    2421\n",
      "3    1526\n",
      "Name: internet_service_type_id, dtype: int64\n",
      "**********************\n",
      "1    3875\n",
      "3    1695\n",
      "2    1473\n",
      "Name: contract_type_id, dtype: int64\n",
      "**********************\n",
      "0    5901\n",
      "1    1142\n",
      "Name: senior_citizen, dtype: int64\n",
      "**********************\n",
      "Male      3555\n",
      "Female    3488\n",
      "Name: gender, dtype: int64\n",
      "**********************\n",
      "No     3641\n",
      "Yes    3402\n",
      "Name: partner, dtype: int64\n",
      "**********************\n",
      "No     4933\n",
      "Yes    2110\n",
      "Name: dependents, dtype: int64\n",
      "**********************\n",
      "Yes    6361\n",
      "No      682\n",
      "Name: phone_service, dtype: int64\n",
      "**********************\n",
      "No                  3390\n",
      "Yes                 2971\n",
      "No phone service     682\n",
      "Name: multiple_lines, dtype: int64\n",
      "**********************\n",
      "No                     3498\n",
      "Yes                    2019\n",
      "No internet service    1526\n",
      "Name: online_security, dtype: int64\n",
      "**********************\n",
      "No                     3088\n",
      "Yes                    2429\n",
      "No internet service    1526\n",
      "Name: online_backup, dtype: int64\n",
      "**********************\n",
      "No                     3095\n",
      "Yes                    2422\n",
      "No internet service    1526\n",
      "Name: device_protection, dtype: int64\n",
      "**********************\n",
      "No                     3473\n",
      "Yes                    2044\n",
      "No internet service    1526\n",
      "Name: tech_support, dtype: int64\n",
      "**********************\n",
      "No                     2810\n",
      "Yes                    2707\n",
      "No internet service    1526\n",
      "Name: streaming_tv, dtype: int64\n",
      "**********************\n",
      "No                     2785\n",
      "Yes                    2732\n",
      "No internet service    1526\n",
      "Name: streaming_movies, dtype: int64\n",
      "**********************\n",
      "Yes    4171\n",
      "No     2872\n",
      "Name: paperless_billing, dtype: int64\n",
      "**********************\n",
      "0.00       11\n",
      "20.20      11\n",
      "19.75       9\n",
      "20.05       8\n",
      "19.65       8\n",
      "           ..\n",
      "344.20      1\n",
      "2766.40     1\n",
      "96.05       1\n",
      "1588.75     1\n",
      "1151.55     1\n",
      "Name: total_charges, Length: 6531, dtype: int64\n",
      "**********************\n",
      "No     5174\n",
      "Yes    1869\n",
      "Name: churn, dtype: int64\n",
      "**********************\n"
     ]
    }
   ],
   "source": [
    "# Now that I'm ready to convert Yes/No to 1/0 across entire df, taking a value_counts snapshot of my prep_df at this point as a control for later potential reference\n",
    "columns = ['tenure', 'monthly_charges', 'payment_type_id', 'internet_service_type_id', 'contract_type_id', 'senior_citizen', 'gender', 'partner', 'dependents', 'phone_service', 'multiple_lines', 'online_security', 'online_backup', 'device_protection', 'tech_support', 'streaming_tv', 'streaming_movies', 'paperless_billing', 'total_charges', 'churn']\n",
    "for col in columns:\n",
    "    print(prep_df[col].value_counts())\n",
    "    print('**********************')"
   ]
  },
  {
   "cell_type": "code",
   "execution_count": 834,
   "metadata": {},
   "outputs": [],
   "source": [
    "# Replace Yes/No entries with 1/0 across entire df\n",
    "prep_df = prep_df.replace({'Yes':1, 'No':0})"
   ]
  },
  {
   "cell_type": "code",
   "execution_count": 835,
   "metadata": {},
   "outputs": [
    {
     "name": "stdout",
     "output_type": "stream",
     "text": [
      "1     613\n",
      "72    362\n",
      "2     238\n",
      "3     200\n",
      "4     176\n",
      "     ... \n",
      "28     57\n",
      "39     56\n",
      "44     51\n",
      "36     50\n",
      "0      11\n",
      "Name: tenure, Length: 73, dtype: int64\n",
      "**********************\n",
      "20.05     61\n",
      "19.85     45\n",
      "19.95     44\n",
      "19.90     44\n",
      "20.00     43\n",
      "          ..\n",
      "56.85      1\n",
      "92.65      1\n",
      "109.85     1\n",
      "35.70      1\n",
      "61.95      1\n",
      "Name: monthly_charges, Length: 1585, dtype: int64\n",
      "**********************\n",
      "1    2365\n",
      "2    1612\n",
      "3    1544\n",
      "4    1522\n",
      "Name: payment_type_id, dtype: int64\n",
      "**********************\n",
      "2    3096\n",
      "1    2421\n",
      "3    1526\n",
      "Name: internet_service_type_id, dtype: int64\n",
      "**********************\n",
      "1    3875\n",
      "3    1695\n",
      "2    1473\n",
      "Name: contract_type_id, dtype: int64\n",
      "**********************\n",
      "0    5901\n",
      "1    1142\n",
      "Name: senior_citizen, dtype: int64\n",
      "**********************\n",
      "Male      3555\n",
      "Female    3488\n",
      "Name: gender, dtype: int64\n",
      "**********************\n",
      "0    3641\n",
      "1    3402\n",
      "Name: partner, dtype: int64\n",
      "**********************\n",
      "0    4933\n",
      "1    2110\n",
      "Name: dependents, dtype: int64\n",
      "**********************\n",
      "1    6361\n",
      "0     682\n",
      "Name: phone_service, dtype: int64\n",
      "**********************\n",
      "0                   3390\n",
      "1                   2971\n",
      "No phone service     682\n",
      "Name: multiple_lines, dtype: int64\n",
      "**********************\n",
      "0                      3498\n",
      "1                      2019\n",
      "No internet service    1526\n",
      "Name: online_security, dtype: int64\n",
      "**********************\n",
      "0                      3088\n",
      "1                      2429\n",
      "No internet service    1526\n",
      "Name: online_backup, dtype: int64\n",
      "**********************\n",
      "0                      3095\n",
      "1                      2422\n",
      "No internet service    1526\n",
      "Name: device_protection, dtype: int64\n",
      "**********************\n",
      "0                      3473\n",
      "1                      2044\n",
      "No internet service    1526\n",
      "Name: tech_support, dtype: int64\n",
      "**********************\n",
      "0                      2810\n",
      "1                      2707\n",
      "No internet service    1526\n",
      "Name: streaming_tv, dtype: int64\n",
      "**********************\n",
      "0                      2785\n",
      "1                      2732\n",
      "No internet service    1526\n",
      "Name: streaming_movies, dtype: int64\n",
      "**********************\n",
      "1    4171\n",
      "0    2872\n",
      "Name: paperless_billing, dtype: int64\n",
      "**********************\n",
      "0.00       11\n",
      "20.20      11\n",
      "19.75       9\n",
      "20.05       8\n",
      "19.65       8\n",
      "           ..\n",
      "344.20      1\n",
      "2766.40     1\n",
      "96.05       1\n",
      "1588.75     1\n",
      "1151.55     1\n",
      "Name: total_charges, Length: 6531, dtype: int64\n",
      "**********************\n",
      "0    5174\n",
      "1    1869\n",
      "Name: churn, dtype: int64\n",
      "**********************\n"
     ]
    }
   ],
   "source": [
    "# Check to make sure replace was successful.  NOTE: language containing No was not replaced, need to address in next step\n",
    "columns = ['tenure', 'monthly_charges', 'payment_type_id', 'internet_service_type_id', 'contract_type_id', 'senior_citizen', 'gender', 'partner', 'dependents', 'phone_service', 'multiple_lines', 'online_security', 'online_backup', 'device_protection', 'tech_support', 'streaming_tv', 'streaming_movies', 'paperless_billing', 'total_charges', 'churn']\n",
    "for col in columns:\n",
    "    print(prep_df[col].value_counts())\n",
    "    print('**********************')"
   ]
  },
  {
   "cell_type": "code",
   "execution_count": 836,
   "metadata": {},
   "outputs": [
    {
     "name": "stdout",
     "output_type": "stream",
     "text": [
      "1     613\n",
      "72    362\n",
      "2     238\n",
      "3     200\n",
      "4     176\n",
      "     ... \n",
      "28     57\n",
      "39     56\n",
      "44     51\n",
      "36     50\n",
      "0      11\n",
      "Name: tenure, Length: 73, dtype: int64\n",
      "**********************\n",
      "20.05     61\n",
      "19.85     45\n",
      "19.95     44\n",
      "19.90     44\n",
      "20.00     43\n",
      "          ..\n",
      "56.85      1\n",
      "92.65      1\n",
      "109.85     1\n",
      "35.70      1\n",
      "61.95      1\n",
      "Name: monthly_charges, Length: 1585, dtype: int64\n",
      "**********************\n",
      "1    2365\n",
      "2    1612\n",
      "3    1544\n",
      "4    1522\n",
      "Name: payment_type_id, dtype: int64\n",
      "**********************\n",
      "2    3096\n",
      "1    2421\n",
      "3    1526\n",
      "Name: internet_service_type_id, dtype: int64\n",
      "**********************\n",
      "1    3875\n",
      "3    1695\n",
      "2    1473\n",
      "Name: contract_type_id, dtype: int64\n",
      "**********************\n",
      "0    5901\n",
      "1    1142\n",
      "Name: senior_citizen, dtype: int64\n",
      "**********************\n",
      "Male      3555\n",
      "Female    3488\n",
      "Name: gender, dtype: int64\n",
      "**********************\n",
      "0    3641\n",
      "1    3402\n",
      "Name: partner, dtype: int64\n",
      "**********************\n",
      "0    4933\n",
      "1    2110\n",
      "Name: dependents, dtype: int64\n",
      "**********************\n",
      "1    6361\n",
      "0     682\n",
      "Name: phone_service, dtype: int64\n",
      "**********************\n",
      "0    4072\n",
      "1    2971\n",
      "Name: multiple_lines, dtype: int64\n",
      "**********************\n",
      "0    5024\n",
      "1    2019\n",
      "Name: online_security, dtype: int64\n",
      "**********************\n",
      "0    4614\n",
      "1    2429\n",
      "Name: online_backup, dtype: int64\n",
      "**********************\n",
      "0    4621\n",
      "1    2422\n",
      "Name: device_protection, dtype: int64\n",
      "**********************\n",
      "0    4999\n",
      "1    2044\n",
      "Name: tech_support, dtype: int64\n",
      "**********************\n",
      "0    4336\n",
      "1    2707\n",
      "Name: streaming_tv, dtype: int64\n",
      "**********************\n",
      "0    4311\n",
      "1    2732\n",
      "Name: streaming_movies, dtype: int64\n",
      "**********************\n",
      "1    4171\n",
      "0    2872\n",
      "Name: paperless_billing, dtype: int64\n",
      "**********************\n",
      "0.00       11\n",
      "20.20      11\n",
      "19.75       9\n",
      "20.05       8\n",
      "19.65       8\n",
      "           ..\n",
      "344.20      1\n",
      "2766.40     1\n",
      "96.05       1\n",
      "1588.75     1\n",
      "1151.55     1\n",
      "Name: total_charges, Length: 6531, dtype: int64\n",
      "**********************\n",
      "0    5174\n",
      "1    1869\n",
      "Name: churn, dtype: int64\n",
      "**********************\n"
     ]
    }
   ],
   "source": [
    "# Assumptive Manipulation: conversion of non-service to a 'No'\n",
    "prep_df = prep_df.replace({'No internet service':0, 'No phone service':0})\n",
    "\n",
    "# check update via value counts\n",
    "columns = ['tenure', 'monthly_charges', 'payment_type_id', 'internet_service_type_id', 'contract_type_id', 'senior_citizen', 'gender', 'partner', 'dependents', 'phone_service', 'multiple_lines', 'online_security', 'online_backup', 'device_protection', 'tech_support', 'streaming_tv', 'streaming_movies', 'paperless_billing', 'total_charges', 'churn']\n",
    "for col in columns:\n",
    "    print(prep_df[col].value_counts())\n",
    "    print('**********************')"
   ]
  },
  {
   "cell_type": "code",
   "execution_count": 837,
   "metadata": {},
   "outputs": [
    {
     "data": {
      "text/html": [
       "<div>\n",
       "<style scoped>\n",
       "    .dataframe tbody tr th:only-of-type {\n",
       "        vertical-align: middle;\n",
       "    }\n",
       "\n",
       "    .dataframe tbody tr th {\n",
       "        vertical-align: top;\n",
       "    }\n",
       "\n",
       "    .dataframe thead th {\n",
       "        text-align: right;\n",
       "    }\n",
       "</style>\n",
       "<table border=\"1\" class=\"dataframe\">\n",
       "  <thead>\n",
       "    <tr style=\"text-align: right;\">\n",
       "      <th></th>\n",
       "      <th>payment_type_id</th>\n",
       "      <th>internet_service_type_id</th>\n",
       "      <th>contract_type_id</th>\n",
       "      <th>is_male</th>\n",
       "      <th>senior_citizen</th>\n",
       "      <th>partner</th>\n",
       "      <th>dependents</th>\n",
       "      <th>tenure</th>\n",
       "      <th>phone_service</th>\n",
       "      <th>multiple_lines</th>\n",
       "      <th>online_security</th>\n",
       "      <th>online_backup</th>\n",
       "      <th>device_protection</th>\n",
       "      <th>tech_support</th>\n",
       "      <th>streaming_tv</th>\n",
       "      <th>streaming_movies</th>\n",
       "      <th>paperless_billing</th>\n",
       "      <th>monthly_charges</th>\n",
       "      <th>total_charges</th>\n",
       "      <th>churn</th>\n",
       "    </tr>\n",
       "  </thead>\n",
       "  <tbody>\n",
       "    <tr>\n",
       "      <th>0</th>\n",
       "      <td>2</td>\n",
       "      <td>1</td>\n",
       "      <td>3</td>\n",
       "      <td>0</td>\n",
       "      <td>0</td>\n",
       "      <td>1</td>\n",
       "      <td>1</td>\n",
       "      <td>65</td>\n",
       "      <td>1</td>\n",
       "      <td>1</td>\n",
       "      <td>1</td>\n",
       "      <td>1</td>\n",
       "      <td>1</td>\n",
       "      <td>1</td>\n",
       "      <td>1</td>\n",
       "      <td>1</td>\n",
       "      <td>1</td>\n",
       "      <td>90.45</td>\n",
       "      <td>5957.90</td>\n",
       "      <td>0</td>\n",
       "    </tr>\n",
       "    <tr>\n",
       "      <th>1</th>\n",
       "      <td>4</td>\n",
       "      <td>1</td>\n",
       "      <td>3</td>\n",
       "      <td>1</td>\n",
       "      <td>0</td>\n",
       "      <td>0</td>\n",
       "      <td>0</td>\n",
       "      <td>54</td>\n",
       "      <td>0</td>\n",
       "      <td>0</td>\n",
       "      <td>1</td>\n",
       "      <td>0</td>\n",
       "      <td>0</td>\n",
       "      <td>1</td>\n",
       "      <td>1</td>\n",
       "      <td>0</td>\n",
       "      <td>0</td>\n",
       "      <td>45.20</td>\n",
       "      <td>2460.55</td>\n",
       "      <td>0</td>\n",
       "    </tr>\n",
       "    <tr>\n",
       "      <th>2</th>\n",
       "      <td>3</td>\n",
       "      <td>1</td>\n",
       "      <td>3</td>\n",
       "      <td>0</td>\n",
       "      <td>0</td>\n",
       "      <td>0</td>\n",
       "      <td>0</td>\n",
       "      <td>56</td>\n",
       "      <td>0</td>\n",
       "      <td>0</td>\n",
       "      <td>1</td>\n",
       "      <td>1</td>\n",
       "      <td>1</td>\n",
       "      <td>1</td>\n",
       "      <td>0</td>\n",
       "      <td>0</td>\n",
       "      <td>0</td>\n",
       "      <td>45.05</td>\n",
       "      <td>2560.10</td>\n",
       "      <td>0</td>\n",
       "    </tr>\n",
       "    <tr>\n",
       "      <th>3</th>\n",
       "      <td>4</td>\n",
       "      <td>1</td>\n",
       "      <td>3</td>\n",
       "      <td>1</td>\n",
       "      <td>0</td>\n",
       "      <td>1</td>\n",
       "      <td>1</td>\n",
       "      <td>20</td>\n",
       "      <td>0</td>\n",
       "      <td>0</td>\n",
       "      <td>1</td>\n",
       "      <td>0</td>\n",
       "      <td>1</td>\n",
       "      <td>1</td>\n",
       "      <td>0</td>\n",
       "      <td>0</td>\n",
       "      <td>1</td>\n",
       "      <td>39.40</td>\n",
       "      <td>825.40</td>\n",
       "      <td>0</td>\n",
       "    </tr>\n",
       "    <tr>\n",
       "      <th>4</th>\n",
       "      <td>3</td>\n",
       "      <td>1</td>\n",
       "      <td>3</td>\n",
       "      <td>1</td>\n",
       "      <td>0</td>\n",
       "      <td>1</td>\n",
       "      <td>0</td>\n",
       "      <td>72</td>\n",
       "      <td>1</td>\n",
       "      <td>1</td>\n",
       "      <td>0</td>\n",
       "      <td>1</td>\n",
       "      <td>1</td>\n",
       "      <td>1</td>\n",
       "      <td>1</td>\n",
       "      <td>1</td>\n",
       "      <td>1</td>\n",
       "      <td>85.15</td>\n",
       "      <td>6316.20</td>\n",
       "      <td>0</td>\n",
       "    </tr>\n",
       "    <tr>\n",
       "      <th>...</th>\n",
       "      <td>...</td>\n",
       "      <td>...</td>\n",
       "      <td>...</td>\n",
       "      <td>...</td>\n",
       "      <td>...</td>\n",
       "      <td>...</td>\n",
       "      <td>...</td>\n",
       "      <td>...</td>\n",
       "      <td>...</td>\n",
       "      <td>...</td>\n",
       "      <td>...</td>\n",
       "      <td>...</td>\n",
       "      <td>...</td>\n",
       "      <td>...</td>\n",
       "      <td>...</td>\n",
       "      <td>...</td>\n",
       "      <td>...</td>\n",
       "      <td>...</td>\n",
       "      <td>...</td>\n",
       "      <td>...</td>\n",
       "    </tr>\n",
       "    <tr>\n",
       "      <th>95</th>\n",
       "      <td>1</td>\n",
       "      <td>1</td>\n",
       "      <td>3</td>\n",
       "      <td>1</td>\n",
       "      <td>0</td>\n",
       "      <td>0</td>\n",
       "      <td>0</td>\n",
       "      <td>60</td>\n",
       "      <td>1</td>\n",
       "      <td>0</td>\n",
       "      <td>1</td>\n",
       "      <td>1</td>\n",
       "      <td>1</td>\n",
       "      <td>0</td>\n",
       "      <td>0</td>\n",
       "      <td>0</td>\n",
       "      <td>0</td>\n",
       "      <td>61.40</td>\n",
       "      <td>3638.25</td>\n",
       "      <td>0</td>\n",
       "    </tr>\n",
       "    <tr>\n",
       "      <th>96</th>\n",
       "      <td>3</td>\n",
       "      <td>1</td>\n",
       "      <td>3</td>\n",
       "      <td>1</td>\n",
       "      <td>0</td>\n",
       "      <td>1</td>\n",
       "      <td>1</td>\n",
       "      <td>45</td>\n",
       "      <td>1</td>\n",
       "      <td>0</td>\n",
       "      <td>1</td>\n",
       "      <td>0</td>\n",
       "      <td>0</td>\n",
       "      <td>1</td>\n",
       "      <td>0</td>\n",
       "      <td>0</td>\n",
       "      <td>0</td>\n",
       "      <td>54.65</td>\n",
       "      <td>2553.70</td>\n",
       "      <td>0</td>\n",
       "    </tr>\n",
       "    <tr>\n",
       "      <th>97</th>\n",
       "      <td>4</td>\n",
       "      <td>1</td>\n",
       "      <td>3</td>\n",
       "      <td>1</td>\n",
       "      <td>0</td>\n",
       "      <td>1</td>\n",
       "      <td>1</td>\n",
       "      <td>72</td>\n",
       "      <td>1</td>\n",
       "      <td>1</td>\n",
       "      <td>1</td>\n",
       "      <td>1</td>\n",
       "      <td>1</td>\n",
       "      <td>1</td>\n",
       "      <td>1</td>\n",
       "      <td>1</td>\n",
       "      <td>0</td>\n",
       "      <td>89.85</td>\n",
       "      <td>6562.90</td>\n",
       "      <td>0</td>\n",
       "    </tr>\n",
       "    <tr>\n",
       "      <th>98</th>\n",
       "      <td>2</td>\n",
       "      <td>1</td>\n",
       "      <td>3</td>\n",
       "      <td>1</td>\n",
       "      <td>0</td>\n",
       "      <td>1</td>\n",
       "      <td>1</td>\n",
       "      <td>72</td>\n",
       "      <td>0</td>\n",
       "      <td>0</td>\n",
       "      <td>1</td>\n",
       "      <td>0</td>\n",
       "      <td>1</td>\n",
       "      <td>1</td>\n",
       "      <td>1</td>\n",
       "      <td>0</td>\n",
       "      <td>0</td>\n",
       "      <td>48.90</td>\n",
       "      <td>3527.00</td>\n",
       "      <td>0</td>\n",
       "    </tr>\n",
       "    <tr>\n",
       "      <th>99</th>\n",
       "      <td>2</td>\n",
       "      <td>1</td>\n",
       "      <td>3</td>\n",
       "      <td>1</td>\n",
       "      <td>0</td>\n",
       "      <td>0</td>\n",
       "      <td>0</td>\n",
       "      <td>30</td>\n",
       "      <td>1</td>\n",
       "      <td>0</td>\n",
       "      <td>1</td>\n",
       "      <td>0</td>\n",
       "      <td>1</td>\n",
       "      <td>0</td>\n",
       "      <td>0</td>\n",
       "      <td>0</td>\n",
       "      <td>1</td>\n",
       "      <td>55.65</td>\n",
       "      <td>1653.85</td>\n",
       "      <td>0</td>\n",
       "    </tr>\n",
       "  </tbody>\n",
       "</table>\n",
       "<p>100 rows × 20 columns</p>\n",
       "</div>"
      ],
      "text/plain": [
       "    payment_type_id  internet_service_type_id  contract_type_id  is_male  \\\n",
       "0                 2                         1                 3        0   \n",
       "1                 4                         1                 3        1   \n",
       "2                 3                         1                 3        0   \n",
       "3                 4                         1                 3        1   \n",
       "4                 3                         1                 3        1   \n",
       "..              ...                       ...               ...      ...   \n",
       "95                1                         1                 3        1   \n",
       "96                3                         1                 3        1   \n",
       "97                4                         1                 3        1   \n",
       "98                2                         1                 3        1   \n",
       "99                2                         1                 3        1   \n",
       "\n",
       "    senior_citizen  partner  dependents  tenure  phone_service  \\\n",
       "0                0        1           1      65              1   \n",
       "1                0        0           0      54              0   \n",
       "2                0        0           0      56              0   \n",
       "3                0        1           1      20              0   \n",
       "4                0        1           0      72              1   \n",
       "..             ...      ...         ...     ...            ...   \n",
       "95               0        0           0      60              1   \n",
       "96               0        1           1      45              1   \n",
       "97               0        1           1      72              1   \n",
       "98               0        1           1      72              0   \n",
       "99               0        0           0      30              1   \n",
       "\n",
       "    multiple_lines  online_security  online_backup  device_protection  \\\n",
       "0                1                1              1                  1   \n",
       "1                0                1              0                  0   \n",
       "2                0                1              1                  1   \n",
       "3                0                1              0                  1   \n",
       "4                1                0              1                  1   \n",
       "..             ...              ...            ...                ...   \n",
       "95               0                1              1                  1   \n",
       "96               0                1              0                  0   \n",
       "97               1                1              1                  1   \n",
       "98               0                1              0                  1   \n",
       "99               0                1              0                  1   \n",
       "\n",
       "    tech_support  streaming_tv  streaming_movies  paperless_billing  \\\n",
       "0              1             1                 1                  1   \n",
       "1              1             1                 0                  0   \n",
       "2              1             0                 0                  0   \n",
       "3              1             0                 0                  1   \n",
       "4              1             1                 1                  1   \n",
       "..           ...           ...               ...                ...   \n",
       "95             0             0                 0                  0   \n",
       "96             1             0                 0                  0   \n",
       "97             1             1                 1                  0   \n",
       "98             1             1                 0                  0   \n",
       "99             0             0                 0                  1   \n",
       "\n",
       "    monthly_charges  total_charges  churn  \n",
       "0             90.45        5957.90      0  \n",
       "1             45.20        2460.55      0  \n",
       "2             45.05        2560.10      0  \n",
       "3             39.40         825.40      0  \n",
       "4             85.15        6316.20      0  \n",
       "..              ...            ...    ...  \n",
       "95            61.40        3638.25      0  \n",
       "96            54.65        2553.70      0  \n",
       "97            89.85        6562.90      0  \n",
       "98            48.90        3527.00      0  \n",
       "99            55.65        1653.85      0  \n",
       "\n",
       "[100 rows x 20 columns]"
      ]
     },
     "execution_count": 837,
     "metadata": {},
     "output_type": "execute_result"
    }
   ],
   "source": [
    "# Final data prep steps: \n",
    "# convert the gender column to is_male and male/female strings to 1/0 values\n",
    "prep_df = prep_df.rename(columns={'gender': 'is_male'})\n",
    "\n",
    "# replace male/female with 1/0\n",
    "prep_df = prep_df.replace({'Male':1, 'Female':0})\n",
    "\n",
    "# Check\n",
    "prep_df.head(100)"
   ]
  },
  {
   "cell_type": "code",
   "execution_count": 838,
   "metadata": {},
   "outputs": [
    {
     "name": "stdout",
     "output_type": "stream",
     "text": [
      "1     613\n",
      "72    362\n",
      "2     238\n",
      "3     200\n",
      "4     176\n",
      "     ... \n",
      "28     57\n",
      "39     56\n",
      "44     51\n",
      "36     50\n",
      "0      11\n",
      "Name: tenure, Length: 73, dtype: int64\n",
      "**********************\n",
      "20.05     61\n",
      "19.85     45\n",
      "19.95     44\n",
      "19.90     44\n",
      "20.00     43\n",
      "          ..\n",
      "56.85      1\n",
      "92.65      1\n",
      "109.85     1\n",
      "35.70      1\n",
      "61.95      1\n",
      "Name: monthly_charges, Length: 1585, dtype: int64\n",
      "**********************\n",
      "1    2365\n",
      "2    1612\n",
      "3    1544\n",
      "4    1522\n",
      "Name: payment_type_id, dtype: int64\n",
      "**********************\n",
      "2    3096\n",
      "1    2421\n",
      "3    1526\n",
      "Name: internet_service_type_id, dtype: int64\n",
      "**********************\n",
      "1    3875\n",
      "3    1695\n",
      "2    1473\n",
      "Name: contract_type_id, dtype: int64\n",
      "**********************\n",
      "0    5901\n",
      "1    1142\n",
      "Name: senior_citizen, dtype: int64\n",
      "**********************\n",
      "1    3555\n",
      "0    3488\n",
      "Name: is_male, dtype: int64\n",
      "**********************\n",
      "0    3641\n",
      "1    3402\n",
      "Name: partner, dtype: int64\n",
      "**********************\n",
      "0    4933\n",
      "1    2110\n",
      "Name: dependents, dtype: int64\n",
      "**********************\n",
      "1    6361\n",
      "0     682\n",
      "Name: phone_service, dtype: int64\n",
      "**********************\n",
      "0    4072\n",
      "1    2971\n",
      "Name: multiple_lines, dtype: int64\n",
      "**********************\n",
      "0    5024\n",
      "1    2019\n",
      "Name: online_security, dtype: int64\n",
      "**********************\n",
      "0    4614\n",
      "1    2429\n",
      "Name: online_backup, dtype: int64\n",
      "**********************\n",
      "0    4621\n",
      "1    2422\n",
      "Name: device_protection, dtype: int64\n",
      "**********************\n",
      "0    4999\n",
      "1    2044\n",
      "Name: tech_support, dtype: int64\n",
      "**********************\n",
      "0    4336\n",
      "1    2707\n",
      "Name: streaming_tv, dtype: int64\n",
      "**********************\n",
      "0    4311\n",
      "1    2732\n",
      "Name: streaming_movies, dtype: int64\n",
      "**********************\n",
      "1    4171\n",
      "0    2872\n",
      "Name: paperless_billing, dtype: int64\n",
      "**********************\n",
      "0.00       11\n",
      "20.20      11\n",
      "19.75       9\n",
      "20.05       8\n",
      "19.65       8\n",
      "           ..\n",
      "344.20      1\n",
      "2766.40     1\n",
      "96.05       1\n",
      "1588.75     1\n",
      "1151.55     1\n",
      "Name: total_charges, Length: 6531, dtype: int64\n",
      "**********************\n",
      "0    5174\n",
      "1    1869\n",
      "Name: churn, dtype: int64\n",
      "**********************\n"
     ]
    }
   ],
   "source": [
    "# final control check\n",
    "columns = ['tenure', 'monthly_charges', 'payment_type_id', 'internet_service_type_id', 'contract_type_id', 'senior_citizen', 'is_male', 'partner', 'dependents', 'phone_service', 'multiple_lines', 'online_security', 'online_backup', 'device_protection', 'tech_support', 'streaming_tv', 'streaming_movies', 'paperless_billing', 'total_charges', 'churn']\n",
    "for col in columns:\n",
    "    print(prep_df[col].value_counts())\n",
    "    print('**********************')"
   ]
  },
  {
   "cell_type": "markdown",
   "metadata": {},
   "source": [
    "***\n",
    "##### Now that final control is passed, create function to iterate Data Preparation steps\n",
    "***"
   ]
  },
  {
   "cell_type": "markdown",
   "metadata": {},
   "source": [
    "***\n",
    "`def prep_df(df)`:\n",
    "    \n",
    "    # Drop redundant data column \n",
    "    prep_df = telco_df.drop(columns=['customer_id'])\n",
    "    \n",
    "    # convert the total_charges spaces to zeros  \n",
    "    prep_df['total_charges'] = prep_df['total_charges'].replace(' ',0)\n",
    "    \n",
    "    # Convert total_charges from a str to a float\n",
    "    prep_df['total_charges'] = prep_df['total_charges'].astype(float)\n",
    "    \n",
    "    # Drop columns with reference data\n",
    "    prep_df = prep_df.drop(columns=['contract_type', \n",
    "    'internet_service_type', 'payment_type'])\n",
    "    \n",
    "    # Replace Yes/No entries with 1/0 across entire df\n",
    "    prep_df = prep_df.replace({'Yes':1, 'No':0})\n",
    "    \n",
    "    # Assumptive Manipulation: conversion of non-service to a 0 \n",
    "    prep_df = prep_df.replace({'No internet service':0, 'No phone service':0})\n",
    "    \n",
    "    # convert the gender column to is_male and male/female strings to 1/0 values\n",
    "    prep_df = prep_df.rename(columns={'gender': 'is_male'})\n",
    "\n",
    "    # replace male/female with 1/0\n",
    "    prep_df = prep_df.replace({'Male':1, 'Female':0})\n",
    "    \n",
    "    return prep_df \n",
    "***"
   ]
  },
  {
   "cell_type": "markdown",
   "metadata": {},
   "source": [
    "***\n",
    "#### Split the Data: Train, Validate & Test\n",
    "***"
   ]
  },
  {
   "cell_type": "code",
   "execution_count": 839,
   "metadata": {},
   "outputs": [],
   "source": [
    "# import splitting and imputing functions\n",
    "from sklearn.model_selection import train_test_split\n",
    "from sklearn.impute import SimpleImputer\n",
    "\n",
    "# turn off pink boxes for demo\n",
    "import warnings\n",
    "warnings.filterwarnings(\"ignore\")\n",
    "\n",
    "# import our own modules\n",
    "import acquire\n",
    "import prepare"
   ]
  },
  {
   "cell_type": "code",
   "execution_count": 840,
   "metadata": {},
   "outputs": [],
   "source": [
    "# Run function to take in prep_data from Telco and split   \n",
    "train, validate, test = prepare.telco_split(prep_df)"
   ]
  },
  {
   "cell_type": "code",
   "execution_count": 841,
   "metadata": {},
   "outputs": [
    {
     "name": "stdout",
     "output_type": "stream",
     "text": [
      "train -> (3943, 20)\n",
      "validate -> (1691, 20)\n",
      "test -> (1409, 20)\n"
     ]
    }
   ],
   "source": [
    "# validate the split\n",
    "\n",
    "print(f'train -> {train.shape}')\n",
    "print(f'validate -> {validate.shape}')\n",
    "print(f'test -> {test.shape}')"
   ]
  },
  {
   "cell_type": "markdown",
   "metadata": {},
   "source": [
    "# Data Exploration"
   ]
  },
  {
   "cell_type": "code",
   "execution_count": 842,
   "metadata": {},
   "outputs": [],
   "source": [
    "import seaborn as sns"
   ]
  },
  {
   "cell_type": "markdown",
   "metadata": {},
   "source": [
    "##### OBJECTIVE: to identify potentially significant relationships between Churn and the rest of the features"
   ]
  },
  {
   "cell_type": "code",
   "execution_count": 843,
   "metadata": {},
   "outputs": [],
   "source": [
    "# Create a list of train columns as reference, removing target ('churn')\n",
    "columns = train.columns.tolist()\n",
    "columns.remove('churn')"
   ]
  },
  {
   "cell_type": "code",
   "execution_count": 844,
   "metadata": {},
   "outputs": [],
   "source": [
    "# Group data into two sets as per continous vs categorical dtypes \n",
    "cont_data = ['tenure', 'monthly_charges', 'total_charges']\n",
    "mult_data = ['internet_service_type_id','payment_type_id', 'contract_type_id']\n",
    "disc_data = [x for x in columns if x not in cont_data and x not in mult_data]"
   ]
  },
  {
   "cell_type": "code",
   "execution_count": 845,
   "metadata": {},
   "outputs": [],
   "source": [
    "# Create a function that will take in input and output value counts for inputs\n",
    "\n",
    "def normal(x):\n",
    "    for col in x:\n",
    "        print(train[col].value_counts(normalize=True))\n",
    "        print('**********************')"
   ]
  },
  {
   "cell_type": "markdown",
   "metadata": {},
   "source": [
    "#### Visualize Continous Data"
   ]
  },
  {
   "cell_type": "code",
   "execution_count": 846,
   "metadata": {},
   "outputs": [
    {
     "data": {
      "text/plain": [
       "Text(0.5, 0, 'Tenure')"
      ]
     },
     "execution_count": 846,
     "metadata": {},
     "output_type": "execute_result"
    },
    {
     "data": {
      "image/png": "[encoded data removed]",
      "text/plain": [
       "<Figure size 936x360 with 1 Axes>"
      ]
     },
     "metadata": {},
     "output_type": "display_data"
    }
   ],
   "source": [
    "# Churn by Tenure \n",
    "plt.figure(figsize=(13,5))\n",
    "sns.histplot(train,\n",
    "             x=train.tenure,\n",
    "             hue='churn',\n",
    "             multiple='stack',\n",
    "             palette='Blues')\n",
    "plt.title(\"Churn by Tenure\")\n",
    "plt.xlabel('Tenure')\n"
   ]
  },
  {
   "cell_type": "code",
   "execution_count": 847,
   "metadata": {},
   "outputs": [
    {
     "data": {
      "text/plain": [
       "Text(0.5, 0, 'monthly_charges')"
      ]
     },
     "execution_count": 847,
     "metadata": {},
     "output_type": "execute_result"
    },
    {
     "data": {
      "image/png": "[encoded data removed]",
      "text/plain": [
       "<Figure size 936x360 with 1 Axes>"
      ]
     },
     "metadata": {},
     "output_type": "display_data"
    }
   ],
   "source": [
    "# Churn by Monthly Charges \n",
    "plt.figure(figsize=(13,5))\n",
    "sns.histplot(train,\n",
    "             x=train.monthly_charges,\n",
    "             hue='churn',\n",
    "             multiple='stack',\n",
    "             palette='Blues')\n",
    "plt.title(\"Churn by Monthly Charges\")\n",
    "plt.xlabel('monthly_charges')\n"
   ]
  },
  {
   "cell_type": "code",
   "execution_count": 848,
   "metadata": {},
   "outputs": [
    {
     "data": {
      "text/plain": [
       "Text(0.5, 0, 'total_charges')"
      ]
     },
     "execution_count": 848,
     "metadata": {},
     "output_type": "execute_result"
    },
    {
     "data": {
      "image/png": "[encoded data removed]",
      "text/plain": [
       "<Figure size 936x360 with 1 Axes>"
      ]
     },
     "metadata": {},
     "output_type": "display_data"
    }
   ],
   "source": [
    "# Churn by Total Charges \n",
    "plt.figure(figsize=(13,5))\n",
    "sns.histplot(train,\n",
    "             x=train.total_charges,\n",
    "             hue='churn',\n",
    "             multiple='stack',\n",
    "             palette='Blues')\n",
    "plt.title(\"Churn by Total Charges\")\n",
    "plt.xlabel('total_charges')"
   ]
  },
  {
   "cell_type": "markdown",
   "metadata": {},
   "source": [
    "***\n",
    "Continuous Data Takeaways:\n",
    "    \n",
    "* Churn by Tenure is heavily frontloaded. \n",
    "* Churn by Monthly Charges dramatically rises after 65\n",
    "* Churn by Total Charges again supports the frontloaded observation\n",
    "***"
   ]
  },
  {
   "cell_type": "markdown",
   "metadata": {},
   "source": [
    "#### Visualize Discrete Data"
   ]
  },
  {
   "cell_type": "code",
   "execution_count": 938,
   "metadata": {},
   "outputs": [
    {
     "data": {
      "text/plain": [
       "Text(0.5, 1.0, 'Churn Rate by Payment Type')"
      ]
     },
     "execution_count": 938,
     "metadata": {},
     "output_type": "execute_result"
    },
    {
     "data": {
      "image/png": "[encoded data removed]",
      "text/plain": [
       "<Figure size 405.725x360 with 1 Axes>"
      ]
     },
     "metadata": {},
     "output_type": "display_data"
    }
   ],
   "source": [
    "x,y = 'payment_type_id', 'churn'\n",
    "(train.groupby(x)[y].value_counts(normalize=True).mul(100).rename('%').reset_index().pipe((sns.catplot, 'data'), x=x, y='%', hue=y, kind='bar', palette='Blues'))\n",
    "plt.title('Churn Rate by Payment Type')"
   ]
  },
  {
   "cell_type": "code",
   "execution_count": 937,
   "metadata": {},
   "outputs": [
    {
     "data": {
      "text/plain": [
       "Text(0.5, 1.0, 'Churn Rate by Contract Type')"
      ]
     },
     "execution_count": 937,
     "metadata": {},
     "output_type": "execute_result"
    },
    {
     "data": {
      "image/png": "[encoded data removed]",
      "text/plain": [
       "<Figure size 405.725x360 with 1 Axes>"
      ]
     },
     "metadata": {},
     "output_type": "display_data"
    }
   ],
   "source": [
    "x,y = 'contract_type_id', 'churn'\n",
    "(train.groupby(x)[y].value_counts(normalize=True).mul(100).rename('%').reset_index().pipe((sns.catplot, 'data'), x=x, y='%', hue=y, kind='bar', palette='Blues'))\n",
    "plt.title('Churn Rate by Contract Type')"
   ]
  },
  {
   "cell_type": "code",
   "execution_count": 936,
   "metadata": {},
   "outputs": [
    {
     "data": {
      "text/plain": [
       "Text(0.5, 1.0, 'Churn Rate by Internet Service')"
      ]
     },
     "execution_count": 936,
     "metadata": {},
     "output_type": "execute_result"
    },
    {
     "data": {
      "image/png": "[encoded data removed]",
      "text/plain": [
       "<Figure size 405.725x360 with 1 Axes>"
      ]
     },
     "metadata": {},
     "output_type": "display_data"
    }
   ],
   "source": [
    "x,y = 'internet_service_type_id', 'churn'\n",
    "(train.groupby(x)[y].value_counts(normalize=True).mul(100).rename('%').reset_index().pipe((sns.catplot, 'data'), x=x, y='%', hue=y, kind='bar', palette='Blues'))\n",
    "plt.title('Churn Rate by Internet Service')"
   ]
  },
  {
   "cell_type": "markdown",
   "metadata": {},
   "source": [
    "***\n",
    "Mulivariate Discrete Data Takeaways:\n",
    "\n",
    "* Payment by electronic check signficant churn driver and only one worth further exploring in payment types \n",
    "* Month-to-month contracts significatn churn driver.  1y & 2yr contracts drive loyalty.\n",
    "* Fiber Optics a major churn driver while other internet service types are not drivers.\n",
    "\n",
    "Data key:\n",
    "* payment_type_id = {1:Electronic Check, 2:Mailed Check, 3:Bank Transfer(auto), 4:Credit Card (auto)\n",
    "* contract_type_id = {1:month_to_month, 2:One year, 3:Two year}\n",
    "* internet_service_type_id = {1:DSL, 2:Fiber Optics, 3:None}\n",
    "\n",
    "Prelimary Insights: \n",
    "\n",
    "* I believe the internet service type is telling here.  I find it odd that the superior value-adding service drives more churn when compared with lower quality service and even more odd when compared to non-subscribers.  Assumption here is that price may be a factor.\n",
    "* Contract length an obvious explanatory variable.  However, I'd like to explore any significant associations across all the features with contract types to see if there's some explanatory power here.\n",
    "* A significant portion of all churn is occuring within the first 10-20 months.  Again, are there any associative grouping that may have some explanatory value here. \n",
    "***"
   ]
  },
  {
   "cell_type": "code",
   "execution_count": 852,
   "metadata": {},
   "outputs": [
    {
     "data": {
      "image/png": "[encoded data removed]",
      "text/plain": [
       "<Figure size 1152x1152 with 16 Axes>"
      ]
     },
     "metadata": {},
     "output_type": "display_data"
    }
   ],
   "source": [
    "churn_rate = train.churn.mean()\n",
    "_, ax = plt.subplots(nrows=4, ncols=4, figsize=(16, 16), sharey=True)\n",
    "for i, col in enumerate(disc_data):\n",
    "    ax = ax.flatten()\n",
    "    sns.barplot(col, train.churn, data=train, ax=ax[i], palette='Blues')\n",
    "    ax[i].set_xlabel('')\n",
    "    ax[i].set_ylabel('churn_rate')\n",
    "    ax[i].set_title(col)\n",
    "    ax[i].axhline(churn_rate, ls='--', color='grey')"
   ]
  },
  {
   "cell_type": "code",
   "execution_count": 853,
   "metadata": {},
   "outputs": [
    {
     "data": {
      "image/png": "[encoded data removed]",
      "text/plain": [
       "<Figure size 1152x1152 with 16 Axes>"
      ]
     },
     "metadata": {},
     "output_type": "display_data"
    }
   ],
   "source": [
    "churn_rate = train.churn.mean()\n",
    "_, ax = plt.subplots(nrows=4, ncols=4, figsize=(16, 16), sharey=True)\n",
    "for i, col in enumerate(disc_data):\n",
    "    ax = ax.flatten()\n",
    "    sns.lineplot(col, train.churn, data=train, ax=ax[i])\n",
    "    ax[i].set_xlabel('')\n",
    "    ax[i].set_ylabel('churn_rate')\n",
    "    ax[i].set_title(col)\n",
    "    ax[i].axhline(churn_rate, ls='--', color='grey')"
   ]
  },
  {
   "cell_type": "code",
   "execution_count": 854,
   "metadata": {},
   "outputs": [
    {
     "name": "stdout",
     "output_type": "stream",
     "text": [
      "1    0.510525\n",
      "0    0.489475\n",
      "Name: is_male, dtype: float64\n",
      "**********************\n",
      "0    0.837687\n",
      "1    0.162313\n",
      "Name: senior_citizen, dtype: float64\n",
      "**********************\n",
      "0    0.518387\n",
      "1    0.481613\n",
      "Name: partner, dtype: float64\n",
      "**********************\n",
      "0    0.700989\n",
      "1    0.299011\n",
      "Name: dependents, dtype: float64\n",
      "**********************\n",
      "1    0.90033\n",
      "0    0.09967\n",
      "Name: phone_service, dtype: float64\n",
      "**********************\n",
      "0    0.577479\n",
      "1    0.422521\n",
      "Name: multiple_lines, dtype: float64\n",
      "**********************\n",
      "0    0.708598\n",
      "1    0.291402\n",
      "Name: online_security, dtype: float64\n",
      "**********************\n",
      "0    0.644433\n",
      "1    0.355567\n",
      "Name: online_backup, dtype: float64\n",
      "**********************\n",
      "0    0.642658\n",
      "1    0.357342\n",
      "Name: device_protection, dtype: float64\n",
      "**********************\n",
      "0    0.699721\n",
      "1    0.300279\n",
      "Name: tech_support, dtype: float64\n",
      "**********************\n",
      "0    0.61755\n",
      "1    0.38245\n",
      "Name: streaming_tv, dtype: float64\n",
      "**********************\n",
      "0    0.605884\n",
      "1    0.394116\n",
      "Name: streaming_movies, dtype: float64\n",
      "**********************\n",
      "1    0.589399\n",
      "0    0.410601\n",
      "Name: paperless_billing, dtype: float64\n",
      "**********************\n"
     ]
    }
   ],
   "source": [
    "normal(disc_data)"
   ]
  },
  {
   "cell_type": "markdown",
   "metadata": {},
   "source": [
    "***\n",
    "Binary Discrete Data Takeaways:\n",
    "\n",
    "Note: I found the bar charts somewhat hazy to follow so I chose to also use line charts that clearly show the impact of each feature on churn.  For my personal reference I benchmarked a slope of more than 10 to be significant and worth further consideration. \n",
    "   \n",
    "   * Initially worth further consideration: ['senior_citizen', 'partner', 'dependents', 'online_security', 'tech_support', 'paperless_billing']\n",
    "       * ['senior_citizen', 'paperless_billing'] were siginificant \"churn\" drivers\n",
    "       * ['partner', 'dependents', 'online_security', 'tech_support'] were significant \"loyalty\" drivers\n",
    "   * Potentially worth consideration: Senior Citizen only 16% of the sample population\n",
    "***"
   ]
  },
  {
   "cell_type": "markdown",
   "metadata": {},
   "source": [
    "***\n",
    "### Explore cross-feature relationships\n",
    "***"
   ]
  },
  {
   "cell_type": "markdown",
   "metadata": {},
   "source": [
    "#### 2nd Derivative relationship between Tenure and the other features"
   ]
  },
  {
   "cell_type": "markdown",
   "metadata": {},
   "source": [
    "***\n",
    "First lets explore a potential relationship between the two continous features (tenure & monthly charges)\n",
    "***"
   ]
  },
  {
   "cell_type": "code",
   "execution_count": 855,
   "metadata": {},
   "outputs": [
    {
     "data": {
      "text/plain": [
       "Text(0.5, 0, 'tenure')"
      ]
     },
     "execution_count": 855,
     "metadata": {},
     "output_type": "execute_result"
    },
    {
     "data": {
      "image/png": "[encoded data removed]",
      "text/plain": [
       "<Figure size 936x360 with 1 Axes>"
      ]
     },
     "metadata": {},
     "output_type": "display_data"
    }
   ],
   "source": [
    "\n",
    "plt.figure(figsize=(13,5))\n",
    "sns.scatterplot(\n",
    "             x=train.tenure,\n",
    "             y=train.monthly_charges)\n",
    "plt.title('Monthly Charges plotted against Tenure')\n",
    "plt.xlabel('tenure')"
   ]
  },
  {
   "cell_type": "markdown",
   "metadata": {},
   "source": [
    "\n",
    "Key Takeaways: Nothing to see here\n"
   ]
  },
  {
   "cell_type": "markdown",
   "metadata": {},
   "source": [
    "***\n",
    "Next, lets look at potential relationship between the continuous and discrete data (tenure & others)\n",
    "***"
   ]
  },
  {
   "cell_type": "code",
   "execution_count": 856,
   "metadata": {},
   "outputs": [
    {
     "data": {
      "text/plain": [
       "Text(0.5, 1.0, 'Relationship between Payment Type and Tenure')"
      ]
     },
     "execution_count": 856,
     "metadata": {},
     "output_type": "execute_result"
    },
    {
     "data": {
      "image/png": "[encoded data removed]",
      "text/plain": [
       "<Figure size 720x360 with 1 Axes>"
      ]
     },
     "metadata": {},
     "output_type": "display_data"
    }
   ],
   "source": [
    "plt.figure(figsize=(10,5))\n",
    "sns.boxplot(x=train.payment_type_id, y=train.tenure, data=train, palette='rainbow')\n",
    "plt.title('Relationship between Payment Type and Tenure')"
   ]
  },
  {
   "cell_type": "markdown",
   "metadata": {},
   "source": [
    "Key Takeaway: \n",
    "\n",
    "* Both forms of manual payments have shorter tenures than both forms of automated payment"
   ]
  },
  {
   "cell_type": "code",
   "execution_count": 857,
   "metadata": {},
   "outputs": [
    {
     "data": {
      "text/plain": [
       "Text(0.5, 1.0, 'Relationship between Contract Type and Tenure')"
      ]
     },
     "execution_count": 857,
     "metadata": {},
     "output_type": "execute_result"
    },
    {
     "data": {
      "image/png": "[encoded data removed]",
      "text/plain": [
       "<Figure size 720x360 with 1 Axes>"
      ]
     },
     "metadata": {},
     "output_type": "display_data"
    }
   ],
   "source": [
    "plt.figure(figsize=(10,5))\n",
    "sns.boxplot(x=train.contract_type_id, y=train.tenure, data=train, palette='rainbow')\n",
    "plt.title('Relationship between Contract Type and Tenure')"
   ]
  },
  {
   "cell_type": "markdown",
   "metadata": {},
   "source": [
    "Key Takeaway: \n",
    "\n",
    "* Contract length appears to be proportional to tenure with month-to-month contracts clearly showing significantly shorter tenure"
   ]
  },
  {
   "cell_type": "code",
   "execution_count": 858,
   "metadata": {},
   "outputs": [
    {
     "data": {
      "text/plain": [
       "Text(0.5, 1.0, 'Relationship between Internet Service Type and Tenure')"
      ]
     },
     "execution_count": 858,
     "metadata": {},
     "output_type": "execute_result"
    },
    {
     "data": {
      "image/png": "[encoded data removed]",
      "text/plain": [
       "<Figure size 720x360 with 1 Axes>"
      ]
     },
     "metadata": {},
     "output_type": "display_data"
    }
   ],
   "source": [
    "plt.figure(figsize=(10,5))\n",
    "sns.boxplot(x=train.internet_service_type_id, y=train.tenure, data=train, palette='rainbow')\n",
    "plt.title('Relationship between Internet Service Type and Tenure')"
   ]
  },
  {
   "cell_type": "markdown",
   "metadata": {},
   "source": [
    "Key Takeaway: \n",
    "\n",
    "* Internet Service Type does not appear to impact tenure"
   ]
  },
  {
   "cell_type": "markdown",
   "metadata": {},
   "source": [
    "***\n",
    "Finally let's explore relationships between tenure and the binary discrete features we identified as having a visually signification impact on churn\n",
    "***"
   ]
  },
  {
   "cell_type": "code",
   "execution_count": 859,
   "metadata": {},
   "outputs": [
    {
     "data": {
      "image/png": "[encoded data removed]",
      "text/plain": [
       "<Figure size 1080x720 with 6 Axes>"
      ]
     },
     "metadata": {},
     "output_type": "display_data"
    }
   ],
   "source": [
    "\n",
    "_, ax = plt.subplots(nrows=2, ncols=3, figsize=(15, 10), sharey=True)\n",
    "for i, col in enumerate(features):\n",
    "    ax = ax.flatten()\n",
    "    sns.boxplot(col, train.tenure, data=train, ax=ax[i])\n",
    "    ax[i].set_xlabel('')\n",
    "    ax[i].set_ylabel('tenure')\n",
    "    ax[i].set_title(col)\n",
    "  "
   ]
  },
  {
   "cell_type": "markdown",
   "metadata": {},
   "source": [
    "***\n",
    "Binary Discrete Data Takeaways:\n",
    "\n",
    "* Four of the six six binary data identified to influence churn continue to hold that relationship across tenure. I have identified at least four binary inputs to include in my model. ['partner', 'dependents', 'online_security', 'tech_support'] \n",
    "* paperless_billing did not appear to have any significant relationship with tenure but does have a strong relationship with churn.  I may elect to exclude this feature from my initial model scenario but intend on incorporating into additional iterations to judge the impact.\n",
    "***"
   ]
  },
  {
   "cell_type": "markdown",
   "metadata": {},
   "source": [
    "#### 2nd Derivative relationship between Monthly Charges and the other features"
   ]
  },
  {
   "cell_type": "code",
   "execution_count": 860,
   "metadata": {},
   "outputs": [
    {
     "data": {
      "text/plain": [
       "Text(0.5, 1.0, 'Relationship between Payment Type and Montly Charges')"
      ]
     },
     "execution_count": 860,
     "metadata": {},
     "output_type": "execute_result"
    },
    {
     "data": {
      "image/png": "[encoded data removed]",
      "text/plain": [
       "<Figure size 720x360 with 1 Axes>"
      ]
     },
     "metadata": {},
     "output_type": "display_data"
    }
   ],
   "source": [
    "plt.figure(figsize=(10,5))\n",
    "sns.boxplot(x=train.payment_type_id, y=train.monthly_charges, data=train, palette='rainbow')\n",
    "plt.title('Relationship between Payment Type and Montly Charges')"
   ]
  },
  {
   "cell_type": "markdown",
   "metadata": {},
   "source": [
    "Key Takeaways: \n",
    "\n",
    "* Monthly charges are highest for electronic checks demonstrating a continuation of the churn relationship\n",
    "* Mailed in checks deviate from the relationship and are the associated with the lowest monthly charges leading me to drop this as a candidate for my intiial model"
   ]
  },
  {
   "cell_type": "code",
   "execution_count": 861,
   "metadata": {},
   "outputs": [
    {
     "data": {
      "text/plain": [
       "Text(0.5, 1.0, 'Relationship between Contract Type and Monthly Charges')"
      ]
     },
     "execution_count": 861,
     "metadata": {},
     "output_type": "execute_result"
    },
    {
     "data": {
      "image/png": "[encoded data removed]",
      "text/plain": [
       "<Figure size 720x360 with 1 Axes>"
      ]
     },
     "metadata": {},
     "output_type": "display_data"
    }
   ],
   "source": [
    "plt.figure(figsize=(10,5))\n",
    "sns.boxplot(x=train.contract_type_id, y=train.monthly_charges, data=train, palette='rainbow')\n",
    "plt.title('Relationship between Contract Type and Monthly Charges')"
   ]
  },
  {
   "cell_type": "markdown",
   "metadata": {},
   "source": [
    "Key Takeaways: \n",
    "\n",
    "* Monthly charges are highest for month-to-month contracts demonstrating a continuation of the churn relationship"
   ]
  },
  {
   "cell_type": "code",
   "execution_count": 862,
   "metadata": {},
   "outputs": [
    {
     "data": {
      "text/plain": [
       "Text(0.5, 1.0, 'Relationship between Internet Service Type and Monthly Charges')"
      ]
     },
     "execution_count": 862,
     "metadata": {},
     "output_type": "execute_result"
    },
    {
     "data": {
      "image/png": "[encoded data removed]",
      "text/plain": [
       "<Figure size 720x360 with 1 Axes>"
      ]
     },
     "metadata": {},
     "output_type": "display_data"
    }
   ],
   "source": [
    "plt.figure(figsize=(10,5))\n",
    "sns.boxplot(x=train.internet_service_type_id, y=train.monthly_charges, data=train, palette='rainbow')\n",
    "plt.title('Relationship between Internet Service Type and Monthly Charges')"
   ]
  },
  {
   "cell_type": "markdown",
   "metadata": {},
   "source": [
    "Key Takeaways: \n",
    "\n",
    "* Monthly charges are highest for fiber-optics service demonstrating a continuation of the churn relationship"
   ]
  },
  {
   "cell_type": "code",
   "execution_count": 863,
   "metadata": {},
   "outputs": [
    {
     "data": {
      "image/png": "[encoded data removed]",
      "text/plain": [
       "<Figure size 1080x720 with 6 Axes>"
      ]
     },
     "metadata": {},
     "output_type": "display_data"
    }
   ],
   "source": [
    "_, ax = plt.subplots(nrows=2, ncols=3, figsize=(15, 10), sharey=True)\n",
    "for i, col in enumerate(features):\n",
    "    ax = ax.flatten()\n",
    "    sns.boxplot(col, train.monthly_charges, data=train, ax=ax[i])\n",
    "    ax[i].set_xlabel('')\n",
    "    ax[i].set_ylabel('monthly_charges')\n",
    "    ax[i].set_title(col)\n",
    "    "
   ]
  },
  {
   "cell_type": "markdown",
   "metadata": {},
   "source": [
    "***\n",
    "Binary Discrete Data Takeaways:\n",
    "​\n",
    "* Four of the six six binary features identified to influence churn continue to hold that relationship across monthly charges. I have identified at least four binary inputs to include in my model. ['partner', 'dependents', 'online_security', 'tech_support'] \n",
    "    * Interesting Note: the partner feature appears to have a bigger influence on tenure than dependents but dependents seems to lower monthly_charges to a level below the 65+ threshold where churn picks up\n",
    "* Senior_citizen did associate with higher monthly charges as well.  However, while some of these Boomers were taken advantage of, there appears to be a significant amount of outliers on the opposite end of the spectrum leading me to drop this as an initial model candidate.\n",
    "* When compared to monthly_charges, paperless_billing did appear to have a significant relationship.  I wrote this feature off earlier but, given the obvious relationship with monthly_charges, I now am committed to its inclusion.\n",
    "***\n"
   ]
  },
  {
   "cell_type": "markdown",
   "metadata": {},
   "source": [
    "# Hypothesis Testing"
   ]
  },
  {
   "cell_type": "markdown",
   "metadata": {},
   "source": [
    "##### Focus Features vs Churn: ['tenure', 'monthly_charges', 'payment_type_id', 'contract_type_id', 'internet_service_id', 'partner', 'dependents', 'online_security', 'tech_support', 'paperless_billing']"
   ]
  },
  {
   "cell_type": "code",
   "execution_count": 864,
   "metadata": {},
   "outputs": [],
   "source": [
    "from math import sqrt\n",
    "from scipy import stats\n",
    "import viz # curriculum visualization examples"
   ]
  },
  {
   "cell_type": "markdown",
   "metadata": {},
   "source": [
    "***\n",
    "T-tests: churn vs continuous\n",
    "***"
   ]
  },
  {
   "cell_type": "markdown",
   "metadata": {},
   "source": [
    "##### Let's test significance of monthly_charges (continous) vs churn"
   ]
  },
  {
   "cell_type": "code",
   "execution_count": 865,
   "metadata": {},
   "outputs": [],
   "source": [
    "# Begin by separating the train.tenure data into churn/no_churn subgroupings\n",
    "\n",
    "x1 = train[train.churn == 1].tenure\n",
    "x2 = train[train.churn == 0].tenure"
   ]
  },
  {
   "cell_type": "markdown",
   "metadata": {},
   "source": [
    "Null and alternative hypotheses based on visuals\n",
    "\n",
    "$H_0$: there is no significant relationship between churn and tenure\n",
    "\n",
    "$H_a$: churners have a significantly shorter tenure\n",
    "\n",
    "Alpha = 0.05"
   ]
  },
  {
   "cell_type": "code",
   "execution_count": 866,
   "metadata": {},
   "outputs": [
    {
     "data": {
      "text/plain": [
       "Ttest_indResult(statistic=-23.63020337421401, pvalue=1.4465811518485806e-115)"
      ]
     },
     "execution_count": 866,
     "metadata": {},
     "output_type": "execute_result"
    }
   ],
   "source": [
    "# T-test and significance level\n",
    "stats.ttest_ind(x1, x2)"
   ]
  },
  {
   "cell_type": "markdown",
   "metadata": {},
   "source": [
    "The T-Test confirms significance in the relationship between the churn and tenure data and the p-value is less than our alpha so we can reject the Null Hypothesis"
   ]
  },
  {
   "cell_type": "markdown",
   "metadata": {},
   "source": [
    "##### Let's test significance of monthly_charges (continous) vs churn"
   ]
  },
  {
   "cell_type": "code",
   "execution_count": 867,
   "metadata": {},
   "outputs": [],
   "source": [
    "# Begin by separating the train.tenure data into churn/no_churn subgroupings\n",
    "\n",
    "mc1 = train[train.churn == 1].monthly_charges\n",
    "mc2 = train[train.churn == 0].monthly_charges"
   ]
  },
  {
   "cell_type": "markdown",
   "metadata": {},
   "source": [
    "Null and alternative hypotheses based on visuals\n",
    "\n",
    "$H_0$: there is no significant relationship between churn and monthly_charges\n",
    "\n",
    "$H_a$: Churners have a significantly higher average monthly_charge\n",
    "\n",
    "Alpha = 0.05"
   ]
  },
  {
   "cell_type": "code",
   "execution_count": 868,
   "metadata": {},
   "outputs": [
    {
     "data": {
      "text/plain": [
       "Ttest_indResult(statistic=12.085323635769832, pvalue=4.8166871125684584e-33)"
      ]
     },
     "execution_count": 868,
     "metadata": {},
     "output_type": "execute_result"
    }
   ],
   "source": [
    "# T-test and significance level\n",
    "stats.ttest_ind(mc1, mc2)"
   ]
  },
  {
   "cell_type": "markdown",
   "metadata": {},
   "source": [
    "The T-Test confirms significance in the relationship between the churn and monthly_charges data and the p-value is less than our alpha so we can reject the Null Hypothesis"
   ]
  },
  {
   "cell_type": "markdown",
   "metadata": {},
   "source": [
    "***\n",
    "Chi Square tests: churn vs categorical\n",
    "***"
   ]
  },
  {
   "cell_type": "markdown",
   "metadata": {},
   "source": [
    "##### Let's test significance of payment_type_id (discrete) vs churn"
   ]
  },
  {
   "cell_type": "code",
   "execution_count": 869,
   "metadata": {},
   "outputs": [],
   "source": [
    "# Set up observed data \n",
    "pid_obs = pd.crosstab(train.payment_type_id, train.churn)"
   ]
  },
  {
   "cell_type": "markdown",
   "metadata": {},
   "source": [
    "Null and alternative hypotheses based on visuals\n",
    "\n",
    "$H_0$: churn and payment_type_id have no association (they are independent)\n",
    "\n",
    "$H_a$: churn and payment_type_id are associated (they are dependent)"
   ]
  },
  {
   "cell_type": "code",
   "execution_count": 870,
   "metadata": {},
   "outputs": [],
   "source": [
    "# Set our alpha\n",
    "\n",
    "alpha = 0.01"
   ]
  },
  {
   "cell_type": "code",
   "execution_count": 871,
   "metadata": {},
   "outputs": [
    {
     "name": "stdout",
     "output_type": "stream",
     "text": [
      "pid_obs\n",
      "\n",
      "[[725 595]\n",
      " [725 167]\n",
      " [730 149]\n",
      " [717 135]]\n",
      "---\n",
      "Expected\n",
      "\n",
      "[[969.83007862 350.16992138]\n",
      " [655.37002283 236.62997717]\n",
      " [645.81866599 233.18133401]\n",
      " [625.98123256 226.01876744]]\n",
      "---\n",
      "\n",
      "chi^2 = 352.1238\n",
      "p     = 0.0000\n"
     ]
    }
   ],
   "source": [
    "# run Chi Square on payment_type_id\n",
    "chi2, p, degf, expected = stats.chi2_contingency(pid_obs)\n",
    "\n",
    "print('pid_obs\\n')\n",
    "print(pid_obs.values)\n",
    "print('---\\nExpected\\n')\n",
    "print(expected)\n",
    "print('---\\n')\n",
    "print(f'chi^2 = {chi2:.4f}')\n",
    "print(f'p     = {p:.4f}')"
   ]
  },
  {
   "cell_type": "code",
   "execution_count": 872,
   "metadata": {},
   "outputs": [
    {
     "name": "stdout",
     "output_type": "stream",
     "text": [
      "We reject the null\n"
     ]
    }
   ],
   "source": [
    "if p < alpha:\n",
    "    print('We reject the null')\n",
    "else:\n",
    "    print(\"we fail to reject the null\")"
   ]
  },
  {
   "cell_type": "markdown",
   "metadata": {},
   "source": [
    "##### Let's test signficance of contract_type_id (discrete) vs churn"
   ]
  },
  {
   "cell_type": "code",
   "execution_count": 873,
   "metadata": {},
   "outputs": [],
   "source": [
    "# Set up observed data \n",
    "cid_obs = pd.crosstab(train.contract_type_id, train.churn)"
   ]
  },
  {
   "cell_type": "markdown",
   "metadata": {},
   "source": [
    "Null and alternative hypotheses based on visuals\n",
    "\n",
    "$H_0$: churn and contract_type_id have no association (they are independent)\n",
    "\n",
    "$H_a$: churn and contract_type_id are associated (they are dependent)"
   ]
  },
  {
   "cell_type": "code",
   "execution_count": 874,
   "metadata": {},
   "outputs": [],
   "source": [
    "# Set our alpha\n",
    "\n",
    "alpha = 0.01"
   ]
  },
  {
   "cell_type": "code",
   "execution_count": 875,
   "metadata": {},
   "outputs": [
    {
     "name": "stdout",
     "output_type": "stream",
     "text": [
      "cid_obs\n",
      "\n",
      "[[1234  928]\n",
      " [ 723   84]\n",
      " [ 940   34]]\n",
      "---\n",
      "Expected\n",
      "\n",
      "[[1588.46411362  573.53588638]\n",
      " [ 592.91884352  214.08115648]\n",
      " [ 715.61704286  258.38295714]]\n",
      "---\n",
      "\n",
      "chi^2 = 670.9607\n",
      "p     = 0.0000\n"
     ]
    }
   ],
   "source": [
    "chi2, p, degf, expected = stats.chi2_contingency(cid_obs)\n",
    "\n",
    "print('cid_obs\\n')\n",
    "print(cid_obs.values)\n",
    "print('---\\nExpected\\n')\n",
    "print(expected)\n",
    "print('---\\n')\n",
    "print(f'chi^2 = {chi2:.4f}')\n",
    "print(f'p     = {p:.4f}')"
   ]
  },
  {
   "cell_type": "code",
   "execution_count": 876,
   "metadata": {},
   "outputs": [
    {
     "name": "stdout",
     "output_type": "stream",
     "text": [
      "We reject the null\n"
     ]
    }
   ],
   "source": [
    "if p < alpha:\n",
    "    print('We reject the null')\n",
    "else:\n",
    "    print(\"we fail to reject the null\")"
   ]
  },
  {
   "cell_type": "markdown",
   "metadata": {},
   "source": [
    "##### Let's test signficance of internet_service_type_id (discrete) vs churn"
   ]
  },
  {
   "cell_type": "code",
   "execution_count": 877,
   "metadata": {},
   "outputs": [],
   "source": [
    "# Set up observed data \n",
    "isid_obs = pd.crosstab(train.internet_service_type_id, train.churn)"
   ]
  },
  {
   "cell_type": "markdown",
   "metadata": {},
   "source": [
    "Null and alternative hypotheses based on visuals\n",
    "\n",
    "$H_0$: churn and internet_service_type_id have no association (they are independent)\n",
    "\n",
    "$H_a$: churn and internet_service_type_id are associated (they are dependent)"
   ]
  },
  {
   "cell_type": "code",
   "execution_count": 878,
   "metadata": {},
   "outputs": [],
   "source": [
    "# Set our alpha\n",
    "\n",
    "alpha = 0.01"
   ]
  },
  {
   "cell_type": "code",
   "execution_count": 879,
   "metadata": {},
   "outputs": [
    {
     "name": "stdout",
     "output_type": "stream",
     "text": [
      "isid_obs\n",
      "\n",
      "[[1106  259]\n",
      " [1016  724]\n",
      " [ 775   63]]\n",
      "---\n",
      "Expected\n",
      "\n",
      "[[1002.89246766  362.10753234]\n",
      " [1278.41237636  461.58762364]\n",
      " [ 615.69515597  222.30484403]]\n",
      "---\n",
      "\n",
      "chi^2 = 398.3821\n",
      "p     = 0.0000\n"
     ]
    }
   ],
   "source": [
    "chi2, p, degf, expected = stats.chi2_contingency(isid_obs)\n",
    "\n",
    "print('isid_obs\\n')\n",
    "print(isid_obs.values)\n",
    "print('---\\nExpected\\n')\n",
    "print(expected)\n",
    "print('---\\n')\n",
    "print(f'chi^2 = {chi2:.4f}')\n",
    "print(f'p     = {p:.4f}')"
   ]
  },
  {
   "cell_type": "code",
   "execution_count": 880,
   "metadata": {},
   "outputs": [
    {
     "name": "stdout",
     "output_type": "stream",
     "text": [
      "We reject the null\n"
     ]
    }
   ],
   "source": [
    "if p < alpha:\n",
    "    print('We reject the null')\n",
    "else:\n",
    "    print(\"we fail to reject the null\")"
   ]
  },
  {
   "cell_type": "markdown",
   "metadata": {},
   "source": [
    "##### Let's test signficance of partner (discrete) vs churn"
   ]
  },
  {
   "cell_type": "code",
   "execution_count": 881,
   "metadata": {},
   "outputs": [],
   "source": [
    "# Set up observed data \n",
    "pid_obs = pd.crosstab(train.partner, train.churn)"
   ]
  },
  {
   "cell_type": "markdown",
   "metadata": {},
   "source": [
    "Null and alternative hypotheses based on visuals\n",
    "\n",
    "$H_0$: churn and partner have no association (they are independent)\n",
    "\n",
    "$H_a$: churn and partner are associated (they are dependent)"
   ]
  },
  {
   "cell_type": "code",
   "execution_count": 882,
   "metadata": {},
   "outputs": [],
   "source": [
    "# Set our alpha\n",
    "\n",
    "alpha = 0.01"
   ]
  },
  {
   "cell_type": "code",
   "execution_count": 883,
   "metadata": {},
   "outputs": [
    {
     "name": "stdout",
     "output_type": "stream",
     "text": [
      "pid_obs\n",
      "\n",
      "[[1382  662]\n",
      " [1515  384]]\n",
      "---\n",
      "Expected\n",
      "\n",
      "[[1501.76718235  542.23281765]\n",
      " [1395.23281765  503.76718235]]\n",
      "---\n",
      "\n",
      "chi^2 = 74.1372\n",
      "p     = 0.0000\n"
     ]
    }
   ],
   "source": [
    "chi2, p, degf, expected = stats.chi2_contingency(pid_obs)\n",
    "\n",
    "print('pid_obs\\n')\n",
    "print(pid_obs.values)\n",
    "print('---\\nExpected\\n')\n",
    "print(expected)\n",
    "print('---\\n')\n",
    "print(f'chi^2 = {chi2:.4f}')\n",
    "print(f'p     = {p:.4f}')"
   ]
  },
  {
   "cell_type": "code",
   "execution_count": 884,
   "metadata": {},
   "outputs": [
    {
     "name": "stdout",
     "output_type": "stream",
     "text": [
      "We reject the null\n"
     ]
    }
   ],
   "source": [
    "if p < alpha:\n",
    "    print('We reject the null')\n",
    "else:\n",
    "    print(\"we fail to reject the null\")"
   ]
  },
  {
   "cell_type": "markdown",
   "metadata": {},
   "source": [
    "##### Let's test signficance of dependents (discrete) vs churn"
   ]
  },
  {
   "cell_type": "code",
   "execution_count": 885,
   "metadata": {},
   "outputs": [],
   "source": [
    "# Set up observed data \n",
    "did_obs = pd.crosstab(train.dependents, train.churn)"
   ]
  },
  {
   "cell_type": "markdown",
   "metadata": {},
   "source": [
    "Null and alternative hypotheses based on visuals\n",
    "\n",
    "$H_0$: churn and dependents have no association (they are independent)\n",
    "\n",
    "$H_a$: churn and dependents are associated (they are dependent)"
   ]
  },
  {
   "cell_type": "code",
   "execution_count": 886,
   "metadata": {},
   "outputs": [],
   "source": [
    "# Set our alpha\n",
    "\n",
    "alpha = 0.01"
   ]
  },
  {
   "cell_type": "code",
   "execution_count": 887,
   "metadata": {},
   "outputs": [
    {
     "name": "stdout",
     "output_type": "stream",
     "text": [
      "did_obs\n",
      "\n",
      "[[1903  861]\n",
      " [ 994  185]]\n",
      "---\n",
      "Expected\n",
      "\n",
      "[[2030.76540705  733.23459295]\n",
      " [ 866.23459295  312.76540705]]\n",
      "---\n",
      "\n",
      "chi^2 = 100.5470\n",
      "p     = 0.0000\n"
     ]
    }
   ],
   "source": [
    "chi2, p, degf, expected = stats.chi2_contingency(did_obs)\n",
    "\n",
    "print('did_obs\\n')\n",
    "print(did_obs.values)\n",
    "print('---\\nExpected\\n')\n",
    "print(expected)\n",
    "print('---\\n')\n",
    "print(f'chi^2 = {chi2:.4f}')\n",
    "print(f'p     = {p:.4f}')"
   ]
  },
  {
   "cell_type": "code",
   "execution_count": 888,
   "metadata": {},
   "outputs": [
    {
     "name": "stdout",
     "output_type": "stream",
     "text": [
      "We reject the null\n"
     ]
    }
   ],
   "source": [
    "if p < alpha:\n",
    "    print('We reject the null')\n",
    "else:\n",
    "    print(\"we fail to reject the null\")"
   ]
  },
  {
   "cell_type": "markdown",
   "metadata": {},
   "source": [
    "##### Let's test signficance of online_security (discrete) vs churn"
   ]
  },
  {
   "cell_type": "code",
   "execution_count": 889,
   "metadata": {},
   "outputs": [],
   "source": [
    "# Set up observed data \n",
    "os_obs = pd.crosstab(train.online_security, train.churn)"
   ]
  },
  {
   "cell_type": "markdown",
   "metadata": {},
   "source": [
    "Null and alternative hypotheses based on visuals\n",
    "\n",
    "$H_0$: churn and online_security have no association (they are independent)\n",
    "\n",
    "$H_a$: churn and online_security are associated (they are dependent)"
   ]
  },
  {
   "cell_type": "code",
   "execution_count": 890,
   "metadata": {},
   "outputs": [],
   "source": [
    "# Set our alpha\n",
    "\n",
    "alpha = 0.01"
   ]
  },
  {
   "cell_type": "code",
   "execution_count": 891,
   "metadata": {},
   "outputs": [
    {
     "name": "stdout",
     "output_type": "stream",
     "text": [
      "os_obs\n",
      "\n",
      "[[1910  884]\n",
      " [ 987  162]]\n",
      "---\n",
      "Expected\n",
      "\n",
      "[[2052.80699975  741.19300025]\n",
      " [ 844.19300025  304.80699975]]\n",
      "---\n",
      "\n",
      "chi^2 = 127.6163\n",
      "p     = 0.0000\n"
     ]
    }
   ],
   "source": [
    "chi2, p, degf, expected = stats.chi2_contingency(os_obs)\n",
    "\n",
    "print('os_obs\\n')\n",
    "print(os_obs.values)\n",
    "print('---\\nExpected\\n')\n",
    "print(expected)\n",
    "print('---\\n')\n",
    "print(f'chi^2 = {chi2:.4f}')\n",
    "print(f'p     = {p:.4f}')"
   ]
  },
  {
   "cell_type": "code",
   "execution_count": 892,
   "metadata": {},
   "outputs": [
    {
     "name": "stdout",
     "output_type": "stream",
     "text": [
      "We reject the null\n"
     ]
    }
   ],
   "source": [
    "if p < alpha:\n",
    "    print('We reject the null')\n",
    "else:\n",
    "    print(\"we fail to reject the null\")"
   ]
  },
  {
   "cell_type": "markdown",
   "metadata": {},
   "source": [
    "##### Let's test signficance of tech_support (discrete) vs churn"
   ]
  },
  {
   "cell_type": "code",
   "execution_count": 893,
   "metadata": {},
   "outputs": [],
   "source": [
    "# Set up observed data \n",
    "ts_obs = pd.crosstab(train.tech_support, train.churn)"
   ]
  },
  {
   "cell_type": "markdown",
   "metadata": {},
   "source": [
    "Null and alternative hypotheses based on visuals\n",
    "\n",
    "$H_0$: churn and tech_support have no association (they are independent)\n",
    "\n",
    "$H_a$: churn and tech_support are associated (they are dependent)"
   ]
  },
  {
   "cell_type": "code",
   "execution_count": 894,
   "metadata": {},
   "outputs": [],
   "source": [
    "# Set our alpha\n",
    "\n",
    "alpha = 0.01"
   ]
  },
  {
   "cell_type": "code",
   "execution_count": 895,
   "metadata": {},
   "outputs": [
    {
     "name": "stdout",
     "output_type": "stream",
     "text": [
      "ts_obs\n",
      "\n",
      "[[1886  873]\n",
      " [1011  173]]\n",
      "---\n",
      "Expected\n",
      "\n",
      "[[2027.09180827  731.90819173]\n",
      " [ 869.90819173  314.09180827]]\n",
      "---\n",
      "\n",
      "chi^2 = 122.4100\n",
      "p     = 0.0000\n"
     ]
    }
   ],
   "source": [
    "chi2, p, degf, expected = stats.chi2_contingency(ts_obs)\n",
    "\n",
    "print('ts_obs\\n')\n",
    "print(ts_obs.values)\n",
    "print('---\\nExpected\\n')\n",
    "print(expected)\n",
    "print('---\\n')\n",
    "print(f'chi^2 = {chi2:.4f}')\n",
    "print(f'p     = {p:.4f}')"
   ]
  },
  {
   "cell_type": "code",
   "execution_count": 896,
   "metadata": {},
   "outputs": [
    {
     "name": "stdout",
     "output_type": "stream",
     "text": [
      "We reject the null\n"
     ]
    }
   ],
   "source": [
    "if p < alpha:\n",
    "    print('We reject the null')\n",
    "else:\n",
    "    print(\"we fail to reject the null\")"
   ]
  },
  {
   "cell_type": "markdown",
   "metadata": {},
   "source": [
    "##### Let's test signficance of paperless_billing (discrete) vs churn"
   ]
  },
  {
   "cell_type": "code",
   "execution_count": 897,
   "metadata": {},
   "outputs": [],
   "source": [
    "# Set up observed data \n",
    "pb_obs = pd.crosstab(train.paperless_billing, train.churn)"
   ]
  },
  {
   "cell_type": "markdown",
   "metadata": {},
   "source": [
    "Null and alternative hypotheses based on visuals\n",
    "\n",
    "$H_0$: churn and paperless_billing have no association (they are independent)\n",
    "\n",
    "$H_a$: churn and paperless_billing are associated (they are dependent)"
   ]
  },
  {
   "cell_type": "code",
   "execution_count": 898,
   "metadata": {},
   "outputs": [],
   "source": [
    "# Set our alpha\n",
    "\n",
    "alpha = 0.01"
   ]
  },
  {
   "cell_type": "code",
   "execution_count": 899,
   "metadata": {},
   "outputs": [
    {
     "name": "stdout",
     "output_type": "stream",
     "text": [
      "pb_obs\n",
      "\n",
      "[[1350  269]\n",
      " [1547  777]]\n",
      "---\n",
      "Expected\n",
      "\n",
      "[[1189.51128582  429.48871418]\n",
      " [1707.48871418  616.51128582]]\n",
      "---\n",
      "\n",
      "chi^2 = 137.6245\n",
      "p     = 0.0000\n"
     ]
    }
   ],
   "source": [
    "chi2, p, degf, expected = stats.chi2_contingency(pb_obs)\n",
    "\n",
    "print('pb_obs\\n')\n",
    "print(pb_obs.values)\n",
    "print('---\\nExpected\\n')\n",
    "print(expected)\n",
    "print('---\\n')\n",
    "print(f'chi^2 = {chi2:.4f}')\n",
    "print(f'p     = {p:.4f}')"
   ]
  },
  {
   "cell_type": "code",
   "execution_count": 900,
   "metadata": {},
   "outputs": [
    {
     "name": "stdout",
     "output_type": "stream",
     "text": [
      "We reject the null\n"
     ]
    }
   ],
   "source": [
    "if p < alpha:\n",
    "    print('We reject the null')\n",
    "else:\n",
    "    print(\"we fail to reject the null\")"
   ]
  },
  {
   "cell_type": "markdown",
   "metadata": {},
   "source": [
    "***\n",
    "#### All features identified in Exploration pass the statistical tests for model inclusion\n",
    "***"
   ]
  },
  {
   "cell_type": "markdown",
   "metadata": {},
   "source": [
    "# Model Construction"
   ]
  },
  {
   "cell_type": "markdown",
   "metadata": {},
   "source": [
    "#### Revisit data and perform any necessary additional manipulation"
   ]
  },
  {
   "cell_type": "markdown",
   "metadata": {},
   "source": [
    "Does prep_df meet the 3 criteria of \"tidy data\"\n",
    "\n",
    "* Each feature must have its own column\n",
    "* Each observation must have its own row.\n",
    "* Each value must have its own cell.\n",
    "\n",
    "Assessment:  I would consider the data \"tidy\". The ['payment_type_id', 'internet_service_type_id', 'contract_type_id'] features could be pivoted into separate featuress as each numeric value represents a seperate  sub-group.  However, for the purposes of our modelling, each observation for the sub-groups has its own separate row and relevance under the column grouping.  Note: a pivot may be help fine tune our selected model."
   ]
  },
  {
   "cell_type": "markdown",
   "metadata": {},
   "source": [
    "#### I decided to narrow the noise and train my models on the most relevant features identified above.  So I need to take my prep_df, drop all the columns not in my selection and then split this df into train, validate, test."
   ]
  },
  {
   "cell_type": "code",
   "execution_count": 901,
   "metadata": {},
   "outputs": [],
   "source": [
    "# Drop unwanted features from prep_df and create our train, validate, test from this df\n",
    "model_var = ['churn', 'tenure', 'monthly_charges', 'payment_type_id', 'contract_type_id', 'internet_service_id', 'partner', 'dependents', 'online_security', 'tech_support', 'paperless_billing']\n",
    "\n",
    "model_df = pd.DataFrame(prep_df, columns=['churn', 'tenure', 'monthly_charges', 'payment_type_id', 'contract_type_id', 'internet_service_type_id', 'partner', 'dependents', 'online_security', 'tech_support', 'paperless_billing'])"
   ]
  },
  {
   "cell_type": "code",
   "execution_count": 902,
   "metadata": {},
   "outputs": [],
   "source": [
    "# Split the model_df\n",
    "train, validate, test = prepare.telco_split(model_df)"
   ]
  },
  {
   "cell_type": "code",
   "execution_count": 903,
   "metadata": {},
   "outputs": [],
   "source": [
    "# create X & y version of train, where y is a series with just the target feature and X are all the features. \n",
    "\n",
    "X_train = train.drop(columns=['churn'])\n",
    "y_train = train.churn\n",
    "\n",
    "X_validate = validate.drop(columns=['churn'])\n",
    "y_validate = validate.churn\n",
    "\n",
    "X_test = test.drop(columns=['churn'])\n",
    "y_test = test.churn"
   ]
  },
  {
   "cell_type": "markdown",
   "metadata": {},
   "source": [
    "#### The three models I have elected to use are the Decision Tree, Random Forest and Logistic Regression Models"
   ]
  },
  {
   "cell_type": "markdown",
   "metadata": {},
   "source": [
    "##### Establish Baseline to measure models against"
   ]
  },
  {
   "cell_type": "code",
   "execution_count": 904,
   "metadata": {},
   "outputs": [
    {
     "name": "stdout",
     "output_type": "stream",
     "text": [
      "My baseline accuracy is 73.46%.\n"
     ]
    }
   ],
   "source": [
    "baseline = prep_df.churn.value_counts().nlargest(1) / len(prep_df.churn)\n",
    "print(f'My baseline accuracy is {round(baseline.values[0] * 100,2)}%.')"
   ]
  },
  {
   "cell_type": "markdown",
   "metadata": {},
   "source": [
    "***\n",
    "Decision Tree\n",
    "***"
   ]
  },
  {
   "cell_type": "code",
   "execution_count": 905,
   "metadata": {},
   "outputs": [],
   "source": [
    "# Imports\n",
    "# ignore warnings\n",
    "import warnings\n",
    "warnings.filterwarnings(\"ignore\")\n",
    "\n",
    "from sklearn.tree import DecisionTreeClassifier\n",
    "from sklearn.tree import export_graphviz\n",
    "from sklearn.metrics import classification_report\n",
    "from sklearn.metrics import confusion_matrix\n"
   ]
  },
  {
   "cell_type": "code",
   "execution_count": 1033,
   "metadata": {},
   "outputs": [],
   "source": [
    "# Set Decision Tree hyperparameters\n",
    "clf = DecisionTreeClassifier(max_depth=7, random_state=123)"
   ]
  },
  {
   "cell_type": "code",
   "execution_count": 1034,
   "metadata": {},
   "outputs": [],
   "source": [
    "# Fit the random forest algorithm to the training data.\n",
    "clf = clf.fit(X_train, y_train)"
   ]
  },
  {
   "cell_type": "code",
   "execution_count": 999,
   "metadata": {},
   "outputs": [],
   "source": [
    "# make prediction on train obeservations\n",
    "y_pred = clf.predict(X_train)"
   ]
  },
  {
   "cell_type": "code",
   "execution_count": 1000,
   "metadata": {},
   "outputs": [
    {
     "data": {
      "text/plain": [
       "array([[0.99180328, 0.00819672],\n",
       "       [0.84375   , 0.15625   ],\n",
       "       [0.25      , 0.75      ],\n",
       "       ...,\n",
       "       [0.76404494, 0.23595506],\n",
       "       [0.76404494, 0.23595506],\n",
       "       [0.62666667, 0.37333333]])"
      ]
     },
     "execution_count": 1000,
     "metadata": {},
     "output_type": "execute_result"
    }
   ],
   "source": [
    "# Feature importance\n",
    "y_pred_proba = clf.predict_proba(X_train)\n",
    "y_pred_proba"
   ]
  },
  {
   "cell_type": "code",
   "execution_count": 1001,
   "metadata": {},
   "outputs": [
    {
     "name": "stdout",
     "output_type": "stream",
     "text": [
      "Accuracy of Decision Tree classifier on training set: 0.82\n"
     ]
    }
   ],
   "source": [
    "print('Accuracy of Decision Tree classifier on training set: {:.2f}'\n",
    "      .format(clf.score(X_train, y_train)))"
   ]
  },
  {
   "cell_type": "code",
   "execution_count": 1002,
   "metadata": {},
   "outputs": [
    {
     "name": "stdout",
     "output_type": "stream",
     "text": [
      "              precision    recall  f1-score   support\n",
      "\n",
      "           0       0.87      0.90      0.88      2897\n",
      "           1       0.68      0.62      0.65      1046\n",
      "\n",
      "    accuracy                           0.82      3943\n",
      "   macro avg       0.78      0.76      0.76      3943\n",
      "weighted avg       0.82      0.82      0.82      3943\n",
      "\n"
     ]
    }
   ],
   "source": [
    "print(classification_report(y_train, y_pred))"
   ]
  },
  {
   "cell_type": "code",
   "execution_count": 995,
   "metadata": {},
   "outputs": [
    {
     "name": "stdout",
     "output_type": "stream",
     "text": [
      "Accuracy of Decision Tree classifier on Validate set: 0.78\n"
     ]
    }
   ],
   "source": [
    "print('Accuracy of Decision Tree classifier on Validate set: {:.2f}'\n",
    "     .format(clf.score(X_validate, y_validate)))"
   ]
  },
  {
   "cell_type": "code",
   "execution_count": 1003,
   "metadata": {},
   "outputs": [
    {
     "name": "stdout",
     "output_type": "stream",
     "text": [
      "              precision    recall  f1-score   support\n",
      "\n",
      "           0       0.84      0.86      0.85      1242\n",
      "           1       0.60      0.56      0.58       449\n",
      "\n",
      "    accuracy                           0.78      1691\n",
      "   macro avg       0.72      0.71      0.71      1691\n",
      "weighted avg       0.78      0.78      0.78      1691\n",
      "\n"
     ]
    }
   ],
   "source": [
    "# Produce y_predictions that come from the X_validate\n",
    "y_predv = clf.predict(X_validate)\n",
    "\n",
    "# Compare actual y values (from validate) to predicted y_values from the model run on X_validate\n",
    "print(classification_report(y_validate, y_predv))"
   ]
  },
  {
   "cell_type": "markdown",
   "metadata": {},
   "source": [
    "##### <div class=\"alert alert-block alert-success\">The Decision Tree model performance on both the Train and on the Validate are close enough to suggest the model is not over fit.</div>"
   ]
  },
  {
   "cell_type": "markdown",
   "metadata": {},
   "source": [
    "***\n",
    "Random Forest\n",
    "***"
   ]
  },
  {
   "cell_type": "code",
   "execution_count": 914,
   "metadata": {},
   "outputs": [],
   "source": [
    "# imports\n",
    "\n",
    "from sklearn.ensemble import RandomForestClassifier"
   ]
  },
  {
   "cell_type": "code",
   "execution_count": 1020,
   "metadata": {},
   "outputs": [],
   "source": [
    "# Set Random Forest hyperparameters\n",
    "rf = RandomForestClassifier(bootstrap=True, \n",
    "                            class_weight=None, \n",
    "                            criterion='gini',\n",
    "                            min_samples_leaf=10,\n",
    "                            n_estimators=10,\n",
    "                            max_depth=3, \n",
    "                            random_state=123)"
   ]
  },
  {
   "cell_type": "code",
   "execution_count": 1021,
   "metadata": {},
   "outputs": [
    {
     "data": {
      "text/plain": [
       "RandomForestClassifier(max_depth=3, min_samples_leaf=10, n_estimators=10,\n",
       "                       random_state=123)"
      ]
     },
     "execution_count": 1021,
     "metadata": {},
     "output_type": "execute_result"
    }
   ],
   "source": [
    "# Fit the model to the Train data\n",
    "rf.fit(X_train, y_train)\n"
   ]
  },
  {
   "cell_type": "code",
   "execution_count": 1022,
   "metadata": {},
   "outputs": [
    {
     "name": "stdout",
     "output_type": "stream",
     "text": [
      "[0.15433128 0.12829023 0.19562614 0.36847584 0.06339321 0.01427585\n",
      " 0.00194405 0.02848771 0.03319431 0.01198138]\n"
     ]
    }
   ],
   "source": [
    "# Feature importance as determined by model\n",
    "print(rf.feature_importances_)"
   ]
  },
  {
   "cell_type": "code",
   "execution_count": 1023,
   "metadata": {},
   "outputs": [],
   "source": [
    "# Make predictions\n",
    "y_pred_rf = rf.predict(X_train)"
   ]
  },
  {
   "cell_type": "code",
   "execution_count": 1024,
   "metadata": {},
   "outputs": [
    {
     "name": "stdout",
     "output_type": "stream",
     "text": [
      "Accuracy of random forest classifier on training set: 0.80\n"
     ]
    }
   ],
   "source": [
    "print('Accuracy of random forest classifier on training set: {:.2f}'\n",
    "     .format(rf.score(X_train, y_train)))"
   ]
  },
  {
   "cell_type": "code",
   "execution_count": 1025,
   "metadata": {},
   "outputs": [
    {
     "name": "stdout",
     "output_type": "stream",
     "text": [
      "              precision    recall  f1-score   support\n",
      "\n",
      "           0       0.81      0.94      0.87      2897\n",
      "           1       0.71      0.38      0.50      1046\n",
      "\n",
      "    accuracy                           0.80      3943\n",
      "   macro avg       0.76      0.66      0.68      3943\n",
      "weighted avg       0.78      0.80      0.77      3943\n",
      "\n"
     ]
    }
   ],
   "source": [
    "# Classification report\n",
    "print(classification_report(y_train, y_pred_rf))"
   ]
  },
  {
   "cell_type": "code",
   "execution_count": 1026,
   "metadata": {},
   "outputs": [
    {
     "name": "stdout",
     "output_type": "stream",
     "text": [
      "Accuracy of random forest classifier on Validate set: 0.79\n"
     ]
    }
   ],
   "source": [
    "# Compute the accuracy of the model when run on the validate dataset.\n",
    "\n",
    "print('Accuracy of random forest classifier on Validate set: {:.2f}'\n",
    "     .format(rf.score(X_validate, y_validate)))"
   ]
  },
  {
   "cell_type": "code",
   "execution_count": 1027,
   "metadata": {},
   "outputs": [
    {
     "name": "stdout",
     "output_type": "stream",
     "text": [
      "              precision    recall  f1-score   support\n",
      "\n",
      "           0       0.81      0.94      0.87      1242\n",
      "           1       0.70      0.37      0.49       449\n",
      "\n",
      "    accuracy                           0.79      1691\n",
      "   macro avg       0.75      0.66      0.68      1691\n",
      "weighted avg       0.78      0.79      0.77      1691\n",
      "\n"
     ]
    }
   ],
   "source": [
    "# Produce y_predictions that come from the X_validate\n",
    "y_pred_rfv = rf.predict(X_validate)\n",
    "\n",
    "# Compare actual y values (from validate) to predicted y_values from the model run on X_validate\n",
    "print(classification_report(y_validate, y_pred_rfv))"
   ]
  },
  {
   "cell_type": "markdown",
   "metadata": {},
   "source": [
    "##### <div class=\"alert alert-block alert-success\">The Random Forest model performs just as well on the Validate set as it did on the Train. </div>"
   ]
  },
  {
   "cell_type": "markdown",
   "metadata": {},
   "source": [
    "***\n",
    "Logistic Regression\n",
    "***"
   ]
  },
  {
   "cell_type": "code",
   "execution_count": 923,
   "metadata": {},
   "outputs": [],
   "source": [
    "# imports\n",
    "from sklearn.linear_model import LogisticRegression"
   ]
  },
  {
   "cell_type": "code",
   "execution_count": 924,
   "metadata": {},
   "outputs": [],
   "source": [
    "# Set logit hyperparameters\n",
    "logit = LogisticRegression(C=1, class_weight={0:1, 1:1}, random_state=123, intercept_scaling=True, solver='lbfgs')"
   ]
  },
  {
   "cell_type": "code",
   "execution_count": 925,
   "metadata": {},
   "outputs": [
    {
     "data": {
      "text/plain": [
       "LogisticRegression(C=1, class_weight={0: 1, 1: 1}, intercept_scaling=True,\n",
       "                   random_state=123)"
      ]
     },
     "execution_count": 925,
     "metadata": {},
     "output_type": "execute_result"
    }
   ],
   "source": [
    "# Fit the model\n",
    "logit.fit(X_train, y_train)"
   ]
  },
  {
   "cell_type": "code",
   "execution_count": 926,
   "metadata": {},
   "outputs": [
    {
     "name": "stdout",
     "output_type": "stream",
     "text": [
      "Coefficient: \n",
      " [[-0.03207236  0.02715592 -0.1336457  -0.69570829 -0.1983828   0.06989462\n",
      "  -0.22298605 -0.61098039 -0.64178491  0.35451692]]\n",
      "Intercept: \n",
      " [-0.26300623]\n"
     ]
    }
   ],
   "source": [
    "# Feature importance\n",
    "print('Coefficient: \\n', logit.coef_)\n",
    "print('Intercept: \\n', logit.intercept_)"
   ]
  },
  {
   "cell_type": "code",
   "execution_count": 927,
   "metadata": {},
   "outputs": [],
   "source": [
    "# Make Predictions\n",
    "y_predlog = logit.predict(X_train)"
   ]
  },
  {
   "cell_type": "code",
   "execution_count": 928,
   "metadata": {},
   "outputs": [
    {
     "name": "stdout",
     "output_type": "stream",
     "text": [
      "Accuracy of Logistic Regression classifier on training set: 0.80\n"
     ]
    }
   ],
   "source": [
    "print('Accuracy of Logistic Regression classifier on training set: {:.2f}'\n",
    "     .format(logit.score(X_train, y_train)))"
   ]
  },
  {
   "cell_type": "code",
   "execution_count": 929,
   "metadata": {},
   "outputs": [
    {
     "name": "stdout",
     "output_type": "stream",
     "text": [
      "              precision    recall  f1-score   support\n",
      "\n",
      "           0       0.84      0.90      0.87      2897\n",
      "           1       0.65      0.54      0.59      1046\n",
      "\n",
      "    accuracy                           0.80      3943\n",
      "   macro avg       0.75      0.72      0.73      3943\n",
      "weighted avg       0.79      0.80      0.79      3943\n",
      "\n"
     ]
    }
   ],
   "source": [
    "# Classification report\n",
    "print(classification_report(y_train, y_predlog))"
   ]
  },
  {
   "cell_type": "code",
   "execution_count": 930,
   "metadata": {},
   "outputs": [
    {
     "name": "stdout",
     "output_type": "stream",
     "text": [
      "Accuracy of random forest classifier on Validate set: 0.80\n"
     ]
    }
   ],
   "source": [
    "# Compute the accuracy of the model when run on the validate dataset.\n",
    "\n",
    "print('Accuracy of random forest classifier on Validate set: {:.2f}'\n",
    "     .format(logit.score(X_validate, y_validate)))"
   ]
  },
  {
   "cell_type": "code",
   "execution_count": 1028,
   "metadata": {},
   "outputs": [
    {
     "name": "stdout",
     "output_type": "stream",
     "text": [
      "              precision    recall  f1-score   support\n",
      "\n",
      "           0       0.84      0.90      0.87      1242\n",
      "           1       0.64      0.51      0.57       449\n",
      "\n",
      "    accuracy                           0.80      1691\n",
      "   macro avg       0.74      0.70      0.72      1691\n",
      "weighted avg       0.78      0.80      0.79      1691\n",
      "\n"
     ]
    }
   ],
   "source": [
    "# Produce y_predictions that come from the X_validate\n",
    "y_predlog_v = logit.predict(X_validate)\n",
    "\n",
    "# Compare actual y values (from validate) to predicted y_values from the model run on X_validate\n",
    "print(classification_report(y_validate, y_predlog_v))"
   ]
  },
  {
   "cell_type": "markdown",
   "metadata": {},
   "source": [
    "##### <div class=\"alert alert-block alert-success\">The Random Forest model performs just as well on the Validate set as it did on the Train.</div>"
   ]
  },
  {
   "cell_type": "code",
   "execution_count": 1053,
   "metadata": {},
   "outputs": [
    {
     "name": "stdout",
     "output_type": "stream",
     "text": [
      "              precision    recall  f1-score   support\n",
      "\n",
      "           0       0.84      0.86      0.85      1242\n",
      "           1       0.60      0.56      0.58       449\n",
      "\n",
      "    accuracy                           0.78      1691\n",
      "   macro avg       0.72      0.71      0.71      1691\n",
      "weighted avg       0.78      0.78      0.78      1691\n",
      "\n",
      "              precision    recall  f1-score   support\n",
      "\n",
      "           0       0.81      0.94      0.87      1242\n",
      "           1       0.70      0.37      0.49       449\n",
      "\n",
      "    accuracy                           0.79      1691\n",
      "   macro avg       0.75      0.66      0.68      1691\n",
      "weighted avg       0.78      0.79      0.77      1691\n",
      "\n",
      "              precision    recall  f1-score   support\n",
      "\n",
      "           0       0.84      0.90      0.87      1242\n",
      "           1       0.64      0.51      0.57       449\n",
      "\n",
      "    accuracy                           0.80      1691\n",
      "   macro avg       0.74      0.70      0.72      1691\n",
      "weighted avg       0.78      0.80      0.79      1691\n",
      "\n"
     ]
    }
   ],
   "source": [
    "# Compare classification reports across all 3 models\n",
    "print(classification_report(y_validate, y_predv))\n",
    "print(classification_report(y_validate, y_pred_rfv))\n",
    "print(classification_report(y_validate, y_predlog_v))"
   ]
  },
  {
   "cell_type": "markdown",
   "metadata": {},
   "source": [
    "#### Model Selection"
   ]
  },
  {
   "cell_type": "markdown",
   "metadata": {},
   "source": [
    "All three of my models hovered around the 80% accuracy rate.  Considering the Baseline threshold of ~74%, all three models provide some predictive value and appear to be fairly equivalent.  \n",
    "\n",
    "However, the goal of the project was to detect Churn candidates and taking that into consideration it isn't enough to just be accurate.  I have to further evaluate the models on their ability to capture as much of the Churn potential as possible.  For this I relied on the Recall stats and here there is a clear winner.  The Random Forest model was an obvious underperformer here with recall score of 37%.  There is value in potentially capturing these \"churners\" but when considering there are costs associated with recommending actions based on the model's predictions, there's a business need to maximize the reach of every dollar spent.   \n",
    "\n",
    "Switching focus on the my Decision Tree and Logistical Regression models, we get similar perfomance metrics making the decision a little less obvious.  My Logistic Regression model score is slightly more accurate but my Decision Tree model slightly outperforms on the Recall score.  From a cost benefit perspective, I believe the decision should fall on the model that better identifies positive churners when given relatively equal accuracy scores and, therefore, elect to utilize my Decision Tree model. \n"
   ]
  },
  {
   "cell_type": "markdown",
   "metadata": {},
   "source": [
    "***\n",
    "Model Test\n",
    "***"
   ]
  },
  {
   "cell_type": "code",
   "execution_count": 1032,
   "metadata": {},
   "outputs": [],
   "source": [
    "# Run the Decision Tree model on the test data"
   ]
  },
  {
   "cell_type": "code",
   "execution_count": 1035,
   "metadata": {},
   "outputs": [
    {
     "name": "stdout",
     "output_type": "stream",
     "text": [
      "Accuracy of Decision Tree classifier on test set: 0.79\n"
     ]
    }
   ],
   "source": [
    "print('Accuracy of Decision Tree classifier on test set: {:.2f}'\n",
    "      .format(clf.score(X_test, y_test)))"
   ]
  },
  {
   "cell_type": "code",
   "execution_count": 1036,
   "metadata": {},
   "outputs": [
    {
     "name": "stdout",
     "output_type": "stream",
     "text": [
      "              precision    recall  f1-score   support\n",
      "\n",
      "           0       0.86      0.86      0.86      1035\n",
      "           1       0.61      0.60      0.61       374\n",
      "\n",
      "    accuracy                           0.79      1409\n",
      "   macro avg       0.73      0.73      0.73      1409\n",
      "weighted avg       0.79      0.79      0.79      1409\n",
      "\n"
     ]
    }
   ],
   "source": [
    "# Produce y_predictions that come from the X_test\n",
    "y_predt = clf.predict(X_test)\n",
    "\n",
    "# Compare actual y values (from test) to predicted y_values from the model run on X_test\n",
    "print(classification_report(y_test, y_predt))"
   ]
  },
  {
   "cell_type": "markdown",
   "metadata": {},
   "source": [
    "\n",
    "<div class=\"alert alert-block alert-success\">Test results:  the recall and accuracy scores are in line with the test and validate results suggesting the model is nor over fit.  In fact, the Recall and Accuracy slightly improve which is supports the model selection.</div>\n"
   ]
  },
  {
   "cell_type": "markdown",
   "metadata": {},
   "source": [
    "# Recommendations"
   ]
  },
  {
   "cell_type": "markdown",
   "metadata": {},
   "source": [
    "During the exploration phase, I found two dynamics to be very interesting. \n",
    "* The first was the clear bias of customers to churn during the first 6 months.  \n",
    "* The second, was the rate at which churn accelerated after monthly charges rose above $65. \n",
    "\n",
    "In my opinion, the focus of any recommendation should be on maximizing retention within the first 6 months and that the focus of any recommendations should be cognizant of the monthly charge driver.  \n",
    "\n",
    "My initial assumption was that this frontloaded churn was indicative of immediate customer dissatisfaction with services (buyers remorse) which would have led me to focus more on the services provided during my exploration.  However, the tenure data also shows that customer \"loyalty\" is very high and, that after the first six months, churn rates significantly decline to levels that could be considered acceptable.  In my opinion, this suggests that customer satisfaction with services provided is not the primary driver.  \n",
    "\n",
    "Considering this binary profile, I decided to focus on exploring the relationships between the tenure and monthly charges data and the other data features.  There was a clear association between certain features across both of these leading me to believe that any recommendations should be focused on bridging the 6 month threshold by addressing the cost structure.  \n",
    "\n",
    "It is my belief that while tenure is definitely associated with churn, it is more of a correlation and that causation more likely lies in the monthly charges.  I believe the exploratory data findings supports this and therefore would recommend the following:\n",
    "\n",
    "* I would not currently recommend changing the actual cost structures on services\n",
    "\n",
    "* A reduction in upfront cost structures for services targeting the $65 threshold by offering:\n",
    "    * Initial discounts:\n",
    "        * on service contracts 1 year and above\n",
    "        * for subscribing to high cost services like Fiber Optics\n",
    "    * Service hooks:\n",
    "        * use promotional services (e.g. free streaming subscriptions, etc.) to drive customers towards the premium services\n",
    " \n",
    "On its face, these recommendations would appear to be counter-intuitive, but the data suggests high long-term user satisfaction.  Again, I'd like to reiterate that the data suggest the churn impact of current costs structures are bottlenecked in the first 6 month and that user behavior beyond this horizon suggest the current platform is a long term \"loyalty\" driver.  Considering this, the primary goal of any recommendations should be focused on overcoming the intial cost-structure shock and increase user/service interaction.   \n",
    "\n",
    "Additionally, I would note that the Senior Citizen data seemed anamolous.  The fact that these customers were being charged more on average and at the same time had a significant amount of outliers at the opposite cost spectrum was a \"red-flag\".  I eliminated this data set from my model but took away the fact that it is highly likely these customers are being mis-profiled during subscription intiation.  Taking this into consideration, it wouldn't be illogical to assume the same is occuring across all customer profiles and that churn could also be potentially reduced by## Next Steps training representatives to better profile potential customers.\n",
    "\n",
    "* On this front, I would recommend providing anonymous online and in-store survey options for customers to provide feedback on the service they received at sign up.  This may provide data that could allow us to further explore the potential mismatch between customer demand and services provided and the resulting impact on churn\n",
    "\n"
   ]
  },
  {
   "cell_type": "markdown",
   "metadata": {},
   "source": [
    "## Next Steps"
   ]
  },
  {
   "cell_type": "markdown",
   "metadata": {},
   "source": [
    "Note: Earlier in the Exploration phase, there were 3 features that had multiple sub-groupings. Within these sub-groupings, there were elements that appeared more significant to churn than the rest of the group.\n",
    "\n",
    "In order to try and improve on my model metrics, I would isolate these, drop the others from the group and adjust my features in the train, validate and test dfs."
   ]
  },
  {
   "cell_type": "markdown",
   "metadata": {},
   "source": [
    "## Potential Further exploration"
   ]
  },
  {
   "cell_type": "markdown",
   "metadata": {},
   "source": [
    "Given the my takeaway from the Senior Citizen data, if given the opportunity, I'd like to gather more data on the signup process.  I believe the anamolous senior citizen data is can be explained by poor customrer profilig and would like to explore this further.  Not only within this group but across the entire customer spectrum.  Perhaps, there are available complaints, customer surveys, etc. that could shed some light inot not only the sign up process but customer reaction."
   ]
  },
  {
   "cell_type": "markdown",
   "metadata": {},
   "source": [
    "#### Create .csv file containing customer ids, model probabilities and predictions"
   ]
  },
  {
   "cell_type": "code",
   "execution_count": 1047,
   "metadata": {},
   "outputs": [],
   "source": [
    "# Concat the train, validate & test dfs and reconstitute all observations\n",
    "csv_pred = pd.concat([train, validate, test], axis = 0)"
   ]
  },
  {
   "cell_type": "code",
   "execution_count": 1048,
   "metadata": {},
   "outputs": [],
   "source": [
    "# Separate concatenated df X & y\n",
    "csv_pred_X = csv_pred.drop(columns=['churn'])\n",
    "csv_pred_y = csv_pred.churn"
   ]
  },
  {
   "cell_type": "code",
   "execution_count": 1049,
   "metadata": {},
   "outputs": [],
   "source": [
    "# Run predictions\n",
    "predictions = pd.DataFrame({'churn_prediction': clf.predict(csv_pred_X)})"
   ]
  },
  {
   "cell_type": "code",
   "execution_count": 1050,
   "metadata": {},
   "outputs": [],
   "source": [
    "# Calculate probabilities\n",
    "churn_probability = pd.DataFrame({'churn_probability': clf.predict_proba(csv_pred_X)[:,1]})"
   ]
  },
  {
   "cell_type": "code",
   "execution_count": 1051,
   "metadata": {},
   "outputs": [],
   "source": [
    "# Concat customer_ids, probabilities and predictions into one df\n",
    "customer_ids = telco_df['customer_id']\n",
    "columns = [customer_ids, churn_probability, predictions]\n",
    "churn_predictions = pd.concat(columns, axis=1)\n"
   ]
  },
  {
   "cell_type": "code",
   "execution_count": 1052,
   "metadata": {},
   "outputs": [],
   "source": [
    "# convert predictions dataframe to .csv file and save in directory\n",
    "churn_predictions.to_csv('model_predictions.csv')"
   ]
  },
  {
   "cell_type": "code",
   "execution_count": null,
   "metadata": {},
   "outputs": [],
   "source": []
  }
 ],
 "metadata": {
  "kernelspec": {
   "display_name": "Python 3",
   "language": "python",
   "name": "python3"
  },
  "language_info": {
   "codemirror_mode": {
    "name": "ipython",
    "version": 3
   },
   "file_extension": ".py",
   "mimetype": "text/x-python",
   "name": "python",
   "nbconvert_exporter": "python",
   "pygments_lexer": "ipython3",
   "version": "3.8.5"
  }
 },
 "nbformat": 4,
 "nbformat_minor": 4
}
